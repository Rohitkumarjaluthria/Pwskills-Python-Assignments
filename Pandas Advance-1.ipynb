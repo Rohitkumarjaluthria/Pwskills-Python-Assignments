{
 "cells": [
  {
   "cell_type": "markdown",
   "id": "000d2dc9",
   "metadata": {},
   "source": [
    "Q1. List any five functions of the pandas library with execution.\n",
    "\n",
    "read_csv(): This function is used to read data from a CSV file and create a DataFrame."
   ]
  },
  {
   "cell_type": "markdown",
   "id": "000161f1",
   "metadata": {},
   "source": [
    "import pandas as pd\n",
    "\n",
    "data = pd.read_csv('data.csv')\n",
    "\n",
    "print(data)\n",
    "\n",
    "head(): This function is used to display the first few rows of a DataFrame.\n",
    " \n",
    "import pandas as pd\n",
    "\n",
    "data = pd.read_csv('data.csv')\n",
    "\n",
    "print(data.head())\n",
    "\n",
    "describe(): This function provides descriptive statistics of a DataFrame, such as count, mean, min, max, etc.\n",
    "\n",
    "import pandas as pd\n",
    "\n",
    "data = pd.read_csv('data.csv')\n",
    "\n",
    "print(data.describe())\n",
    "\n",
    "groupby(): This function is used to group data based on one or more columns and perform aggregations on the groups.\n",
    "\n",
    "import pandas as pd\n",
    "\n",
    "data = pd.read_csv('data.csv')\n",
    "\n",
    "grouped_data = data.groupby('category')['sales'].sum()\n",
    "\n",
    "print(grouped_data)\n",
    "\n",
    "to_csv(): This function is used to save a DataFrame to a CSV file.\n",
    "\n",
    "import pandas as pd\n",
    "\n",
    "data = pd.read_csv('data.csv')\n",
    "\n",
    "data.to_csv('new_data.csv', index=False)"
   ]
  },
  {
   "cell_type": "markdown",
   "id": "47d261ef",
   "metadata": {},
   "source": [
    "Q2. Given a Pandas DataFrame df with columns 'A', 'B', and 'C', write a Python function to re-index the\n",
    "DataFrame with a new index that starts from 1 and increments by 2 for each row."
   ]
  },
  {
   "cell_type": "code",
   "execution_count": 10,
   "id": "b68bae77",
   "metadata": {},
   "outputs": [
    {
     "name": "stdout",
     "output_type": "stream",
     "text": [
      "Original DataFrame:\n",
      "    A   B   C\n",
      "0  10  40  70\n",
      "1  20  50  80\n",
      "2  30  60  90\n",
      "Reindexed DataFrame:\n",
      "            A   B   C\n",
      "new_index            \n",
      "1          10  40  70\n",
      "3          20  50  80\n",
      "5          30  60  90\n"
     ]
    }
   ],
   "source": [
    "import pandas as pd\n",
    "\n",
    "def reindex_dataframe(df):\n",
    "    df['new_index'] = range(1, len(df)*2, 2)\n",
    "    df = df.set_index('new_index')\n",
    "    return df\n",
    "\n",
    "data = {'A': [10, 20, 30], 'B': [40, 50, 60], 'C': [70, 80, 90]}\n",
    "df = pd.DataFrame(data)\n",
    "print(\"Original DataFrame:\")\n",
    "print(df)\n",
    "\n",
    "df = reindex_dataframe(df)\n",
    "print(\"Reindexed DataFrame:\")\n",
    "print(df)\n"
   ]
  },
  {
   "cell_type": "markdown",
   "id": "92dea381",
   "metadata": {},
   "source": [
    "Q3. You have a Pandas DataFrame df with a column named 'Values'. Write a Python function that\n",
    "iterates over the DataFrame and calculates the sum of the first three values in the 'Values' column. The\n",
    "function should print the sum to the console.\n",
    "\n",
    "For example, if the 'Values' column of df contains the values [10, 20, 30, 40, 50], your function should\n",
    "calculate and print the sum of the first three values, which is 60."
   ]
  },
  {
   "cell_type": "code",
   "execution_count": 11,
   "id": "3896efc5",
   "metadata": {},
   "outputs": [
    {
     "name": "stdout",
     "output_type": "stream",
     "text": [
      "DataFrame:\n",
      "   Values\n",
      "0      10\n",
      "1      20\n",
      "2      30\n",
      "3      40\n",
      "4      50\n",
      "Sum of the first three values: 60\n"
     ]
    }
   ],
   "source": [
    "import pandas as pd\n",
    "\n",
    "def calculate_sum(df):\n",
    "    sum_values = sum(df['Values'].head(3))\n",
    "    print(\"Sum of the first three values:\", sum_values)\n",
    "\n",
    "data = {'Values': [10, 20, 30, 40, 50]}\n",
    "df = pd.DataFrame(data)\n",
    "print(\"DataFrame:\")\n",
    "print(df)\n",
    "\n",
    "calculate_sum(df)\n"
   ]
  },
  {
   "cell_type": "markdown",
   "id": "eb21f2d6",
   "metadata": {},
   "source": [
    "Q4. Given a Pandas DataFrame df with a column 'Text', write a Python function to create a new column\n",
    "'Word_Count' that contains the number of words in each row of the 'Text' column."
   ]
  },
  {
   "cell_type": "code",
   "execution_count": 12,
   "id": "17ea7351",
   "metadata": {},
   "outputs": [
    {
     "name": "stdout",
     "output_type": "stream",
     "text": [
      "                  Text  Word_Count\n",
      "0  Hello, how are you?           4\n",
      "1    I am doing great!           4\n",
      "2    Python is awesome           3\n"
     ]
    }
   ],
   "source": [
    "import pandas as pd\n",
    "\n",
    "def add_word_count(df):\n",
    "    df['Word_Count'] = df['Text'].apply(lambda x: len(str(x).split()))\n",
    "\n",
    "    return df\n",
    "\n",
    "df = pd.DataFrame({'Text': ['Hello, how are you?', 'I am doing great!', 'Python is awesome']})\n",
    "df = add_word_count(df)\n",
    "print(df)\n"
   ]
  },
  {
   "cell_type": "markdown",
   "id": "6497fbd1",
   "metadata": {},
   "source": [
    "Q5. How are DataFrame.size() and DataFrame.shape() different?\n",
    "\n",
    "The DataFrame.size and DataFrame.shape methods in Pandas provide different information about the DataFrame:\n",
    "\n",
    "DataFrame.size:\n",
    "\n",
    "DataFrame.size returns the total number of elements in the DataFrame.\n",
    "It calculates the size by multiplying the number of rows (DataFrame.shape[0]) by the number of columns (DataFrame.shape[1]).\n",
    "The returned value is an integer representing the total number of elements in the DataFrame, including both data values and missing values (NaNs).\n",
    "It does not provide information about the structure or dimensions of the DataFrame.\n",
    "\n",
    "DataFrame.shape:\n",
    "\n",
    "DataFrame.shape returns a tuple representing the dimensions of the DataFrame.\n",
    "The tuple contains two elements: the number of rows and the number of columns, respectively.\n",
    "The returned values are integers.\n",
    "It provides information about the structure of the DataFrame, indicating the number of rows and columns."
   ]
  },
  {
   "cell_type": "code",
   "execution_count": 14,
   "id": "09f2b589",
   "metadata": {},
   "outputs": [
    {
     "name": "stdout",
     "output_type": "stream",
     "text": [
      "DataFrame.size: 6\n",
      "DataFrame.shape: (3, 2)\n"
     ]
    }
   ],
   "source": [
    "import pandas as pd\n",
    "\n",
    "data = {'A': [1, 2, 3], 'B': [4, 5, 6]}\n",
    "df = pd.DataFrame(data)\n",
    "\n",
    "print(\"DataFrame.size:\", df.size)\n",
    "print(\"DataFrame.shape:\", df.shape)\n"
   ]
  },
  {
   "cell_type": "markdown",
   "id": "e773398a",
   "metadata": {},
   "source": [
    "Q6. Which function of pandas do we use to read an excel file?\n",
    "\n",
    "import pandas as pd\n",
    "\n",
    "df = pd.read_excel('path/to/file.xlsx')\n",
    "\n",
    "print(df)\n"
   ]
  },
  {
   "cell_type": "markdown",
   "id": "cb6592b2",
   "metadata": {},
   "source": [
    "Q7. You have a Pandas DataFrame df that contains a column named 'Email' that contains email\n",
    "addresses in the format 'username@domain.com'. Write a Python function that creates a new column\n",
    "'Username' in df that contains only the username part of each email address.\n",
    "The username is the part of the email address that appears before the '@' symbol. For example, if the\n",
    "email address is 'john.doe@example.com', the 'Username' column should contain 'john.doe'. Your\n",
    "function should extract the username from each email address and store it in the new 'Username'\n",
    "column."
   ]
  },
  {
   "cell_type": "code",
   "execution_count": 15,
   "id": "cfe6c336",
   "metadata": {},
   "outputs": [
    {
     "name": "stdout",
     "output_type": "stream",
     "text": [
      "                    Email    Username\n",
      "0    john.doe@example.com    john.doe\n",
      "1  jane.smith@example.com  jane.smith\n"
     ]
    }
   ],
   "source": [
    "import pandas as pd\n",
    "\n",
    "def extract_username(df):\n",
    "    df['Username'] = df['Email'].str.split('@').str[0]\n",
    "\n",
    "    return df\n",
    "\n",
    "df = pd.DataFrame({'Email': ['john.doe@example.com', 'jane.smith@example.com']})\n",
    "df = extract_username(df)\n",
    "print(df)\n"
   ]
  },
  {
   "cell_type": "code",
   "execution_count": 19,
   "id": "7b22e128",
   "metadata": {},
   "outputs": [
    {
     "name": "stdout",
     "output_type": "stream",
     "text": [
      "   A  B  C\n",
      "1  8  2  7\n",
      "2  6  9  4\n",
      "4  9  1  2\n"
     ]
    }
   ],
   "source": [
    "\"\"\"Q8. You have a Pandas DataFrame df with columns 'A', 'B', and 'C'. Write a Python function that selects\n",
    "all rows where the value in column 'A' is greater than 5 and the value in column 'B' is less than 10. The\n",
    "function should return a new DataFrame that contains only the selected rows.\n",
    "For example, if df contains the following values:\n",
    "A B C\n",
    "0 3 5 1\n",
    "1 8 2 7\n",
    "2 6 9 4\n",
    "3 2 3 5\n",
    "4 9 1 2\n",
    "Your function should select the following rows: A B C\n",
    "1 8 2 7\n",
    "4 9 1 2\n",
    "The function should return a new DataFrame that contains only the selected rows.\"\"\"\n",
    "\n",
    "import pandas as pd\n",
    "\n",
    "def select_rows(df):\n",
    "    selected_rows = df[(df['A'] > 5) & (df['B'] < 10)]\n",
    "\n",
    "    return selected_rows\n",
    "\n",
    "df = pd.DataFrame({'A': [3, 8, 6, 2, 9],\n",
    "                   'B': [5, 2, 9, 3, 1],\n",
    "                   'C': [1, 7, 4, 5, 2]})\n",
    "selected_df = select_rows(df)\n",
    "print(selected_df)\n"
   ]
  },
  {
   "cell_type": "code",
   "execution_count": 20,
   "id": "4c4ca0f4",
   "metadata": {},
   "outputs": [
    {
     "name": "stdout",
     "output_type": "stream",
     "text": [
      "Mean: 3.0\n",
      "Median: 3.0\n",
      "Standard Deviation: 1.5811388300841898\n"
     ]
    }
   ],
   "source": [
    "\"\"\"Q9. Given a Pandas DataFrame df with a column 'Values', write a Python function to calculate the mean,\n",
    "median, and standard deviation of the values in the 'Values' column.\"\"\"\n",
    "\n",
    "import pandas as pd\n",
    "\n",
    "def calculate_stats(df):\n",
    "    mean_value = df['Values'].mean()\n",
    "    median_value = df['Values'].median()\n",
    "    std_value = df['Values'].std()\n",
    "\n",
    "    return mean_value, median_value, std_value\n",
    "\n",
    "df = pd.DataFrame({'Values': [1, 2, 3, 4, 5]})\n",
    "mean, median, std = calculate_stats(df)\n",
    "print(\"Mean:\", mean)\n",
    "print(\"Median:\", median)\n",
    "print(\"Standard Deviation:\", std)\n"
   ]
  },
  {
   "cell_type": "code",
   "execution_count": 21,
   "id": "26e2bc01",
   "metadata": {},
   "outputs": [
    {
     "name": "stdout",
     "output_type": "stream",
     "text": [
      "        Date  Sales  MovingAverage\n",
      "0 2023-01-01      5       5.000000\n",
      "1 2023-01-02      8       6.500000\n",
      "2 2023-01-03      6       6.333333\n",
      "3 2023-01-04     10       7.250000\n",
      "4 2023-01-05     12       8.200000\n",
      "5 2023-01-06      7       8.000000\n",
      "6 2023-01-07      9       8.142857\n",
      "7 2023-01-08     11       9.000000\n",
      "8 2023-01-09     15      10.000000\n",
      "9 2023-01-10     13      11.000000\n"
     ]
    }
   ],
   "source": [
    "\"\"\"Q10. Given a Pandas DataFrame df with a column 'Sales' and a column 'Date', write a Python function to\n",
    "create a new column 'MovingAverage' that contains the moving average of the sales for the past 7 days\n",
    "for each row in the DataFrame. The moving average should be calculated using a window of size 7 and\n",
    "should include the current day.\"\"\"\n",
    "\n",
    "import pandas as pd\n",
    "\n",
    "def calculate_moving_average(df):\n",
    "    df = df.sort_values('Date')\n",
    "\n",
    "    df['MovingAverage'] = df['Sales'].rolling(window=7, min_periods=1).mean()\n",
    "\n",
    "    return df\n",
    "\n",
    "df = pd.DataFrame({'Date': pd.date_range(start='2023-01-01', periods=10),\n",
    "                   'Sales': [5, 8, 6, 10, 12, 7, 9, 11, 15, 13]})\n",
    "df = calculate_moving_average(df)\n",
    "print(df)\n"
   ]
  },
  {
   "cell_type": "code",
   "execution_count": 22,
   "id": "f9e99c13",
   "metadata": {},
   "outputs": [
    {
     "name": "stdout",
     "output_type": "stream",
     "text": [
      "        Date    Weekday\n",
      "0 2023-01-01     Sunday\n",
      "1 2023-01-02     Monday\n",
      "2 2023-01-03    Tuesday\n",
      "3 2023-01-04  Wednesday\n",
      "4 2023-01-05   Thursday\n"
     ]
    }
   ],
   "source": [
    "\"\"\"Q11. You have a Pandas DataFrame df with a column 'Date'. Write a Python function that creates a new\n",
    "column 'Weekday' in the DataFrame. The 'Weekday' column should contain the weekday name (e.g.\n",
    "Monday, Tuesday) corresponding to each date in the 'Date' column.\n",
    "For example, if df contains the following values:\n",
    "Date\n",
    "0 2023-01-01\n",
    "1 2023-01-02\n",
    "2 2023-01-03\n",
    "3 2023-01-04\n",
    "4 2023-01-05\n",
    "Your function should create the following DataFrame:\n",
    "\n",
    "Date Weekday\n",
    "0 2023-01-01 Sunday\n",
    "1 2023-01-02 Monday\n",
    "2 2023-01-03 Tuesday\n",
    "3 2023-01-04 Wednesday\n",
    "4 2023-01-05 Thursday\n",
    "The function should return the modified DataFrame.\"\"\"\n",
    "\n",
    "import pandas as pd\n",
    "\n",
    "def add_weekday_column(df):\n",
    "    df['Date'] = pd.to_datetime(df['Date'])\n",
    "\n",
    "    df['Weekday'] = df['Date'].dt.day_name()\n",
    "\n",
    "    return df\n",
    "\n",
    "df = pd.DataFrame({'Date': ['2023-01-01', '2023-01-02', '2023-01-03', '2023-01-04', '2023-01-05']})\n",
    "df = add_weekday_column(df)\n",
    "print(df)\n"
   ]
  },
  {
   "cell_type": "code",
   "execution_count": 23,
   "id": "07c8a3c2",
   "metadata": {},
   "outputs": [
    {
     "name": "stdout",
     "output_type": "stream",
     "text": [
      "        Date\n",
      "0 2023-01-01\n",
      "1 2023-01-15\n",
      "2 2023-01-31\n"
     ]
    }
   ],
   "source": [
    "\"\"\"Q12. Given a Pandas DataFrame df with a column 'Date' that contains timestamps, write a Python\n",
    "function to select all rows where the date is between '2023-01-01' and '2023-01-31'. \"\"\"\n",
    "\n",
    "import pandas as pd\n",
    "\n",
    "def select_rows_between_dates(df):\n",
    "    df['Date'] = pd.to_datetime(df['Date'])\n",
    "\n",
    "    filtered_df = df[(df['Date'] >= '2023-01-01') & (df['Date'] <= '2023-01-31')]\n",
    "\n",
    "    return filtered_df\n",
    "\n",
    "df = pd.DataFrame({'Date': ['2023-01-01', '2023-01-15', '2023-01-31', '2023-02-05']})\n",
    "filtered_df = select_rows_between_dates(df)\n",
    "print(filtered_df)\n"
   ]
  },
  {
   "cell_type": "markdown",
   "id": "e1a779f2",
   "metadata": {},
   "source": [
    "Q13. To use the basic functions of pandas, what is the first and foremost necessary library that needs to\n",
    "be imported?\n",
    "\n",
    "To use the basic functions of pandas, the first and foremost library that needs to be imported is pandas itself. Pandas is an open-source data manipulation and analysis library for Python, and it provides a wide range of functionalities for working with structured data.\n",
    "\n",
    "To import the pandas library, you can use the following import statement at the beginning of your Python script or notebook:\n",
    "\n",
    "\n",
    "import pandas as pd\n",
    "\n",
    "This import statement imports the pandas library and assigns it the alias pd. Using pd as the alias is a common convention in the pandas community and makes it easier to reference pandas functions and objects throughout your code.\n",
    "\n",
    "Once you have imported pandas, you can then use various pandas functions and methods to read, manipulate, and analyze your data."
   ]
  },
  {
   "cell_type": "code",
   "execution_count": null,
   "id": "b54fcda1",
   "metadata": {},
   "outputs": [],
   "source": []
  }
 ],
 "metadata": {
  "kernelspec": {
   "display_name": "Python 3 (ipykernel)",
   "language": "python",
   "name": "python3"
  },
  "language_info": {
   "codemirror_mode": {
    "name": "ipython",
    "version": 3
   },
   "file_extension": ".py",
   "mimetype": "text/x-python",
   "name": "python",
   "nbconvert_exporter": "python",
   "pygments_lexer": "ipython3",
   "version": "3.9.13"
  }
 },
 "nbformat": 4,
 "nbformat_minor": 5
}
