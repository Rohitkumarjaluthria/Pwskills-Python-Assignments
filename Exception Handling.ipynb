{
 "cells": [
  {
   "cell_type": "markdown",
   "id": "9c0664c5",
   "metadata": {},
   "source": [
    "## Q1. Wht is n Exception in python? Write the difference  between Exceptions nd syntax errors."
   ]
  },
  {
   "cell_type": "markdown",
   "id": "f71f308c",
   "metadata": {},
   "source": [
    "An exception is an event that occurs during the execution of a program, disrupting the normal flow of the program's instructions. When an exception occurs, the program stops executing the current code and jumps to a special code block called an exception handler. Exceptions provide a way to handle errors and exceptional situations in a controlled manner."
   ]
  },
  {
   "cell_type": "markdown",
   "id": "cbae0d41",
   "metadata": {},
   "source": [
    "differences between exceptions and syntax errors are:\n",
    "\n",
    "Syntax errors occur during the parsing phase before the code is executed, while exceptions occur during program execution.\n",
    "\n",
    "Syntax errors are caused by violating the rules of the programming language's syntax, while exceptions occur when an error condition arises during the program's execution.\n",
    "\n",
    "Syntax errors prevent the code from running altogether, while exceptions can be caught and handled using try-except blocks, allowing the program to handle errors gracefully and continue execution.\n",
    "\n",
    "Syntax errors are detected by the Python interpreter, while exceptions can be raised explicitly by the programmer or automatically when an error condition occurs.\n",
    "\n",
    "Syntax errors need to be fixed by correcting the code's syntax, while exceptions can be handled by providing appropriate error-handling mechanisms in the program."
   ]
  },
  {
   "cell_type": "markdown",
   "id": "9f013524",
   "metadata": {},
   "source": [
    "# Q2. What happens when an exception is not handled? Explain with an exmple  "
   ]
  },
  {
   "cell_type": "code",
   "execution_count": 4,
   "id": "21f523ba",
   "metadata": {},
   "outputs": [
    {
     "ename": "ZeroDivisionError",
     "evalue": "division by zero",
     "output_type": "error",
     "traceback": [
      "\u001b[1;31m---------------------------------------------------------------------------\u001b[0m",
      "\u001b[1;31mZeroDivisionError\u001b[0m                         Traceback (most recent call last)",
      "\u001b[1;32m~\\AppData\\Local\\Temp\\ipykernel_8212\\2725042898.py\u001b[0m in \u001b[0;36m<module>\u001b[1;34m\u001b[0m\n\u001b[0;32m      8\u001b[0m \u001b[1;33m\u001b[0m\u001b[0m\n\u001b[0;32m      9\u001b[0m \u001b[1;31m# Attempt to divide 10 by 0, which raises a ZeroDivisionError\u001b[0m\u001b[1;33m\u001b[0m\u001b[1;33m\u001b[0m\u001b[0m\n\u001b[1;32m---> 10\u001b[1;33m \u001b[0mresult\u001b[0m \u001b[1;33m=\u001b[0m \u001b[0mdivide\u001b[0m\u001b[1;33m(\u001b[0m\u001b[1;36m10\u001b[0m\u001b[1;33m,\u001b[0m \u001b[1;36m0\u001b[0m\u001b[1;33m)\u001b[0m\u001b[1;33m\u001b[0m\u001b[1;33m\u001b[0m\u001b[0m\n\u001b[0m\u001b[0;32m     11\u001b[0m \u001b[0mprint\u001b[0m\u001b[1;33m(\u001b[0m\u001b[0mresult\u001b[0m\u001b[1;33m)\u001b[0m\u001b[1;33m\u001b[0m\u001b[1;33m\u001b[0m\u001b[0m\n\u001b[0;32m     12\u001b[0m \u001b[1;33m\u001b[0m\u001b[0m\n",
      "\u001b[1;32m~\\AppData\\Local\\Temp\\ipykernel_8212\\2725042898.py\u001b[0m in \u001b[0;36mdivide\u001b[1;34m(a, b)\u001b[0m\n\u001b[0;32m      4\u001b[0m \u001b[1;33m\u001b[0m\u001b[0m\n\u001b[0;32m      5\u001b[0m \u001b[1;32mdef\u001b[0m \u001b[0mdivide\u001b[0m\u001b[1;33m(\u001b[0m\u001b[0ma\u001b[0m\u001b[1;33m,\u001b[0m \u001b[0mb\u001b[0m\u001b[1;33m)\u001b[0m\u001b[1;33m:\u001b[0m\u001b[1;33m\u001b[0m\u001b[1;33m\u001b[0m\u001b[0m\n\u001b[1;32m----> 6\u001b[1;33m     \u001b[0mresult\u001b[0m \u001b[1;33m=\u001b[0m \u001b[0ma\u001b[0m \u001b[1;33m/\u001b[0m \u001b[0mb\u001b[0m\u001b[1;33m\u001b[0m\u001b[1;33m\u001b[0m\u001b[0m\n\u001b[0m\u001b[0;32m      7\u001b[0m     \u001b[1;32mreturn\u001b[0m \u001b[0mresult\u001b[0m\u001b[1;33m\u001b[0m\u001b[1;33m\u001b[0m\u001b[0m\n\u001b[0;32m      8\u001b[0m \u001b[1;33m\u001b[0m\u001b[0m\n",
      "\u001b[1;31mZeroDivisionError\u001b[0m: division by zero"
     ]
    }
   ],
   "source": [
    "#When an exception is not handled in Python, it leads to the termination of the program \n",
    "# and the printing of an error message that describes the exception and its traceback. \n",
    "# This behavior is known as an unhandled exception.\n",
    "\n",
    "def divide(a, b):\n",
    "    result = a / b\n",
    "    return result\n",
    "\n",
    "# Attempt to divide 10 by 0, which raises a ZeroDivisionError\n",
    "result = divide(10, 0)\n",
    "print(result)\n",
    "\n",
    "'''In this example, the divide() function attempts to divide a number by zero, which raises a ZeroDivisionError exception. \n",
    "Since there is no exception handling code present, the exception propagates up the call stack until it reaches the main program.\n",
    "At that point, the program terminates and an error message is displayed'''"
   ]
  },
  {
   "cell_type": "markdown",
   "id": "c12bbd95",
   "metadata": {},
   "source": [
    "\n",
    "# Q3. Which Python sttements are used to catch and handle exceptions? Explain with an exmple"
   ]
  },
  {
   "cell_type": "code",
   "execution_count": 5,
   "id": "275d9eaa",
   "metadata": {},
   "outputs": [
    {
     "name": "stdout",
     "output_type": "stream",
     "text": [
      "Division result: 5.0\n",
      "Error: Division by zero is not allowed.\n"
     ]
    }
   ],
   "source": [
    "#In Python, the try-except statements are used to catch and handle exceptions. \n",
    "#The try block contains the code that may potentially raise an exception, \n",
    "#and the except block specifies the code to be executed when a specific exception occurs.\n",
    "\n",
    "def divide(a, b):\n",
    "    try:\n",
    "        result = a / b\n",
    "        print(\"Division result:\", result)\n",
    "    except ZeroDivisionError:\n",
    "        print(\"Error: Division by zero is not allowed.\")\n",
    "\n",
    "# Example 1: Division with a non-zero denominator\n",
    "divide(10, 2)\n",
    "\n",
    "# Example 2: Division by zero\n",
    "divide(10, 0)"
   ]
  },
  {
   "cell_type": "markdown",
   "id": "7a129bbf",
   "metadata": {},
   "source": [
    "# Q4. Explain with an exmple:\n",
    "\n",
    "try and else\n",
    "\n",
    "finally\n",
    "\n",
    "raise"
   ]
  },
  {
   "cell_type": "code",
   "execution_count": 7,
   "id": "778d0c3d",
   "metadata": {},
   "outputs": [
    {
     "name": "stdout",
     "output_type": "stream",
     "text": [
      "Division result: 5.0\n",
      "End of division operation.\n",
      "Error: Division by zero is not allowed.\n",
      "End of division operation.\n",
      "End of division operation.\n"
     ]
    },
    {
     "ename": "TypeError",
     "evalue": "unsupported operand type(s) for /: 'int' and 'str'",
     "output_type": "error",
     "traceback": [
      "\u001b[1;31m---------------------------------------------------------------------------\u001b[0m",
      "\u001b[1;31mTypeError\u001b[0m                                 Traceback (most recent call last)",
      "\u001b[1;32m~\\AppData\\Local\\Temp\\ipykernel_8212\\1139360794.py\u001b[0m in \u001b[0;36m<module>\u001b[1;34m\u001b[0m\n\u001b[0;32m     18\u001b[0m \u001b[1;33m\u001b[0m\u001b[0m\n\u001b[0;32m     19\u001b[0m \u001b[1;31m# Example 3: Division with non-integer operands\u001b[0m\u001b[1;33m\u001b[0m\u001b[1;33m\u001b[0m\u001b[0m\n\u001b[1;32m---> 20\u001b[1;33m \u001b[0mdivide\u001b[0m\u001b[1;33m(\u001b[0m\u001b[1;36m10\u001b[0m\u001b[1;33m,\u001b[0m \u001b[1;34m\"2\"\u001b[0m\u001b[1;33m)\u001b[0m\u001b[1;33m\u001b[0m\u001b[1;33m\u001b[0m\u001b[0m\n\u001b[0m\u001b[0;32m     21\u001b[0m \u001b[1;31m#TypeError: unsupported operand type(s) for /: 'int' and 'str'\u001b[0m\u001b[1;33m\u001b[0m\u001b[1;33m\u001b[0m\u001b[0m\n",
      "\u001b[1;32m~\\AppData\\Local\\Temp\\ipykernel_8212\\1139360794.py\u001b[0m in \u001b[0;36mdivide\u001b[1;34m(a, b)\u001b[0m\n\u001b[0;32m      1\u001b[0m \u001b[1;32mdef\u001b[0m \u001b[0mdivide\u001b[0m\u001b[1;33m(\u001b[0m\u001b[0ma\u001b[0m\u001b[1;33m,\u001b[0m \u001b[0mb\u001b[0m\u001b[1;33m)\u001b[0m\u001b[1;33m:\u001b[0m\u001b[1;33m\u001b[0m\u001b[1;33m\u001b[0m\u001b[0m\n\u001b[0;32m      2\u001b[0m     \u001b[1;32mtry\u001b[0m\u001b[1;33m:\u001b[0m\u001b[1;33m\u001b[0m\u001b[1;33m\u001b[0m\u001b[0m\n\u001b[1;32m----> 3\u001b[1;33m         \u001b[0mresult\u001b[0m \u001b[1;33m=\u001b[0m \u001b[0ma\u001b[0m \u001b[1;33m/\u001b[0m \u001b[0mb\u001b[0m\u001b[1;33m\u001b[0m\u001b[1;33m\u001b[0m\u001b[0m\n\u001b[0m\u001b[0;32m      4\u001b[0m     \u001b[1;32mexcept\u001b[0m \u001b[0mZeroDivisionError\u001b[0m\u001b[1;33m:\u001b[0m\u001b[1;33m\u001b[0m\u001b[1;33m\u001b[0m\u001b[0m\n\u001b[0;32m      5\u001b[0m         \u001b[0mprint\u001b[0m\u001b[1;33m(\u001b[0m\u001b[1;34m\"Error: Division by zero is not allowed.\"\u001b[0m\u001b[1;33m)\u001b[0m\u001b[1;33m\u001b[0m\u001b[1;33m\u001b[0m\u001b[0m\n",
      "\u001b[1;31mTypeError\u001b[0m: unsupported operand type(s) for /: 'int' and 'str'"
     ]
    }
   ],
   "source": [
    "def divide(a, b):\n",
    "    try:\n",
    "        result = a / b\n",
    "    except ZeroDivisionError:\n",
    "        print(\"Error: Division by zero is not allowed.\")\n",
    "    else:\n",
    "        print(\"Division result:\", result)\n",
    "    finally:\n",
    "        print(\"End of division operation.\")\n",
    "\n",
    "# Example 1: Division with a non-zero denominator\n",
    "divide(10, 2)\n",
    "#End of division operation.\n",
    "\n",
    "# Example 2: Division by zero\n",
    "divide(10, 0)\n",
    "#End of division operation.\n",
    "\n",
    "# Example 3: Division with non-integer operands\n",
    "divide(10, \"2\")\n",
    "#TypeError: unsupported operand type(s) for /: 'int' and 'str'\n"
   ]
  },
  {
   "cell_type": "markdown",
   "id": "5b53d624",
   "metadata": {},
   "source": [
    "In the above example, the divide() function attempts to perform division between two numbers. Let's understand the behavior of different parts:\n",
    "\n",
    "try block: The division operation result = a / b is placed within the try block. It is the code that may potentially raise an exception.\n",
    "\n",
    "except block: The except block catches specific exceptions and specifies the code to be executed when an exception occurs. In this example, ZeroDivisionError is caught, and an appropriate error message is printed.\n",
    "\n",
    "else block: The else block is executed if no exception occurs in the try block. In this example, if the division is successful, the division result is printed.\n",
    "\n",
    "finally block: The finally block is always executed, regardless of whether an exception occurs or not. It is useful for performing cleanup or finalizing operations. In this example, it simply prints a message indicating the end of the division operation.\n",
    "\n",
    "raise statement: The raise statement is used to explicitly raise an exception. It can be used within the try block or in other parts of the code. In this example, we didn't explicitly use the raise statement, but it can be used to raise exceptions programmatically when certain conditions are met."
   ]
  },
  {
   "cell_type": "markdown",
   "id": "2a785ea9",
   "metadata": {},
   "source": [
    "## Q5. What are Custom Exceptions in python? Why do we need Custom Exceptions? Explain with an exmple. "
   ]
  },
  {
   "cell_type": "markdown",
   "id": "ab3ae83d",
   "metadata": {},
   "source": [
    "Custom exceptions in Python are user-defined exceptions that extend the base Exception class. They are created to handle specific errors or exceptional conditions that may occur in a program. Custom exceptions provide a way to categorize and differentiate different types of errors and allow for more specific error handling.\n",
    "\n",
    "We need custom exceptions for the following reasons:\n",
    "\n",
    "Specific Error Handling: Custom exceptions help in providing more detailed information about the specific error or exceptional condition that occurred. By defining custom exceptions, we can raise and catch specific types of exceptions and handle them differently based on the situation.\n",
    "\n",
    "Code Organization: Custom exceptions help in organizing code by categorizing related exceptions together. It makes the code more modular and readable by separating different types of exceptions into their respective custom exception classes.\n",
    "\n",
    "Reusability: Custom exceptions can be reused across multiple parts of the codebase. Once defined, they can be raised and caught in different functions, modules, or classes, providing consistent error handling throughout the program."
   ]
  },
  {
   "cell_type": "code",
   "execution_count": 9,
   "id": "2ca66fd2",
   "metadata": {},
   "outputs": [
    {
     "name": "stdout",
     "output_type": "stream",
     "text": [
      "Insufficient balance to withdraw.\n"
     ]
    }
   ],
   "source": [
    "class InsufficientBalanceError(Exception):\n",
    "    pass\n",
    "\n",
    "class BankAccount:\n",
    "    def __init__(self, balance):\n",
    "        self.balance = balance\n",
    "    \n",
    "    def withdraw(self, amount):\n",
    "        if amount > self.balance:\n",
    "            raise InsufficientBalanceError(\"Insufficient balance to withdraw.\")\n",
    "        self.balance -= amount\n",
    "        print(f\"Withdrew {amount}. New balance: {self.balance}\")\n",
    "\n",
    "account = BankAccount(1000)\n",
    "try:\n",
    "    account.withdraw(1500)\n",
    "except InsufficientBalanceError as error:\n",
    "    print(error)\n"
   ]
  },
  {
   "cell_type": "markdown",
   "id": "8cbcab39",
   "metadata": {},
   "source": [
    "# Q6. Create custom exception class. Use this class to handle an exception. \n"
   ]
  },
  {
   "cell_type": "code",
   "execution_count": 10,
   "id": "493f054a",
   "metadata": {},
   "outputs": [
    {
     "name": "stdout",
     "output_type": "stream",
     "text": [
      "Enter your age: 25\n",
      "Valid age entered.\n"
     ]
    }
   ],
   "source": [
    "class CustomException(Exception):\n",
    "    def __init__(self, message):\n",
    "        self.message = message\n",
    "\n",
    "# Example usage\n",
    "try:\n",
    "    age = int(input(\"Enter your age: \"))\n",
    "    if age < 0:\n",
    "        raise CustomException(\"Age cannot be negative.\")\n",
    "    elif age > 120:\n",
    "        raise CustomException(\"Invalid age entered.\")\n",
    "    else:\n",
    "        print(\"Valid age entered.\")\n",
    "except CustomException as error:\n",
    "    print(\"Exception occurred:\", error.message)\n"
   ]
  },
  {
   "cell_type": "code",
   "execution_count": null,
   "id": "41e4fb3a",
   "metadata": {},
   "outputs": [],
   "source": []
  },
  {
   "cell_type": "code",
   "execution_count": null,
   "id": "12a19b86",
   "metadata": {},
   "outputs": [],
   "source": []
  }
 ],
 "metadata": {
  "kernelspec": {
   "display_name": "Python 3 (ipykernel)",
   "language": "python",
   "name": "python3"
  },
  "language_info": {
   "codemirror_mode": {
    "name": "ipython",
    "version": 3
   },
   "file_extension": ".py",
   "mimetype": "text/x-python",
   "name": "python",
   "nbconvert_exporter": "python",
   "pygments_lexer": "ipython3",
   "version": "3.9.13"
  }
 },
 "nbformat": 4,
 "nbformat_minor": 5
}
