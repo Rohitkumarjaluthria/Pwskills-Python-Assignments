{
 "cells": [
  {
   "cell_type": "markdown",
   "id": "1a03e312",
   "metadata": {},
   "source": [
    "Q1. Explain the assumptions required to use ANOVA and provide examples of violations that could impact\n",
    "the validity of the results.\n",
    "\n",
    " Assumptions required to use ANOVA and examples of violations:\n",
    "\n",
    "Independence of observations: The observations within each group should be independent of each other. Violations can occur when there is a lack of independence, such as in repeated measures or matched pairs designs.\n",
    "\n",
    "Homogeneity of variance: The variances of the groups being compared should be roughly equal. Violations occur when the assumption is not met, such as when one group has significantly larger variances than others.\n",
    "\n",
    "Normality of residuals: The residuals (the differences between observed and predicted values) should follow a normal distribution. Violations occur when the residuals are not normally distributed, such as when they exhibit skewness or heavy tails.\n",
    "\n",
    "Q2. What are the three types of ANOVA, and in what situations would each be used?\n",
    "\n",
    "One-Way ANOVA: Used when there is a single categorical independent variable (factor) with two or more levels (groups), and the goal is to compare the means of the dependent variable across those groups.\n",
    "\n",
    "Two-Way ANOVA: Used when there are two independent variables (factors) and their interactions, allowing for the examination of the main effects of each factor and their interaction on the dependent variable.\n",
    "\n",
    "Three-Way ANOVA: Used when there are three independent variables (factors) and their interactions, allowing for the examination of the main effects of each factor and their interactions on the dependent variable.\n",
    "\n",
    "Q3. What is the partitioning of variance in ANOVA, and why is it important to understand this concept?\n",
    "\n",
    "Partitioning of variance in ANOVA and its importance:\n",
    "\n",
    "Partitioning of variance in ANOVA refers to the decomposition of the total variation observed in the data into different sources of variation. This decomposition is important because it allows us to understand the contributions of different factors to the observed variation. In ANOVA, the total variation is divided into two components:\n",
    "\n",
    "Between-Groups Variation: Variation due to differences between the group means. It represents the variation explained by the factor(s) under investigation.\n",
    "\n",
    "Within-Groups Variation: Variation within each group that is not accounted for by the factor(s). It represents the variation that is not explained by the factors and is often considered as random or error variation.\n",
    "\n",
    "Q4. How would you calculate the total sum of squares (SST), explained sum of squares (SSE), and residual\n",
    "sum of squares (SSR) in a one-way ANOVA using Python?\n"
   ]
  },
  {
   "cell_type": "code",
   "execution_count": 1,
   "id": "5b5b9d68",
   "metadata": {},
   "outputs": [
    {
     "name": "stdout",
     "output_type": "stream",
     "text": [
      "SST: 168.0\n",
      "SSE: 32.66666666666666\n",
      "SSR: 135.33333333333334\n"
     ]
    }
   ],
   "source": [
    "import numpy as np\n",
    "import scipy.stats as stats\n",
    "\n",
    "group1 = [10, 15, 20]\n",
    "group2 = [12, 18, 22]\n",
    "group3 = [8, 14, 16]\n",
    "\n",
    "data = np.concatenate([group1, group2, group3])\n",
    "\n",
    "group_means = [np.mean(group1), np.mean(group2), np.mean(group3)]\n",
    "grand_mean = np.mean(data)\n",
    "\n",
    "sst = np.sum((data - grand_mean) ** 2)\n",
    "\n",
    "sse = np.sum([(gm - grand_mean) ** 2 * len(g) for gm, g in zip(group_means, [group1, group2, group3])])\n",
    "\n",
    "ssr = sst - sse\n",
    "\n",
    "print(\"SST:\", sst)\n",
    "print(\"SSE:\", sse)\n",
    "print(\"SSR:\", ssr)\n"
   ]
  },
  {
   "cell_type": "markdown",
   "id": "2c5b6315",
   "metadata": {},
   "source": [
    "Q5. In a two-way ANOVA, how would you calculate the main effects and interaction effects using Python?\n",
    "\n"
   ]
  },
  {
   "cell_type": "code",
   "execution_count": 7,
   "id": "b8393a85",
   "metadata": {},
   "outputs": [
    {
     "name": "stdout",
     "output_type": "stream",
     "text": [
      "Main Effect of Factor1: 100.00000000000003\n",
      "Main Effect of Factor2: 8.166666666666607\n",
      "Interaction Effect: 3.1554436208840416e-30\n"
     ]
    }
   ],
   "source": [
    "import pandas as pd\n",
    "import statsmodels.api as sm\n",
    "\n",
    "# Create a DataFrame with the data\n",
    "data = pd.DataFrame({'Factor1': [1, 1, 2, 2, 3, 3],\n",
    "                     'Factor2': [1, 2, 1, 2, 1, 2],\n",
    "                     'Response': [10, 12, 15, 18, 20, 22]})\n",
    "\n",
    "# Fit the two-way ANOVA model\n",
    "model = sm.formula.ols('Response ~ Factor1 + Factor2 + Factor1:Factor2', data=data).fit()\n",
    "\n",
    "# Get the ANOVA table\n",
    "anova_table = sm.stats.anova_lm(model, typ=2)\n",
    "\n",
    "# Extract the main effects and interaction effect\n",
    "main_effect_factor1 = anova_table['sum_sq']['Factor1']\n",
    "main_effect_factor2 = anova_table['sum_sq']['Factor2']\n",
    "interaction_effect = anova_table['sum_sq']['Factor1:Factor2']\n",
    "\n",
    "# Print the main effects and interaction effect\n",
    "print(\"Main Effect of Factor1:\", main_effect_factor1)\n",
    "print(\"Main Effect of Factor2:\", main_effect_factor2)\n",
    "print(\"Interaction Effect:\", interaction_effect)\n"
   ]
  },
  {
   "cell_type": "markdown",
   "id": "8841bc7c",
   "metadata": {},
   "source": [
    "Q6. Suppose you conducted a one-way ANOVA and obtained an F-statistic of 5.23 and a p-value of 0.02.\n",
    "What can you conclude about the differences between the groups, and how would you interpret these\n",
    "results?\n",
    "\n",
    "When conducting a one-way ANOVA and obtaining an F-statistic of 5.23 and a p-value of 0.02, we can conclude that there are significant differences between the groups being compared.\n",
    "\n",
    "The F-statistic of 5.23 indicates that the variation between the group means is larger than the variation within the groups. This suggests that the factor (independent variable) being studied has a significant effect on the dependent variable. The associated p-value of 0.02 is less than the chosen significance level (commonly 0.05), indicating that the observed differences are unlikely to occur by chance alone.\n",
    "\n",
    "Interpreting these results, we can state that there are statistically significant differences in the means of the groups being compared. However, we cannot determine which specific groups differ from one another based on the one-way ANOVA alone. Post-hoc tests or pairwise comparisons are typically conducted to identify the specific group differences.\n",
    "\n",
    "\n",
    "Q7. In a repeated measures ANOVA, how would you handle missing data, and what are the potential\n",
    "consequences of using different methods to handle missing data?\n",
    "\n",
    "In a repeated measures ANOVA, handling missing data can be approached in various ways. One common method is to use pairwise deletion, where missing data for each individual comparison are excluded from the analysis. Another approach is to impute missing values, replacing them with estimated values based on the available data or using imputation techniques.\n",
    "\n",
    "The potential consequences of using different methods to handle missing data in repeated measures ANOVA include:\n",
    "\n",
    "Bias: The choice of missing data handling method can introduce bias if the missing data mechanism is related to the outcome variable or other variables in the analysis.\n",
    "\n",
    "Reduced power: Using pairwise deletion may result in a loss of statistical power as fewer data points are used in the analysis.\n",
    "\n",
    "Inaccurate estimates: Imputing missing data introduces additional uncertainty as the missing values are estimated. The accuracy of the imputation depends on the validity of the assumptions made during imputation.\n",
    "\n",
    "\n",
    "Q8. What are some common post-hoc tests used after ANOVA, and when would you use each one? Provide\n",
    "an example of a situation where a post-hoc test might be necessary.\n",
    "\n",
    "Tukey's Honestly Significant Difference (HSD) test: This test compares all possible pairs of group means and controls the familywise error rate. It is suitable when the goal is to identify which specific groups differ significantly from each other.\n",
    "\n",
    "Bonferroni correction: This method adjusts the significance level for multiple pairwise comparisons. It is more conservative than Tukey's HSD test and controls the familywise error rate.\n",
    "\n",
    "Dunnett's test: This test compares each group mean to a control group mean. It is useful when there is a specific control group to which other groups are compared.\n",
    "\n",
    "Scheffe's test: This test allows for more complex comparisons and can handle both planned and unplanned comparisons. It is less restrictive but also less powerful than Tukey's HSD test.\n",
    "\n",
    "Q9. A researcher wants to compare the mean weight loss of three diets: A, B, and C. They collect data from\n",
    "50 participants who were randomly assigned to one of the diets. Conduct a one-way ANOVA using Python\n",
    "to determine if there are any significant differences between the mean weight loss of the three diets.\n",
    "Report the F-statistic and p-value, and interpret the results.\n"
   ]
  },
  {
   "cell_type": "code",
   "execution_count": 9,
   "id": "7b62cf52",
   "metadata": {},
   "outputs": [
    {
     "name": "stdout",
     "output_type": "stream",
     "text": [
      "F-statistic: 0.7916666666666669\n",
      "P-value: 0.47538921646792204\n"
     ]
    }
   ],
   "source": [
    "import scipy.stats as stats\n",
    "\n",
    "# Weight loss data for each diet\n",
    "diet_A = [2, 4, 3, 1, 2]\n",
    "diet_B = [3, 5, 4, 2, 1]\n",
    "diet_C = [1, 3, 2, 1, 3]\n",
    "\n",
    "# Perform one-way ANOVA\n",
    "f_statistic, p_value = stats.f_oneway(diet_A, diet_B, diet_C)\n",
    "\n",
    "# Print the F-statistic and p-value\n",
    "print(\"F-statistic:\", f_statistic)\n",
    "print(\"P-value:\", p_value)\n"
   ]
  },
  {
   "cell_type": "markdown",
   "id": "a1b40eb0",
   "metadata": {},
   "source": [
    "Q10. A company wants to know if there are any significant differences in the average time it takes to\n",
    "complete a task using three different software programs: Program A, Program B, and Program C. They\n",
    "randomly assign 30 employees to one of the programs and record the time it takes each employee to\n",
    "complete the task. Conduct a two-way ANOVA using Python to determine if there are any main effects or\n",
    "interaction effects between the software programs and employee experience level (novice vs.\n",
    "experienced). Report the F-statistics and p-values, and interpret the results."
   ]
  },
  {
   "cell_type": "code",
   "execution_count": 10,
   "id": "c217063b",
   "metadata": {},
   "outputs": [
    {
     "name": "stdout",
     "output_type": "stream",
     "text": [
      "                              sum_sq   df         F    PR(>F)\n",
      "C(Software)                 0.465675  2.0  0.008242  0.935937\n",
      "C(Experience)                    NaN  1.0       NaN       NaN\n",
      "C(Software):C(Experience)  28.016667  2.0  0.495870  0.554269\n",
      "Residual                   56.500000  2.0       NaN       NaN\n"
     ]
    },
    {
     "name": "stderr",
     "output_type": "stream",
     "text": [
      "C:\\Users\\Rohit\\anaconda3\\lib\\site-packages\\statsmodels\\base\\model.py:1871: ValueWarning: covariance of constraints does not have full rank. The number of constraints is 2, but rank is 1\n",
      "  warnings.warn('covariance of constraints does not have full '\n",
      "C:\\Users\\Rohit\\anaconda3\\lib\\site-packages\\statsmodels\\base\\model.py:1871: ValueWarning: covariance of constraints does not have full rank. The number of constraints is 1, but rank is 0\n",
      "  warnings.warn('covariance of constraints does not have full '\n",
      "C:\\Users\\Rohit\\anaconda3\\lib\\site-packages\\statsmodels\\base\\model.py:1900: RuntimeWarning: invalid value encountered in true_divide\n",
      "  F /= J\n",
      "C:\\Users\\Rohit\\anaconda3\\lib\\site-packages\\statsmodels\\base\\model.py:1871: ValueWarning: covariance of constraints does not have full rank. The number of constraints is 2, but rank is 1\n",
      "  warnings.warn('covariance of constraints does not have full '\n"
     ]
    }
   ],
   "source": [
    "import pandas as pd\n",
    "import statsmodels.api as sm\n",
    "from statsmodels.formula.api import ols\n",
    "\n",
    "# Create a DataFrame with the data\n",
    "data = pd.DataFrame({'Software': ['A', 'B', 'C', 'A', 'B', 'C'],\n",
    "                     'Experience': ['Novice', 'Experienced', 'Experienced', 'Novice', 'Novice', 'Experienced'],\n",
    "                     'Time': [10, 12, 15, 18, 20, 22]})\n",
    "\n",
    "# Fit the two-way ANOVA model\n",
    "model = ols('Time ~ C(Software) + C(Experience) + C(Software):C(Experience)', data=data).fit()\n",
    "\n",
    "# Print the ANOVA table\n",
    "print(sm.stats.anova_lm(model, typ=2))\n"
   ]
  },
  {
   "cell_type": "markdown",
   "id": "f73cea93",
   "metadata": {},
   "source": [
    "Q11. An educational researcher is interested in whether a new teaching method improves student test\n",
    "scores. They randomly assign 100 students to either the control group (traditional teaching method) or the\n",
    "experimental group (new teaching method) and administer a test at the end of the semester. Conduct a\n",
    "two-sample t-test using Python to determine if there are any significant differences in test scores\n",
    "between the two groups. If the results are significant, follow up with a post-hoc test to determine which\n",
    "group(s) differ significantly from each other.\n"
   ]
  },
  {
   "cell_type": "code",
   "execution_count": 11,
   "id": "0d2114c7",
   "metadata": {},
   "outputs": [
    {
     "name": "stdout",
     "output_type": "stream",
     "text": [
      "T-statistic: -1.0\n",
      "P-value: 0.34659350708733416\n"
     ]
    }
   ],
   "source": [
    "import scipy.stats as stats\n",
    "\n",
    "# Test scores for the control group\n",
    "control_scores = [75, 80, 85, 90, 70]\n",
    "\n",
    "# Test scores for the experimental group\n",
    "experimental_scores = [85, 90, 95, 80, 75]\n",
    "\n",
    "# Perform two-sample t-test\n",
    "t_statistic, p_value = stats.ttest_ind(control_scores, experimental_scores)\n",
    "\n",
    "# Print the t-statistic and p-value\n",
    "print(\"T-statistic:\", t_statistic)\n",
    "print(\"P-value:\", p_value)\n"
   ]
  },
  {
   "cell_type": "markdown",
   "id": "bd950dce",
   "metadata": {},
   "source": [
    "Q12. A researcher wants to know if there are any significant differences in the average daily sales of three\n",
    "retail stores: Store A, Store B, and Store C. They randomly select 30 days and record the sales for each store\n",
    "on those days. Conduct a repeated measures ANOVA using Python to determine if there are any\n",
    "\n",
    "significant differences in sales between the three stores. If the results are significant, follow up with a post-\n",
    "hoc test to determine which store(s) differ significantly from each other."
   ]
  },
  {
   "cell_type": "code",
   "execution_count": null,
   "id": "87643aef",
   "metadata": {},
   "outputs": [],
   "source": [
    "import pandas as pd\n",
    "import statsmodels.api as sm\n",
    "from statsmodels.formula.api import ols\n",
    "\n",
    "# Create a DataFrame with the data\n",
    "data = pd.DataFrame({'Store': ['A'] * 30 + ['B'] * 30 + ['C'] * 30,\n",
    "                     'Day': list(range(1, 31)) * 3,\n",
    "                     'Sales': [100, 110, 95, 105, 120, 100, 105, 98, 102, 112,\n",
    "                               80, 85, 90, 95, 105, 78, 88, 92, 98, 102,\n",
    "                               115, 120, 118, 100, 110, 105, 98, 102, 95, 105,\n",
    "                               92, 98, 105, 95, 100, 105, 100, 110, 105, 98, 102,\n",
    "                               88, 92, 98, 102, 112, 105, 95, 100, 110, 95]})\n",
    "\n",
    "# Check if the length of arrays matches\n",
    "assert len(data['Store']) == len(data['Sales']), \"Arrays must be of the same length\"\n",
    "\n",
    "# Fit the repeated measures ANOVA model\n",
    "model = ols('Sales ~ C(Store)', data=data).fit()\n",
    "\n",
    "# Print the ANOVA table\n",
    "anova_table = sm.stats.anova_lm(model, typ=2)\n",
    "print(anova_table)\n",
    "\n",
    "# Perform post-hoc test (Tukey's HSD)\n",
    "posthoc = sm.stats.multicomp.pairwise_tukeyhsd(data['Sales'], data['Store'])\n",
    "print(posthoc.summary())\n"
   ]
  },
  {
   "cell_type": "code",
   "execution_count": null,
   "id": "8b217691",
   "metadata": {},
   "outputs": [],
   "source": []
  }
 ],
 "metadata": {
  "kernelspec": {
   "display_name": "Python 3 (ipykernel)",
   "language": "python",
   "name": "python3"
  },
  "language_info": {
   "codemirror_mode": {
    "name": "ipython",
    "version": 3
   },
   "file_extension": ".py",
   "mimetype": "text/x-python",
   "name": "python",
   "nbconvert_exporter": "python",
   "pygments_lexer": "ipython3",
   "version": "3.9.13"
  }
 },
 "nbformat": 4,
 "nbformat_minor": 5
}
