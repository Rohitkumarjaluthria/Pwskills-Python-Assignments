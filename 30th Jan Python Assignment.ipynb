{
 "cells": [
  {
   "cell_type": "markdown",
   "id": "99b1ad1f",
   "metadata": {},
   "source": [
    "# 1. Write a program to accept percentage from the user and display the grade according to the following \n",
    "criteria: \n",
    "Marks \n",
    "Grade \n",
    ">90 \n",
    "A \n",
    ">80 and <=90 \n",
    "B \n",
    ">=60 and <=80 \n",
    "C \n",
    "below 60 \n",
    "D \n"
   ]
  },
  {
   "cell_type": "code",
   "execution_count": 11,
   "id": "7b32bf32",
   "metadata": {},
   "outputs": [
    {
     "name": "stdout",
     "output_type": "stream",
     "text": [
      "Enter Percentage.95\n",
      "A\n"
     ]
    }
   ],
   "source": [
    "num=int(input(\"Enter Percentage.\"))\n",
    "if num>90:\n",
    "    print(\"A\")\n",
    "elif num>80 and num <=90:\n",
    "    print(\"B\")\n",
    "elif num>=60 and num <=80:\n",
    "    print(\"C\")\n",
    "else:\n",
    "    print(\"D\")"
   ]
  },
  {
   "cell_type": "markdown",
   "id": "14b7b55b",
   "metadata": {},
   "source": [
    "# 2. Write a program to accept the cost price of a bike and display the road tax to be paid according to the \n",
    "following criteria: \n",
    "Tax \n",
    "15% \n",
    "10% \n",
    "5% \n",
    "\n",
    "Cost Price(in Rs) \n",
    "\n",
    "### > 100000 \n",
    "\n",
    "50000 and <= 100000 \n",
    "\n",
    "<= 50000 "
   ]
  },
  {
   "cell_type": "code",
   "execution_count": 9,
   "id": "227edc40",
   "metadata": {},
   "outputs": [
    {
     "name": "stdout",
     "output_type": "stream",
     "text": [
      "Enter Price of the bike\n",
      "45000\n",
      "Road Tax is =  2250.0\n"
     ]
    }
   ],
   "source": [
    "n=int(input(\"Enter Price of the bike\\n\"))\n",
    "\n",
    "if n > 100000:\n",
    "    print(\"Road Tax is = \", 0.15*n )\n",
    "\n",
    "elif n >50000 and n <= 100000:\n",
    "    print(\"Road Tax is = \", 0.1*n)\n",
    "    \n",
    "else:\n",
    "    print(\"Road Tax is = \", 0.05*n)"
   ]
  },
  {
   "cell_type": "markdown",
   "id": "908aa9eb",
   "metadata": {},
   "source": [
    "# 3. Accept any city from the user and display monuments of that city. \n",
    "City                   Monument\n",
    " \n",
    "Delhi                  Red Fort  \n",
    "\n",
    "Agra                   Taj Mahal\n",
    "\n",
    "Jaipur                 Jal Mahal \n"
   ]
  },
  {
   "cell_type": "code",
   "execution_count": 34,
   "id": "c85fe9e1",
   "metadata": {},
   "outputs": [
    {
     "name": "stdout",
     "output_type": "stream",
     "text": [
      "Enter City Name.\n",
      "delhi\n",
      "Red Fort\n"
     ]
    }
   ],
   "source": [
    "city=str(input(\"Enter City Name.\\n\"))\n",
    "if city in ( 'Delhi','delhi','DELHI'):\n",
    "    print(\"Red Fort\")\n",
    "elif city in ('Agra','agra','AGRA'):\n",
    "    print(\"Taj Mahal\")\n",
    "elif city in ('Jaipur','JAIPUR','jaipur'):\n",
    "    print(\"Jal Mahal\")\n",
    "else:\n",
    "    print(\"NA\")"
   ]
  },
  {
   "cell_type": "markdown",
   "id": "8033484f",
   "metadata": {},
   "source": [
    "# 4. Check how many times a given number can be divided by 3 before it is less than or equal to 10. "
   ]
  },
  {
   "cell_type": "code",
   "execution_count": 6,
   "id": "8adb2d94",
   "metadata": {},
   "outputs": [
    {
     "name": "stdout",
     "output_type": "stream",
     "text": [
      "Enter Number\n",
      "100\n",
      "The number 100 can be divided by 3, 3 times before it is less than or equal to 10.\n"
     ]
    }
   ],
   "source": [
    "def count_divisions(number):\n",
    "    count = 0\n",
    "    while number > 10:\n",
    "        number /= 3\n",
    "        count += 1\n",
    "    return count\n",
    "\n",
    "# Example usage\n",
    "number = int(input(\"Enter Number\\n\"))\n",
    "divisions = count_divisions(number)\n",
    "print(f\"The number {number} can be divided by 3, {divisions} times before it is less than or equal to 10.\")\n"
   ]
  },
  {
   "cell_type": "markdown",
   "id": "425e33f8",
   "metadata": {},
   "source": [
    "# 5. Why and When to Use while Loop in Python give a detailed description with example \n"
   ]
  },
  {
   "cell_type": "markdown",
   "id": "18007867",
   "metadata": {},
   "source": [
    "The while loop in Python is used to repeatedly execute a block of code as long as a certain condition is true. It allows you to create iterative processes that continue until a specific condition is met. The while loop is useful when you want to repeat a certain task or perform an action until a desired outcome is achieved."
   ]
  },
  {
   "cell_type": "code",
   "execution_count": 7,
   "id": "f391d021",
   "metadata": {},
   "outputs": [
    {
     "name": "stdout",
     "output_type": "stream",
     "text": [
      "Count: 0\n",
      "Count: 1\n",
      "Count: 2\n",
      "Count: 3\n",
      "Count: 4\n",
      "Loop finished\n"
     ]
    }
   ],
   "source": [
    "count = 0\n",
    "\n",
    "while count < 5:\n",
    "    print(\"Count:\", count)\n",
    "    count += 1\n",
    "\n",
    "print(\"Loop finished\")\n"
   ]
  },
  {
   "cell_type": "markdown",
   "id": "9859a346",
   "metadata": {},
   "source": [
    "# 6. Use nested while loop to print 3 different pattern. \n"
   ]
  },
  {
   "cell_type": "code",
   "execution_count": 15,
   "id": "ab0be222",
   "metadata": {},
   "outputs": [
    {
     "name": "stdout",
     "output_type": "stream",
     "text": [
      "*\n",
      "**\n",
      "***\n",
      "****\n",
      "*****\n"
     ]
    }
   ],
   "source": [
    "#Here are three different patterns printed using nested while loops:\n",
    "\"Pattern 2\"\n",
    "row = 1\n",
    "while row <= 5:\n",
    "    col = 1\n",
    "    while col <= row:\n",
    "        print(\"*\", end=\"\")\n",
    "        col += 1\n",
    "    print()\n",
    "    row += 1\n",
    "    "
   ]
  },
  {
   "cell_type": "code",
   "execution_count": 11,
   "id": "8ae2e6a4",
   "metadata": {},
   "outputs": [
    {
     "name": "stdout",
     "output_type": "stream",
     "text": [
      "55555\n",
      "4444\n",
      "333\n",
      "22\n",
      "1\n"
     ]
    }
   ],
   "source": [
    "\"Pattern 2\"    \n",
    "row = 5\n",
    "while row >= 1:\n",
    "    col = 1\n",
    "    while col <= row:\n",
    "        print(row, end=\"\")\n",
    "        col += 1\n",
    "    print()\n",
    "    row -= 1"
   ]
  },
  {
   "cell_type": "code",
   "execution_count": 12,
   "id": "95d45ec5",
   "metadata": {},
   "outputs": [
    {
     "name": "stdout",
     "output_type": "stream",
     "text": [
      "1\n",
      "12\n",
      "123\n",
      "1234\n",
      "12345\n"
     ]
    }
   ],
   "source": [
    "\"Pattern 3\"\n",
    "row = 1\n",
    "while row <= 5:\n",
    "    col = 1\n",
    "    while col <= row:\n",
    "        print(col, end=\"\")\n",
    "        col += 1\n",
    "    print()\n",
    "    row += 1\n"
   ]
  },
  {
   "cell_type": "markdown",
   "id": "c053b4d1",
   "metadata": {},
   "source": [
    "# 7. Reverse a while loop to display numbers from 10 to 1. "
   ]
  },
  {
   "cell_type": "code",
   "execution_count": 2,
   "id": "2966f8bb",
   "metadata": {},
   "outputs": [
    {
     "name": "stdout",
     "output_type": "stream",
     "text": [
      "10\n",
      "9\n",
      "8\n",
      "7\n",
      "6\n",
      "5\n",
      "4\n",
      "3\n",
      "2\n",
      "1\n"
     ]
    }
   ],
   "source": [
    "num=10\n",
    "while num>=1:\n",
    "    print(num)\n",
    "    num-=1"
   ]
  },
  {
   "cell_type": "code",
   "execution_count": null,
   "id": "aae27b6e",
   "metadata": {},
   "outputs": [],
   "source": []
  },
  {
   "cell_type": "code",
   "execution_count": null,
   "id": "6399869b",
   "metadata": {},
   "outputs": [],
   "source": []
  }
 ],
 "metadata": {
  "kernelspec": {
   "display_name": "Python 3 (ipykernel)",
   "language": "python",
   "name": "python3"
  },
  "language_info": {
   "codemirror_mode": {
    "name": "ipython",
    "version": 3
   },
   "file_extension": ".py",
   "mimetype": "text/x-python",
   "name": "python",
   "nbconvert_exporter": "python",
   "pygments_lexer": "ipython3",
   "version": "3.9.13"
  }
 },
 "nbformat": 4,
 "nbformat_minor": 5
}
