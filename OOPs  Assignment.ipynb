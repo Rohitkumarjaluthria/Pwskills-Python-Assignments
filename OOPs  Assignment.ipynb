{
 "cells": [
  {
   "cell_type": "markdown",
   "id": "e413cb13",
   "metadata": {},
   "source": [
    "# Q1. Which function is used to open a file? What are the different modes of opening a file? Explain each mode of file opening."
   ]
  },
  {
   "cell_type": "markdown",
   "id": "796bb1b9",
   "metadata": {},
   "source": [
    "The open() function is used to open a file. It takes two arguments: the file path and the mode in which the file should be opened.\n",
    "\n",
    "The different modes of opening a file are as follows:\n",
    "\n",
    "\"r\" (Read mode): This is the default mode. It opens the file for reading. If the file does not exist, it raises a FileNotFoundError. When a file is opened in read mode, you can only read the contents of the file.\n",
    "\n",
    "\"w\" (Write mode): It opens the file for writing. If the file already exists, it truncates the file to zero length. If the file does not exist, it creates a new file. When a file is opened in write mode, you can write new content to the file, overwriting the existing content.\n",
    "\n",
    "\"a\" (Append mode): It opens the file for appending. If the file exists, the new data is written at the end of the file. If the file does not exist, it creates a new file. When a file is opened in append mode, you can write new content to the file without overwriting the existing content."
   ]
  },
  {
   "cell_type": "markdown",
   "id": "4da023be",
   "metadata": {},
   "source": [
    "### Opening a file in read mode\n",
    "file = open(\"example.txt\", \"r\")\n",
    "\n",
    "content = file.read()\n",
    "\n",
    "print(content)\n",
    "\n",
    "file.close()\n",
    "\n",
    "### Opening a file in write mode\n",
    "file = open(\"example.txt\", \"w\")\n",
    "\n",
    "file.write(\"Hello, World!\")\n",
    "\n",
    "file.close()\n",
    "\n",
    "### Opening a file in append mode\n",
    "file = open(\"example.txt\", \"a\")\n",
    "\n",
    "file.write(\"\\nThis is appended content.\")\n",
    "\n",
    "file.close()\n"
   ]
  },
  {
   "cell_type": "markdown",
   "id": "14813622",
   "metadata": {},
   "source": [
    "# Q2. Why close() function is used? Why is it important to close a file?"
   ]
  },
  {
   "cell_type": "markdown",
   "id": "e9f498ab",
   "metadata": {},
   "source": [
    "The close() function in Python is used to close an open file. It is important to close a file after you have finished working with it for several reasons:\n",
    "\n",
    "Release system resources.\n",
    "\n",
    "Flush file buffer to ensure data is written to the file.\n",
    "\n",
    "Prevent data inconsistencies and conflicts.\n",
    "\n",
    "Maintain file integrity."
   ]
  },
  {
   "cell_type": "markdown",
   "id": "c1358932",
   "metadata": {},
   "source": [
    "# Q3. Write a python program to create a text file. Write ‘I want to become a Data Scientist’ in that file. Then close the file. Open this file and read the content of the file."
   ]
  },
  {
   "cell_type": "code",
   "execution_count": 3,
   "id": "8f7c0fd1",
   "metadata": {},
   "outputs": [
    {
     "name": "stdout",
     "output_type": "stream",
     "text": [
      "I want to become a Data Scientist\n"
     ]
    }
   ],
   "source": [
    "# Create a text file and write content to it\n",
    "file_name = 'data.txt'\n",
    "content = 'I want to become a Data Scientist'\n",
    "\n",
    "# Open the file in write mode\n",
    "file = open(file_name, 'w')\n",
    "\n",
    "# Write the content to the file\n",
    "file.write(content)\n",
    "\n",
    "# Close the file\n",
    "file.close()\n",
    "\n",
    "# Open the file in read mode\n",
    "file = open(file_name, 'r')\n",
    "\n",
    "# Read and print the content of the file\n",
    "file_content = file.read()\n",
    "print(file_content)\n",
    "\n",
    "# Close the file\n",
    "file.close()\n"
   ]
  },
  {
   "cell_type": "markdown",
   "id": "da06155e",
   "metadata": {},
   "source": [
    "# Q4. Explain the following with python code: read(), readline() and readlines()."
   ]
  },
  {
   "cell_type": "markdown",
   "id": "34177d3a",
   "metadata": {},
   "source": [
    "In Python, the read(), readline(), and readlines() methods are used to read data from a file."
   ]
  },
  {
   "cell_type": "markdown",
   "id": "bedd67ad",
   "metadata": {},
   "source": [
    "#read(): The read() method is used to read the entire contents of a file as a single string.\n",
    "\n",
    "### Open the file in read mode\n",
    "file = open('data.txt', 'r')\n",
    "\n",
    "### Read the entire content of the file\n",
    "content = file.read()\n",
    "\n",
    "### Print the content\n",
    "print(content)\n",
    "\n",
    "### Close the file\n",
    "file.close()\n"
   ]
  },
  {
   "cell_type": "markdown",
   "id": "9fdcfb6b",
   "metadata": {},
   "source": [
    "## readline(): The readline() method is used to read a single line from the file.\n",
    "\n",
    "### Open the file in read mode\n",
    "file = open('data.txt', 'r')\n",
    "\n",
    "### Read the first line of the file\n",
    "line1 = file.readline()\n",
    "\n",
    "### Read the second line of the file\n",
    "line2 = file.readline()\n",
    "\n",
    "### Print the lines\n",
    "print(line1)\n",
    "print(line2)\n",
    "\n",
    "### Close the file\n",
    "file.close()\n",
    "\n",
    "## readlines(): The readlines() method is used to read all lines from the file and return them as a list of strings.\n",
    "\n",
    "### Open the file in read mode\n",
    "file = open('data.txt', 'r')\n",
    "\n",
    "### Read all lines from the file\n",
    "lines = file.readlines()\n",
    "\n",
    "### Print each line\n",
    "for line in lines:\n",
    "    print(line)\n",
    "\n",
    "### Close the file\n",
    "file.close()"
   ]
  },
  {
   "cell_type": "markdown",
   "id": "8cbd2640",
   "metadata": {},
   "source": [
    "## Q5. Explain why with statement is used with open(). What is the advantage of using with statement and open() together?"
   ]
  },
  {
   "cell_type": "markdown",
   "id": "9466d6d9",
   "metadata": {},
   "source": [
    "The with statement in Python is used in conjunction with the open() function to ensure proper handling of file resources. It provides a convenient way to open a file, perform operations on it, and automatically close it when the block of code within the with statement is exited.\n",
    "\n",
    "The advantage of using the with statement with open() is that it guarantees the proper handling of file resources, even in the case of exceptions or errors. When the code execution leaves the with block, regardless of whether an exception occurred or not, the file will be automatically closed."
   ]
  },
  {
   "cell_type": "markdown",
   "id": "79ea0b58",
   "metadata": {},
   "source": [
    "# Q6. Explain the write() and writelines() functions. Give a suitable example."
   ]
  },
  {
   "cell_type": "markdown",
   "id": "88ba5cff",
   "metadata": {},
   "source": [
    "\n",
    "The write() and writelines() functions in Python are used to write data to a file.\n",
    "\n",
    "The write() function is used to write a single string or a sequence of characters to a file. It takes a string as an argument and writes it to the file at the current file position. If the file does not exist, it will be created. If the file already exists, the write() function will overwrite the existing content with the new data."
   ]
  },
  {
   "cell_type": "code",
   "execution_count": 7,
   "id": "ae5ad1b4",
   "metadata": {},
   "outputs": [],
   "source": [
    "# Open the file in write mode\n",
    "file = open('data.txt', 'w')\n",
    "\n",
    "# Write a single string to the file\n",
    "file.write('Hello, World!\\n')\n",
    "\n",
    "# Write multiple strings to the file\n",
    "file.write('This is a line of text.\\n')\n",
    "file.write('Another line of text.\\n')\n",
    "\n",
    "# Close the file\n",
    "file.close()\n"
   ]
  },
  {
   "cell_type": "markdown",
   "id": "079054fc",
   "metadata": {},
   "source": [
    "The writelines() function, on the other hand, is used to write a sequence of strings to a file. It takes an iterable object, such as a list or tuple, containing strings as an argument. Each string is written to the file as a separate line.\n",
    "\n"
   ]
  },
  {
   "cell_type": "code",
   "execution_count": 8,
   "id": "7fd14c4e",
   "metadata": {},
   "outputs": [],
   "source": [
    "# Open the file in write mode\n",
    "file = open('data.txt', 'w')\n",
    "\n",
    "# Create a list of strings\n",
    "lines = ['Line 1\\n', 'Line 2\\n', 'Line 3\\n']\n",
    "\n",
    "# Write the list of strings to the file\n",
    "file.writelines(lines)\n",
    "\n",
    "# Close the file\n",
    "file.close()\n"
   ]
  },
  {
   "cell_type": "code",
   "execution_count": null,
   "id": "da2d03e9",
   "metadata": {},
   "outputs": [],
   "source": []
  }
 ],
 "metadata": {
  "kernelspec": {
   "display_name": "Python 3 (ipykernel)",
   "language": "python",
   "name": "python3"
  },
  "language_info": {
   "codemirror_mode": {
    "name": "ipython",
    "version": 3
   },
   "file_extension": ".py",
   "mimetype": "text/x-python",
   "name": "python",
   "nbconvert_exporter": "python",
   "pygments_lexer": "ipython3",
   "version": "3.9.13"
  }
 },
 "nbformat": 4,
 "nbformat_minor": 5
}
