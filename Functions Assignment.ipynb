{
 "cells": [
  {
   "cell_type": "markdown",
   "id": "9462e396",
   "metadata": {},
   "source": [
    "# Q1. Which keyword is used to create a function? Create a function to return a list of odd numbers in the range of 1 to 25."
   ]
  },
  {
   "cell_type": "code",
   "execution_count": 7,
   "id": "ba26d9e3",
   "metadata": {},
   "outputs": [
    {
     "name": "stdout",
     "output_type": "stream",
     "text": [
      "[1, 3, 5, 7, 9, 11, 13, 15, 17, 19, 21, 23, 25]\n"
     ]
    }
   ],
   "source": [
    "'''The keyword used to create a function in Python is def. \n",
    "Example of a function that returns a list of odd numbers in the range of 1 to 25:'''\n",
    "\n",
    "def odd_numbers():\n",
    "    odd_numbers = []\n",
    "    for num in range(1, 26):\n",
    "        if num % 2 != 0:\n",
    "            odd_numbers.append(num)\n",
    "    return odd_numbers\n",
    "\n",
    "result = odd_numbers()\n",
    "print(result)"
   ]
  },
  {
   "cell_type": "markdown",
   "id": "c7e18e92",
   "metadata": {},
   "source": [
    "# Q2. Why *args and **kwargs is used in some functions? Create a function each for *args and **kwargs to demonstrate their use."
   ]
  },
  {
   "cell_type": "markdown",
   "id": "71304b23",
   "metadata": {},
   "source": [
    "Ans. *args and **kwargs are used in functions to handle a variable number of arguments.\n",
    "\n",
    "*args allows us to pass any number of non-keyword arguments to a function, collecting them into a tuple within the function.\n",
    "\n",
    "**kwargs allows us to pass any number of keyword arguments to a function, collecting them into a dictionary within the function.\n",
    "\n",
    "These features provide flexibility, code reusability, and extensibility, allowing functions to handle different argument scenarios without the need for separate function definitions."
   ]
  },
  {
   "cell_type": "code",
   "execution_count": 9,
   "id": "fde8b520",
   "metadata": {},
   "outputs": [
    {
     "name": "stdout",
     "output_type": "stream",
     "text": [
      "24\n",
      "1680\n",
      "1\n"
     ]
    }
   ],
   "source": [
    "#Function with *args\n",
    "\n",
    "def multiply_numbers(*args):\n",
    "    result = 1\n",
    "    for num in args:\n",
    "        result *= num\n",
    "    return result\n",
    "\n",
    "# Call the function with different numbers of arguments\n",
    "print(multiply_numbers(2, 3, 4)) \n",
    "print(multiply_numbers(5, 6, 7, 8))  \n",
    "print(multiply_numbers(1)) "
   ]
  },
  {
   "cell_type": "code",
   "execution_count": 10,
   "id": "e8973613",
   "metadata": {},
   "outputs": [
    {
     "name": "stdout",
     "output_type": "stream",
     "text": [
      "name: John\n",
      "age: 30\n",
      "occupation: Engineer\n",
      "name: Jane\n",
      "age: 25\n",
      "occupation: Designer\n",
      "city: New York\n"
     ]
    }
   ],
   "source": [
    "# Function with **kwargs\n",
    "    \n",
    "def display_person_info(**kwargs):\n",
    "    for key, value in kwargs.items():\n",
    "        print(key + \": \" + str(value))\n",
    "\n",
    "# Call the function with different keyword arguments\n",
    "display_person_info(name=\"John\", age=30, occupation=\"Engineer\")\n",
    "display_person_info(name=\"Jane\", age=25, occupation=\"Designer\", city=\"New York\")\n"
   ]
  },
  {
   "cell_type": "markdown",
   "id": "847bb33c",
   "metadata": {},
   "source": [
    "# Q3. What is an iterator in python? Name the method used to initialise the iterator object and the method used for iteration. Use these methods to print the first five elements of the given list \n",
    "[2, 4, 6, 8, 10, 12, 14, 16,18, 20]."
   ]
  },
  {
   "cell_type": "markdown",
   "id": "096efe6c",
   "metadata": {},
   "source": [
    "**Ans.** In Python, an iterator is an object that enables iteration over a sequence of elements. It provides a way to access the elements of a container (such as a list, tuple, or dictionary) one by one without explicitly indexing the elements.\n",
    "\n",
    "The method used to initialize the iterator object in Python is iter(). It takes an iterable as an argument and returns an iterator object.\n",
    "\n",
    "The method used for iteration over the elements of an iterator object is next(). It retrieves the next element from the iterator."
   ]
  },
  {
   "cell_type": "code",
   "execution_count": 7,
   "id": "4f098933",
   "metadata": {},
   "outputs": [
    {
     "name": "stdout",
     "output_type": "stream",
     "text": [
      "2\n",
      "4\n",
      "6\n",
      "8\n",
      "10\n"
     ]
    }
   ],
   "source": [
    "#To print the first five elements of the given list [2, 4, 6, 8, 10, 12, 14, 16, 18, 20]:\n",
    "List = [2, 4, 6, 8, 10, 12, 14, 16, 18, 20]\n",
    "\n",
    "# Initialize the iterator object\n",
    "iterator = iter(List)\n",
    "\n",
    "# Print the first five elements using next() method\n",
    "for i in range(5):\n",
    "    i = next(iterator)\n",
    "    print(i)\n"
   ]
  },
  {
   "cell_type": "markdown",
   "id": "e4aa4d0e",
   "metadata": {},
   "source": [
    "# Q4. What is a generator function in python? Why yield keyword is used? Give an example of a generator function."
   ]
  },
  {
   "cell_type": "markdown",
   "id": "98d7489a",
   "metadata": {},
   "source": [
    "A generator is a function that returns an iterator that produces a sequence of values when iterated over. Generators are useful when we want to produce a large sequence of values, but we don't want to store all of them in memory at once.\n",
    "\n",
    "The yield keyword is used in generator functions to pause the execution of the function and return a value."
   ]
  },
  {
   "cell_type": "code",
   "execution_count": 10,
   "id": "567cb163",
   "metadata": {},
   "outputs": [
    {
     "name": "stdout",
     "output_type": "stream",
     "text": [
      "0\n",
      "1\n",
      "1\n",
      "2\n",
      "3\n",
      "5\n",
      "8\n",
      "13\n",
      "21\n",
      "34\n"
     ]
    }
   ],
   "source": [
    "def fibonacci(n):\n",
    "    a, b = 0, 1\n",
    "    while a <= n:\n",
    "        yield a\n",
    "        a, b = b, a + b\n",
    "\n",
    "# Use the generator function to iterate over Fibonacci numbers\n",
    "for i in fibonacci(50):\n",
    "    print(i)\n"
   ]
  },
  {
   "cell_type": "markdown",
   "id": "02b73c94",
   "metadata": {},
   "source": [
    "# Q5. Create a generator function for prime numbers less than 1000. Use the next() method to print the first 20 prime numbers."
   ]
  },
  {
   "cell_type": "code",
   "execution_count": 13,
   "id": "0d23e150",
   "metadata": {},
   "outputs": [
    {
     "name": "stdout",
     "output_type": "stream",
     "text": [
      "2\n",
      "3\n",
      "5\n",
      "7\n",
      "11\n",
      "13\n",
      "17\n",
      "19\n",
      "23\n",
      "29\n",
      "31\n",
      "37\n",
      "41\n",
      "43\n",
      "47\n",
      "53\n",
      "59\n",
      "61\n",
      "67\n",
      "71\n"
     ]
    }
   ],
   "source": [
    "def generate_primes():\n",
    "    for num in range(2, 1000):\n",
    "        if is_prime(num):\n",
    "            yield num\n",
    "\n",
    "def is_prime(n):\n",
    "    if n < 2:\n",
    "        return False\n",
    "    for i in range(2, int(n**0.5) + 1):\n",
    "        if n % i == 0:\n",
    "            return False\n",
    "    return True\n",
    "\n",
    "prime_generator = generate_primes()\n",
    "\n",
    "# Print the first 20 prime numbers using next() method\n",
    "for _ in range(20):\n",
    "    prime_num = next(prime_generator)\n",
    "    print(prime_num)\n"
   ]
  },
  {
   "cell_type": "code",
   "execution_count": null,
   "id": "77f70c9f",
   "metadata": {},
   "outputs": [],
   "source": []
  }
 ],
 "metadata": {
  "kernelspec": {
   "display_name": "Python 3 (ipykernel)",
   "language": "python",
   "name": "python3"
  },
  "language_info": {
   "codemirror_mode": {
    "name": "ipython",
    "version": 3
   },
   "file_extension": ".py",
   "mimetype": "text/x-python",
   "name": "python",
   "nbconvert_exporter": "python",
   "pygments_lexer": "ipython3",
   "version": "3.9.13"
  }
 },
 "nbformat": 4,
 "nbformat_minor": 5
}
