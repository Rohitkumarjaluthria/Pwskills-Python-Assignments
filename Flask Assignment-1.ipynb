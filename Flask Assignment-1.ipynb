{
 "cells": [
  {
   "cell_type": "markdown",
   "id": "3e6cdae1",
   "metadata": {},
   "source": [
    "Q1. What is Flask Framework? What are the advantages of Flask Framework?\n",
    "\n",
    "Flask is a micro web framework for Python that allows you to build web applications. It is lightweight and easy to use, providing a simple and flexible way to create web services and APIs. Some advantages of Flask Framework include:\n",
    "\n",
    "Simplicity: Flask has a minimalistic design and a straightforward API, making it easy to learn and use. It focuses on simplicity and allows developers to quickly get started with building web applications.\n",
    "\n",
    "Flexibility: Flask provides a flexible architecture that allows developers to choose the tools and libraries they want to use. It does not impose any specific database or template engine, giving developers the freedom to make their own choices.\n",
    "\n",
    "Extensibility: Flask is highly extensible, allowing you to add additional functionality through Flask extensions or third-party libraries. There is a wide range of extensions available for tasks like database integration, authentication, caching, and more.\n",
    "\n",
    "Lightweight: Flask has a small footprint and minimal dependencies, making it lightweight and efficient. It does not require a complex setup or a large amount of resources, making it suitable for small-scale projects or applications with low requirements.\n",
    "\n",
    "Testing Support: Flask provides built-in support for testing, making it easier to write unit tests and perform automated testing of your web applications."
   ]
  },
  {
   "cell_type": "markdown",
   "id": "5178745a",
   "metadata": {},
   "source": [
    "Q2. Create a simple Flask application to display ‘Hello World!!’. Attach the screenshot of the output in\n",
    "Jupyter Notebook.\n"
   ]
  },
  {
   "cell_type": "markdown",
   "id": "50855fe4",
   "metadata": {},
   "source": [
    "from flask import Flask\n",
    "\n",
    "app = Flask(__name__)\n",
    "\n",
    "@app.route('/')\n",
    "def hello():\n",
    "    return 'Hello World!!'\n",
    "\n",
    "if __name__ == '__main__':\n",
    "    app.run()\n"
   ]
  },
  {
   "cell_type": "markdown",
   "id": "5b330be2",
   "metadata": {},
   "source": [
    "Q3. What is App routing in Flask? Why do we use app routes?\n",
    "\n",
    "App routing in Flask refers to the process of mapping URLs to specific functions or handlers in your Flask application. It allows you to define different routes or URLs and associate them with corresponding functions that handle the requests for those routes.\n",
    "\n",
    "We use app routes in Flask to define the behavior of our application based on the URL requested by the client. By defining routes, we can control what content or response is displayed for different URLs. For example, we can define a route /home that displays the home page of our application and a route /about that displays information about our application.\n",
    "\n",
    "App routes help in organizing and structuring the functionality of our Flask application by mapping URLs to specific functions or views. This makes it easier to handle different types of requests and build a logical structure for our application.\n",
    "\n",
    "\n"
   ]
  },
  {
   "cell_type": "markdown",
   "id": "95648d90",
   "metadata": {},
   "source": [
    "Q4. Create a “/welcome” route to display the welcome message “Welcome to ABC Corporation” and a “/”\n",
    "route to show the following details:\n",
    "Company Name: ABC Corporation\n",
    "Location: India\n",
    "Contact Detail: 999-999-9999\n",
    "Attach the screenshot of the output in Jupyter Notebook.\n"
   ]
  },
  {
   "cell_type": "code",
   "execution_count": null,
   "id": "da25faa8",
   "metadata": {},
   "outputs": [],
   "source": [
    "from flask import Flask\n",
    "\n",
    "app = Flask(__name__)\n",
    "\n",
    "@app.route('/welcome')\n",
    "def welcome():\n",
    "    return 'Welcome to ABC Corporation'\n",
    "\n",
    "@app.route('/')\n",
    "def details():\n",
    "    return '''\n",
    "    Company Name: ABC Corporation\n",
    "    Location: India\n",
    "    Contact Detail: 999-999-9999\n",
    "    '''\n",
    "\n",
    "if __name__ == '__main__':\n",
    "    app.run()\n"
   ]
  },
  {
   "cell_type": "markdown",
   "id": "43d53be3",
   "metadata": {},
   "source": [
    "Q5. What function is used in Flask for URL Building? Write a Python code to demonstrate the working of the\n",
    "url_for() function."
   ]
  },
  {
   "cell_type": "markdown",
   "id": "6c5e73de",
   "metadata": {},
   "source": [
    "In Flask, the url_for() function is used for URL building. It generates a URL for the specified endpoint (a function decorated with @app.route). The url_for() function takes the name of the endpoint as an argument and any additional arguments that are part of the route."
   ]
  },
  {
   "cell_type": "code",
   "execution_count": null,
   "id": "47a7fd96",
   "metadata": {},
   "outputs": [],
   "source": [
    "from flask import Flask, url_for\n",
    "\n",
    "app = Flask(__name__)\n",
    "\n",
    "@app.route('/')\n",
    "def index():\n",
    "    return 'Welcome to the homepage'\n",
    "\n",
    "@app.route('/user/<username>')\n",
    "def profile(username):\n",
    "    return f'Hello, {username}'\n",
    "\n",
    "if __name__ == '__main__':\n",
    "    with app.test_request_context():\n",
    "        print(url_for('index')) \n",
    "        print(url_for('profile', username='John')) "
   ]
  },
  {
   "cell_type": "code",
   "execution_count": null,
   "id": "e2cf7bf1",
   "metadata": {},
   "outputs": [],
   "source": []
  }
 ],
 "metadata": {
  "kernelspec": {
   "display_name": "Python 3 (ipykernel)",
   "language": "python",
   "name": "python3"
  },
  "language_info": {
   "codemirror_mode": {
    "name": "ipython",
    "version": 3
   },
   "file_extension": ".py",
   "mimetype": "text/x-python",
   "name": "python",
   "nbconvert_exporter": "python",
   "pygments_lexer": "ipython3",
   "version": "3.9.13"
  }
 },
 "nbformat": 4,
 "nbformat_minor": 5
}
