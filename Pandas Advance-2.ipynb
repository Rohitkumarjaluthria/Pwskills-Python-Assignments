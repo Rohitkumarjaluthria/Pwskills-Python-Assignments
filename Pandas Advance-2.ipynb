{
 "cells": [
  {
   "cell_type": "markdown",
   "id": "3a6f81e3",
   "metadata": {},
   "source": [
    "import pandas as pd\n",
    "\n",
    "course_name = [‘Data Science’, ‘Machine Learning’, ‘Big Data’, ‘Data Engineer’]\n",
    "\n",
    "duration = [2,3,6,4]\n",
    "\n",
    "df = pd.DataFrame(data = {‘course_name’ : course_name, ‘duration’ : duration})\n",
    "\n",
    "Q1. Write a code to print the data present in the second row of the dataframe, df.\n",
    "\n"
   ]
  },
  {
   "cell_type": "code",
   "execution_count": 1,
   "id": "a3c0521d",
   "metadata": {},
   "outputs": [
    {
     "name": "stdout",
     "output_type": "stream",
     "text": [
      "course_name    Machine Learning\n",
      "duration                      3\n",
      "Name: 1, dtype: object\n"
     ]
    }
   ],
   "source": [
    "import pandas as pd\n",
    "\n",
    "course_name = ['Data Science', 'Machine Learning', 'Big Data', 'Data Engineer']\n",
    "duration = [2, 3, 6, 4]\n",
    "\n",
    "df = pd.DataFrame(data={'course_name': course_name, 'duration': duration})\n",
    "\n",
    "second_row = df.iloc[1]\n",
    "print(second_row)\n"
   ]
  },
  {
   "cell_type": "markdown",
   "id": "3ece47c0",
   "metadata": {},
   "source": [
    "Q2. What is the difference between the functions loc and iloc in pandas.DataFrame?\n",
    "\n",
    "The functions loc and iloc are used in Pandas to access data within a DataFrame, but they have different behaviors and usage:\n",
    "\n",
    "loc:\n",
    "\n",
    "loc is label-based indexing, which means it uses labels or indices to access data.\n",
    "\n",
    "It allows you to access rows and columns using labels or boolean conditions.\n",
    "\n",
    "With loc, you specify the row(s) and column(s) using their labels.\n",
    "\n",
    "The syntax is df.loc[row_indexer, column_indexer].\n",
    "\n",
    "The row and column indexers can be a single label, a list of labels, a slice, or a boolean array.\n",
    "\n",
    "loc includes both the start and end index when using a slice.\n",
    "\n",
    "Example: df.loc[3, 'Column_A'] or df.loc[:, 'Column_B'].\n",
    "\n",
    "iloc:\n",
    "\n",
    "\n",
    "iloc is integer-based indexing, which means it uses integer positions to access data.\n",
    "\n",
    "It allows you to access rows and columns using integer positions or boolean conditions.\n",
    "\n",
    "With iloc, you specify the row(s) and column(s) using their integer positions.\n",
    "\n",
    "The syntax is df.iloc[row_indexer, column_indexer].\n",
    "\n",
    "The row and column indexers can be a single integer, a list of integers, a slice, or a boolean array.\n",
    "\n",
    "iloc includes the start index but excludes the end index when using a slice.\n",
    "\n",
    "Example: df.iloc[2, 1] or df.iloc[:, 0:3]."
   ]
  },
  {
   "cell_type": "markdown",
   "id": "c3579b73",
   "metadata": {},
   "source": [
    "Q3. Reindex the given dataframe using a variable, reindex = [3,0,1,2] and store it in the variable, new_df\n",
    "then find the output for both new_df.loc[2] and new_df.iloc[2]."
   ]
  },
  {
   "cell_type": "code",
   "execution_count": 2,
   "id": "ea68d122",
   "metadata": {},
   "outputs": [
    {
     "name": "stdout",
     "output_type": "stream",
     "text": [
      "Column_A    C\n",
      "Column_B    3\n",
      "Name: 2, dtype: object\n",
      "Column_A    B\n",
      "Column_B    2\n",
      "Name: 1, dtype: object\n"
     ]
    }
   ],
   "source": [
    "import pandas as pd\n",
    "\n",
    "data = {'Column_A': ['A', 'B', 'C', 'D'],\n",
    "        'Column_B': [1, 2, 3, 4]}\n",
    "\n",
    "df = pd.DataFrame(data)\n",
    "reindex = [3, 0, 1, 2]\n",
    "\n",
    "new_df = df.reindex(reindex)\n",
    "\n",
    "print(new_df.loc[2])\n",
    "print(new_df.iloc[2])"
   ]
  },
  {
   "cell_type": "markdown",
   "id": "876e058f",
   "metadata": {},
   "source": [
    "import pandas as pd\n",
    "\n",
    "import numpy as np\n",
    "\n",
    "columns = ['column_1', 'column_2', 'column_3', 'column_4', 'column_5', 'column_6']\n",
    "\n",
    "indices = [1,2,3,4,5,6]\n",
    "\n",
    "#Creating a dataframe:\n",
    "\n",
    "df1 = pd.DataFrame(np.random.rand(6,6), columns = columns, index = indices)\n",
    "\n",
    "Q4. Write a code to find the following statistical measurements for the above dataframe df1:\n",
    "\n",
    "(i) mean of each and every column present in the dataframe.\n",
    "\n",
    "(ii) standard deviation of column, ‘column_2’"
   ]
  },
  {
   "cell_type": "code",
   "execution_count": 3,
   "id": "d030f0c9",
   "metadata": {},
   "outputs": [
    {
     "name": "stdout",
     "output_type": "stream",
     "text": [
      "Mean of each column:\n",
      "column_1    0.391065\n",
      "column_2    0.655897\n",
      "column_3    0.504041\n",
      "column_4    0.517534\n",
      "column_5    0.554397\n",
      "column_6    0.224896\n",
      "dtype: float64\n",
      "\n",
      "Standard deviation of column 'column_2':\n",
      "0.27887271914173145\n"
     ]
    }
   ],
   "source": [
    "import pandas as pd\n",
    "import numpy as np\n",
    "\n",
    "columns = ['column_1', 'column_2', 'column_3', 'column_4', 'column_5', 'column_6']\n",
    "indices = [1, 2, 3, 4, 5, 6]\n",
    "df1 = pd.DataFrame(np.random.rand(6, 6), columns=columns, index=indices)\n",
    "\n",
    "mean_values = df1.mean()\n",
    "print(\"Mean of each column:\")\n",
    "print(mean_values)\n",
    "print()\n",
    "\n",
    "std_column_2 = df1['column_2'].std()\n",
    "print(\"Standard deviation of column 'column_2':\")\n",
    "print(std_column_2)\n"
   ]
  },
  {
   "cell_type": "markdown",
   "id": "aa6a5c9e",
   "metadata": {},
   "source": [
    "Q5. Replace the data present in the second row of column, ‘column_2’ by a string variable then find the\n",
    "mean of column, column_2.\n",
    "\n",
    "If you are getting errors in executing it then explain why.\n",
    "\n",
    "[Hint: To replace the data use df1.loc[] and equate this to string data of your choice.]"
   ]
  },
  {
   "cell_type": "markdown",
   "id": "eb2c943a",
   "metadata": {},
   "source": [
    "df1.loc[2, 'column_2'] = 'string_data'\n",
    "\n",
    "mean_column_2 = df1['column_2'].mean()\n",
    "\n",
    "print(\"Mean of 'column_2':\", mean_column_2)\n"
   ]
  },
  {
   "cell_type": "markdown",
   "id": "f8a0b35f",
   "metadata": {},
   "source": [
    "Q6. What do you understand about the windows function in pandas and list the types of windows\n",
    "functions?\n",
    "\n",
    "In pandas, a window function, also known as a rolling or moving function, is used to perform calculations on a specified window of data points within a DataFrame. It allows you to apply a function to a sliding window of values and obtain aggregate results.\n",
    "\n",
    "A window function requires two essential components:\n",
    "\n",
    "The function to apply: This can be a built-in statistical function (e.g., mean, sum, min, max) or a custom-defined function.\n",
    "The window specification: This defines the size and alignment of the window, such as the number of preceding or succeeding values to include.\n",
    "Types of window functions in pandas:\n",
    "\n",
    "Rolling functions: These functions calculate aggregate statistics over a fixed-size window that moves along the DataFrame. The window size can be defined by the number of rows or a time-based window. Examples include .rolling().mean(), .rolling().sum(), .rolling().min(), and .rolling().max().\n",
    "\n",
    "Expanding functions: These functions calculate aggregate statistics over all preceding values up to the current position. The window size grows with each new data point. Examples include .expanding().mean(), .expanding().sum(), .expanding().min(), and .expanding().max().\n",
    "\n",
    "Exponential weighted functions: These functions assign weights to each value based on its position in the window. Recent values are assigned higher weights, and older values have diminishing weights. Examples include .ewm().mean(), .ewm().std(), .ewm().min(), and .ewm().max().\n",
    "\n",
    "GroupBy with window functions: These functions allow you to apply window functions within each group of a DataFrame. They combine the capabilities of window functions and groupby operations, enabling calculations based on specific groups or categories."
   ]
  },
  {
   "cell_type": "markdown",
   "id": "50f5c68c",
   "metadata": {},
   "source": [
    "Q7. Write a code to print only the current month and year at the time of answering this question.\n",
    "[Hint: Use pandas.datetime function]"
   ]
  },
  {
   "cell_type": "code",
   "execution_count": 5,
   "id": "2464db9f",
   "metadata": {},
   "outputs": [
    {
     "name": "stdout",
     "output_type": "stream",
     "text": [
      "Current month and year: July 2023\n"
     ]
    }
   ],
   "source": [
    "import pandas as pd\n",
    "from datetime import datetime\n",
    "\n",
    "current_date = datetime.now()\n",
    "current_month_year = current_date.strftime(\"%B %Y\")\n",
    "print(\"Current month and year:\", current_month_year)\n"
   ]
  },
  {
   "cell_type": "markdown",
   "id": "ac15bd79",
   "metadata": {},
   "source": [
    "Q8. Write a Python program that takes in two dates as input (in the format YYYY-MM-DD) and\n",
    "calculates the difference between them in days, hours, and minutes using Pandas time delta. The\n",
    "program should prompt the user to enter the dates and display the result."
   ]
  },
  {
   "cell_type": "code",
   "execution_count": 6,
   "id": "7e813c05",
   "metadata": {},
   "outputs": [
    {
     "name": "stdout",
     "output_type": "stream",
     "text": [
      "Enter the first date (YYYY-MM-DD): 2023-05-19\n",
      "Enter the second date (YYYY-MM-DD): 1995-12-18\n",
      "Difference between the two dates:\n",
      "Days: -10014\n",
      "Hours: 0\n",
      "Minutes: 0\n"
     ]
    }
   ],
   "source": [
    "import pandas as pd\n",
    "\n",
    "date1 = input(\"Enter the first date (YYYY-MM-DD): \")\n",
    "\n",
    "date2 = input(\"Enter the second date (YYYY-MM-DD): \")\n",
    "\n",
    "date1 = pd.to_datetime(date1)\n",
    "date2 = pd.to_datetime(date2)\n",
    "\n",
    "time_diff = date2 - date1\n",
    "\n",
    "days = time_diff.days\n",
    "hours = time_diff.seconds // 3600\n",
    "minutes = (time_diff.seconds // 60) % 60\n",
    "\n",
    "print(\"Difference between the two dates:\")\n",
    "print(\"Days:\", days)\n",
    "print(\"Hours:\", hours)\n",
    "print(\"Minutes:\", minutes)\n"
   ]
  },
  {
   "cell_type": "markdown",
   "id": "d7a03cb1",
   "metadata": {},
   "source": [
    "Q9. Write a Python program that reads a CSV file containing categorical data and converts a specified\n",
    "column to a categorical data type. The program should prompt the user to enter the file path, column\n",
    "name, and category order, and then display the sorted data."
   ]
  },
  {
   "cell_type": "markdown",
   "id": "5682e75f",
   "metadata": {},
   "source": [
    "import pandas as pd\n",
    "\n",
    "file_path = input(\"Enter the file path of the CSV file: \")\n",
    "\n",
    "column_name = input(\"Enter the name of the column to convert: \")\n",
    "\n",
    "category_order = input(\"Enter the desired category order (comma-separated): \")\n",
    "\n",
    "data = pd.read_csv(file_path)\n",
    "\n",
    "data[column_name] = pd.Categorical(data[column_name], categories=category_order.split(','), ordered=True)\n",
    "\n",
    "sorted_data = data.sort_values(by=column_name)\n",
    "\n",
    "print(sorted_data)\n"
   ]
  },
  {
   "cell_type": "markdown",
   "id": "16a17b7f",
   "metadata": {},
   "source": [
    "Q10. Write a Python program that reads a CSV file containing sales data for different products and\n",
    "visualizes the data using a stacked bar chart to show the sales of each product category over time. The\n",
    "program should prompt the user to enter the file path and display the chart."
   ]
  },
  {
   "cell_type": "markdown",
   "id": "c26b2156",
   "metadata": {},
   "source": [
    "import pandas as pd\n",
    "\n",
    "import matplotlib.pyplot as plt\n",
    "\n",
    "file_path = input(\"Enter the file path of the CSV file: \")\n",
    "\n",
    "data = pd.read_csv(file_path)\n",
    "\n",
    "data['Date'] = pd.to_datetime(data['Date'])\n",
    "\n",
    "grouped_data = data.groupby(['Date', 'Category'])['Sales'].sum().unstack()\n",
    "\n",
    "grouped_data.plot(kind='bar', stacked=True, figsize=(10, 6))\n",
    "\n",
    "plt.title('Sales by Category Over Time')\n",
    "\n",
    "plt.xlabel('Date')\n",
    "\n",
    "plt.ylabel('Sales')\n",
    "\n",
    "plt.show()\n"
   ]
  },
  {
   "cell_type": "code",
   "execution_count": null,
   "id": "8ece8684",
   "metadata": {},
   "outputs": [],
   "source": [
    "\"\"\"Q11. You are given a CSV file containing student data that includes the student ID and their test score. Write\n",
    "a Python program that reads the CSV file, calculates the mean, median, and mode of the test scores, and\n",
    "displays the results in a table.\n",
    "The program should do the followingM\n",
    "I Prompt the user to enter the file path of the CSV file containing the student dataR\n",
    "I Read the CSV file into a Pandas DataFrameR\n",
    "I Calculate the mean, median, and mode of the test scores using Pandas toolsR\n",
    "I Display the mean, median, and mode in a table.\n",
    "Assume the CSV file contains the following columnsM\n",
    "I Student ID: The ID of the studentR\n",
    "I Test Score: The score of the student's test.\n",
    "Example usage of the program:\n",
    "Enter the file path of the CSV file containing the student data: student_data.csv\n",
    "+-----------+--------+\n",
    "| Statistic | Value |\n",
    "+-----------+--------+\n",
    "| Mean | 79.6 |\n",
    "| Median | 82 |\n",
    "| Mode | 85, 90 |\n",
    "+-----------+--------+\n",
    "Assume that the CSV file student_data.csv contains the following data:\n",
    "Student ID,Test Score\n",
    "1,85\n",
    "2,90\n",
    "3,80\n",
    "4,75\n",
    "5,85\n",
    "6,82\n",
    "7,78\n",
    "8,85\n",
    "9,90\n",
    "10,85\n",
    "The program should calculate the mean, median, and mode of the test scores and display the results\n",
    "in a table.\"\"\""
   ]
  },
  {
   "cell_type": "code",
   "execution_count": null,
   "id": "857eaa74",
   "metadata": {},
   "outputs": [],
   "source": [
    "import pandas as pd\n",
    "\n",
    "# Prompt the user to enter the file path\n",
    "file_path = input(\"Enter the file path of the CSV file containing the student data: \")\n",
    "\n",
    "# Read the CSV file into a DataFrame\n",
    "data = pd.read_csv(file_path)\n",
    "\n",
    "# Calculate the mean, median, and mode of the test scores\n",
    "mean = data['Test Score'].mean()\n",
    "median = data['Test Score'].median()\n",
    "mode = data['Test Score'].mode()\n",
    "\n",
    "# Display the results in a table\n",
    "results = pd.DataFrame({\n",
    "    'Statistic': ['Mean', 'Median', 'Mode'],\n",
    "    'Value': [mean, median, mode]\n",
    "})\n",
    "\n",
    "print(results)\n"
   ]
  },
  {
   "cell_type": "code",
   "execution_count": null,
   "id": "c3105958",
   "metadata": {},
   "outputs": [],
   "source": []
  }
 ],
 "metadata": {
  "kernelspec": {
   "display_name": "Python 3 (ipykernel)",
   "language": "python",
   "name": "python3"
  },
  "language_info": {
   "codemirror_mode": {
    "name": "ipython",
    "version": 3
   },
   "file_extension": ".py",
   "mimetype": "text/x-python",
   "name": "python",
   "nbconvert_exporter": "python",
   "pygments_lexer": "ipython3",
   "version": "3.9.13"
  }
 },
 "nbformat": 4,
 "nbformat_minor": 5
}
