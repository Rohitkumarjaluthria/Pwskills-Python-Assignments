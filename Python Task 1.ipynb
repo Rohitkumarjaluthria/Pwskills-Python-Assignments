{
 "cells": [
  {
   "cell_type": "markdown",
   "id": "f6c02404",
   "metadata": {},
   "source": [
    "# Q1. Create a function which will take a list as an argument and return the product of all the numbers after creating a flat list. Use the below-given list as an argument for your function.\n",
    "list1 = [1,2,3,4, [44,55,66, True], False, (34,56,78,89,34), {1,2,3,3,2,1}, {1:34, \"key2\": [55, 67, 78, 89], 4: (45,\n",
    "22, 61, 34)}, [56, 'data science'], 'Machine Learning']"
   ]
  },
  {
   "cell_type": "code",
   "execution_count": 143,
   "id": "8b17a7ad",
   "metadata": {},
   "outputs": [
    {
     "name": "stdout",
     "output_type": "stream",
     "text": [
      "3833280\n",
      "0\n",
      "0\n",
      "0\n",
      "0\n",
      "[1, 2, 3, 4, 44, 55, 66, True, False, 34, 56, 78, 89, 34, 1, 2, 3, 56]\n"
     ]
    }
   ],
   "source": [
    "list1 = [1,2,3,4, [44,55,66, True], False, (34,56,78,89,34), {1,2,3,3,2,1}, \n",
    "         {1:34, \"key2\": [55, 67, 78, 89], 4: (45, 22, 61, 34)}, \n",
    "         [56, 'data science'], 'Machine Learning']\n",
    "\n",
    "numbers = []\n",
    "\n",
    "def extract_numbers(lst):\n",
    "    \n",
    "    for item in lst:\n",
    "    \n",
    "        if isinstance(item, list):\n",
    "            extract_numbers(item)\n",
    "        elif isinstance(item,set):\n",
    "            extract_numbers(item)\n",
    "        elif isinstance(item,tuple):\n",
    "            extract_numbers(item)\n",
    "        if isinstance(item, (int, float)):\n",
    "            numbers.append(item)\n",
    "    \n",
    "    product=1\n",
    "    for i in numbers:\n",
    "            product *= i\n",
    "    print(product)\n",
    "    \n",
    "extract_numbers(list1)\n",
    "\n",
    "print(numbers)\n"
   ]
  },
  {
   "cell_type": "markdown",
   "id": "e7297df1",
   "metadata": {},
   "source": [
    "#### couldn't capture the dictionary element."
   ]
  },
  {
   "cell_type": "markdown",
   "id": "8c3ed040",
   "metadata": {},
   "source": [
    "## Q2. Write a python program for encrypting a message sent to you by your friend. The logic of encryption should be such that, for a the output should be z. For b, the output should be y. For c, the output should be x respectively. Also, the whitespace should be replaced with a dollar sign. Keep the punctuation marks unchanged. \n",
    "### Input Sentence: I want to become a Data Scientist. Encrypt the above input sentence using the program you just created.\n",
    "Note: Convert the given input sentence into lowercase before encrypting. The final output should be\n",
    "lowercase."
   ]
  },
  {
   "cell_type": "code",
   "execution_count": 147,
   "id": "226aa3c6",
   "metadata": {},
   "outputs": [
    {
     "name": "stdout",
     "output_type": "stream",
     "text": [
      "r$dzmg$gl$yvxlnv$z$wzgz$hxrvmgrhg.\n"
     ]
    }
   ],
   "source": [
    "def encrypt_message(message):\n",
    "    encrypted_message = \"\"\n",
    "    for char in message:\n",
    "        if char.isalpha():\n",
    "            encrypted_char = chr(ord('z') - (ord(char.lower()) - ord('a')))\n",
    "            encrypted_message += encrypted_char\n",
    "        elif char.isspace():\n",
    "            encrypted_message += \"$\"\n",
    "        else:\n",
    "            encrypted_message += char\n",
    "    return encrypted_message\n",
    "\n",
    "input_sentence = \"I want to become a Data Scientist.\"\n",
    "encrypted_sentence = encrypt_message(input_sentence.lower())\n",
    "print(encrypted_sentence)\n"
   ]
  },
  {
   "cell_type": "code",
   "execution_count": null,
   "id": "d3c78115",
   "metadata": {},
   "outputs": [],
   "source": []
  }
 ],
 "metadata": {
  "kernelspec": {
   "display_name": "Python 3 (ipykernel)",
   "language": "python",
   "name": "python3"
  },
  "language_info": {
   "codemirror_mode": {
    "name": "ipython",
    "version": 3
   },
   "file_extension": ".py",
   "mimetype": "text/x-python",
   "name": "python",
   "nbconvert_exporter": "python",
   "pygments_lexer": "ipython3",
   "version": "3.9.13"
  }
 },
 "nbformat": 4,
 "nbformat_minor": 5
}
