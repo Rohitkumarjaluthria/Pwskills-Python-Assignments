{
 "cells": [
  {
   "cell_type": "markdown",
   "id": "53b1d58d",
   "metadata": {},
   "source": [
    "# Q1. What are the characteristics of the tuples? Is tuple immutable?"
   ]
  },
  {
   "cell_type": "markdown",
   "id": "c6d02f5f",
   "metadata": {},
   "source": [
    "### Ans. Characteristics of tuples are:-\n",
    "* 1. Tuples are ordered collections of elements.\n",
    "* 2. Tuples can contain elements of different types.\n",
    "* 3. Tuples are immutable, meaning their elements cannot be changed once the tuple is created."
   ]
  },
  {
   "cell_type": "code",
   "execution_count": 6,
   "id": "d5ea6462",
   "metadata": {},
   "outputs": [],
   "source": [
    "# Tuple is Mutable.\n",
    "# Example:-\n",
    "# Creating a tuple\n",
    "a = (1, 2, 3)"
   ]
  },
  {
   "cell_type": "code",
   "execution_count": 7,
   "id": "da1a5c84",
   "metadata": {},
   "outputs": [
    {
     "ename": "TypeError",
     "evalue": "'tuple' object does not support item assignment",
     "output_type": "error",
     "traceback": [
      "\u001b[1;31m---------------------------------------------------------------------------\u001b[0m",
      "\u001b[1;31mTypeError\u001b[0m                                 Traceback (most recent call last)",
      "\u001b[1;32m~\\AppData\\Local\\Temp\\ipykernel_4136\\461567361.py\u001b[0m in \u001b[0;36m<module>\u001b[1;34m\u001b[0m\n\u001b[0;32m      1\u001b[0m \u001b[1;31m# Trying to change an element in the tuple.\u001b[0m\u001b[1;33m\u001b[0m\u001b[1;33m\u001b[0m\u001b[0m\n\u001b[1;32m----> 2\u001b[1;33m \u001b[0ma\u001b[0m\u001b[1;33m[\u001b[0m\u001b[1;36m0\u001b[0m\u001b[1;33m]\u001b[0m \u001b[1;33m=\u001b[0m \u001b[1;36m10\u001b[0m\u001b[1;33m\u001b[0m\u001b[1;33m\u001b[0m\u001b[0m\n\u001b[0m",
      "\u001b[1;31mTypeError\u001b[0m: 'tuple' object does not support item assignment"
     ]
    }
   ],
   "source": [
    "# Trying to change an element in the tuple.\n",
    "a[0] = 10"
   ]
  },
  {
   "cell_type": "markdown",
   "id": "06647641",
   "metadata": {},
   "source": [
    "## This will raise a TypeError"
   ]
  },
  {
   "cell_type": "code",
   "execution_count": 8,
   "id": "6ea73c4c",
   "metadata": {},
   "outputs": [
    {
     "ename": "AttributeError",
     "evalue": "'tuple' object has no attribute 'append'",
     "output_type": "error",
     "traceback": [
      "\u001b[1;31m---------------------------------------------------------------------------\u001b[0m",
      "\u001b[1;31mAttributeError\u001b[0m                            Traceback (most recent call last)",
      "\u001b[1;32m~\\AppData\\Local\\Temp\\ipykernel_4136\\3053592939.py\u001b[0m in \u001b[0;36m<module>\u001b[1;34m\u001b[0m\n\u001b[0;32m      1\u001b[0m \u001b[1;31m# Attempting to add a new element to the tuple.\u001b[0m\u001b[1;33m\u001b[0m\u001b[1;33m\u001b[0m\u001b[0m\n\u001b[1;32m----> 2\u001b[1;33m \u001b[0ma\u001b[0m\u001b[1;33m.\u001b[0m\u001b[0mappend\u001b[0m\u001b[1;33m(\u001b[0m\u001b[1;36m4\u001b[0m\u001b[1;33m)\u001b[0m\u001b[1;33m\u001b[0m\u001b[1;33m\u001b[0m\u001b[0m\n\u001b[0m",
      "\u001b[1;31mAttributeError\u001b[0m: 'tuple' object has no attribute 'append'"
     ]
    }
   ],
   "source": [
    "# Attempting to add a new element to the tuple.\n",
    "a.append(4)"
   ]
  },
  {
   "cell_type": "markdown",
   "id": "8ff4741c",
   "metadata": {},
   "source": [
    "### This will raise an AttributeError\n",
    "## That's why we can say that a tuple is immutable."
   ]
  },
  {
   "cell_type": "markdown",
   "id": "5c4fe764",
   "metadata": {},
   "source": [
    "# Q2. What are the two tuple methods in python? Give an example of each method. Give a reason why tuples have only two in-built methods as compared to Lists."
   ]
  },
  {
   "cell_type": "markdown",
   "id": "028d9f73",
   "metadata": {},
   "source": [
    "## Ans. The two commonly used methods that can be applied to tuples:"
   ]
  },
  {
   "cell_type": "code",
   "execution_count": 11,
   "id": "66fe3b77",
   "metadata": {},
   "outputs": [
    {
     "name": "stdout",
     "output_type": "stream",
     "text": [
      "3\n",
      "2\n"
     ]
    }
   ],
   "source": [
    "# count(): This method returns the number of times a specified element appears in a tuple or any other sequence type.\n",
    "\n",
    "#Example:\n",
    "a = (1, 2, 2, 3, 4, 2)\n",
    "\n",
    "count = a.count(2)\n",
    "\n",
    "print(count)  # Output: 3\n",
    "\n",
    "#index(): This method returns the index of the first occurrence of a specified element in a tuple or any other sequence type.\n",
    "\n",
    "#Example:\n",
    "b = (10, 20, 30, 40, 50)\n",
    "\n",
    "index = b.index(30)\n",
    "\n",
    "print(index)  # Output: 2"
   ]
  },
  {
   "cell_type": "markdown",
   "id": "c92ae808",
   "metadata": {},
   "source": [
    "Tuples have only two in-built methods as compared to Lists because tuples are immutable, and their elements cannot be changed after creation. This eliminates the need for methods that modify the tuple's contents, resulting in a smaller set of built-in methods for tuples."
   ]
  },
  {
   "cell_type": "markdown",
   "id": "c4cc1439",
   "metadata": {},
   "source": [
    "# Q3. Which collection datatypes in python do not allow duplicate items? Write a code using a set to remove duplicates from the given list.\n",
    "\n",
    "\n",
    "List = [1, 1, 1, 2, 1, 3, 1, 4, 2, 1, 2, 2, 2, 3, 2, 4, 3, 1, 3, 2, 3, 3, 3, 4, 4, 1, 4, 2, 4, 3, 4, 4]"
   ]
  },
  {
   "cell_type": "markdown",
   "id": "e3bc715c",
   "metadata": {},
   "source": [
    "## Ans. Sets and frozen sets doesn't allow duplicate items."
   ]
  },
  {
   "cell_type": "code",
   "execution_count": 14,
   "id": "74a485f4",
   "metadata": {},
   "outputs": [
    {
     "name": "stdout",
     "output_type": "stream",
     "text": [
      "{1, 2, 3, 4}\n"
     ]
    }
   ],
   "source": [
    "List = [1, 1, 1, 2, 1, 3, 1, 4, 2, 1, 2, 2, 2, 3, 2, 4, 3, 1, 3, 2, 3, 3, 3, 4, 4, 1, 4, 2, 4, 3, 4, 4]\n",
    "\n",
    "# Create a set from the list to remove duplicates\n",
    "my_set = set(List)\n",
    "\n",
    "print(my_set)\n"
   ]
  },
  {
   "cell_type": "markdown",
   "id": "b230c5cf",
   "metadata": {},
   "source": [
    "# Q4. Explain the difference between the union() and update() methods for a set. Give an example of each method?"
   ]
  },
  {
   "cell_type": "code",
   "execution_count": 20,
   "id": "074d1cf7",
   "metadata": {},
   "outputs": [
    {
     "name": "stdout",
     "output_type": "stream",
     "text": [
      "{1, 2, 3, 4, 5}\n",
      "{1, 2, 3, 4, 5}\n"
     ]
    }
   ],
   "source": [
    "#Ans. \n",
    "\"\"\"Both the union() and update() methods are used to combine sets in Python, \n",
    "but they differ in how they handle the original set and the set being added.\"\"\"\n",
    "#Examples:\n",
    "\n",
    "#union() method:\n",
    "\n",
    "'''The union() method returns a new set that contains all the unique elements from both sets \n",
    "(the original set and the set being added).The original sets remain unchanged.\n",
    "It can accept multiple sets as arguments using the union operator (|).'''\n",
    "\n",
    "#Example:\n",
    "\n",
    "set1 = {1, 2, 3}\n",
    "set2 = {3, 4, 5}\n",
    "union_set = set1.union(set2)\n",
    "print(union_set)  # Output: {1, 2, 3, 4, 5}\n",
    "#In the example, union() is called on set1 with set2 as an argument. \n",
    "#The resulting union_set contains all the unique elements from both sets.\n",
    "\n",
    "#update() method:\n",
    "\n",
    "'''The update() method adds all the elements from another set to the original set.\n",
    "The original set is modified in-place (i.e., it is updated with the new elements). '''\n",
    "#Example:\n",
    "\n",
    "set1 = {1, 2, 3}\n",
    "set2 = {3, 4, 5}\n",
    "set1.update(set2)\n",
    "print(set1)  # Output: {1, 2, 3, 4, 5}\n",
    "#In this example, update() is called on set1 with set2 as an argument. \n",
    "#The elements from set2 are added to set1, modifying it in-place."
   ]
  },
  {
   "cell_type": "markdown",
   "id": "c74be6ad",
   "metadata": {},
   "source": [
    "# Q5. What is a dictionary? Give an example. Also, state whether a dictionary is ordered or unordered."
   ]
  },
  {
   "cell_type": "code",
   "execution_count": 26,
   "id": "bab852cd",
   "metadata": {},
   "outputs": [],
   "source": [
    "#A dictionary in Python is a collection of key-value pairs. \n",
    "#Each key in a dictionary is unique and is used to access its corresponding value. \n",
    "#Dictionaries are enclosed in curly braces {} and consist of comma-separated key-value pairs.\n",
    "\n",
    "#example of a dictionary:\n",
    "\n",
    "student_data = {\n",
    "    \"name\": \"Rohit\",\n",
    "    \"age\": 25,\n",
    "    \"university\": \"Delhi University\",\n",
    "    \"major\": \"Mathematical Science\"\n",
    "}\n",
    "\n",
    "\n",
    "#A dictionary in Python is an unordered collection of key-value pairs. The order of elements in a dictionary is not guaranteed, \n",
    "# meaning that when iterating through a dictionary or accessing its keys or values, \n",
    "# they may not be in the same order as when the dictionary was created or modified."
   ]
  },
  {
   "cell_type": "markdown",
   "id": "68d64c94",
   "metadata": {},
   "source": [
    "# Q6. Can we create a nested dictionary? If so, please give an example by creating a simple one-level nested dictionary."
   ]
  },
  {
   "cell_type": "code",
   "execution_count": 27,
   "id": "7443e5d8",
   "metadata": {},
   "outputs": [
    {
     "data": {
      "text/plain": [
       "'In this example, the employee dictionary contains four key-value pairs. \\nThe \"name\", \"age\", and \"salary\" keys have corresponding values of strings and integers. \\nThe \"department\" key has a value that is another dictionary with its own key-value pairs. \\nThe nested dictionary represents the details of the employee\\'s department, including the department name and location.\\n\\nBy using nested dictionaries, you can create hierarchical structures to represent complex data relationships or nested information within a dictionary.'"
      ]
     },
     "execution_count": 27,
     "metadata": {},
     "output_type": "execute_result"
    }
   ],
   "source": [
    "#Yes, we can create a nested dictionary in Python. \n",
    "#A nested dictionary is a dictionary where the values can be dictionaries themselves. \n",
    "#Example of a simple one-level nested dictionary:\n",
    "\n",
    "employee = {\n",
    "    \"name\": \"Rohit\",\n",
    "    \"age\": 30,\n",
    "    \"department\": {\n",
    "        \"name\": \"IT\",\n",
    "        \"location\": \"New Delhi\"\n",
    "    },\n",
    "    \"salary\": 5000\n",
    "}\n",
    "\n",
    "'''In this example, the employee dictionary contains four key-value pairs. \n",
    "The \"name\", \"age\", and \"salary\" keys have corresponding values of strings and integers. \n",
    "The \"department\" key has a value that is another dictionary with its own key-value pairs. \n",
    "The nested dictionary represents the details of the employee's department, including the department name and location.\n",
    "\n",
    "By using nested dictionaries, you can create hierarchical structures to represent complex data relationships or nested information within a dictionary.'''"
   ]
  },
  {
   "cell_type": "markdown",
   "id": "5836d085",
   "metadata": {},
   "source": [
    "# Q7. Using setdefault() method, create key named topics in the given dictionary and also add the value of the key as this list ['Python', 'Machine Learning’, 'Deep Learning']\n",
    "\n",
    "\n",
    "dict1 = {'language' : 'Python', 'course': 'Data Science Masters'}"
   ]
  },
  {
   "cell_type": "code",
   "execution_count": 29,
   "id": "5f0fe3bd",
   "metadata": {},
   "outputs": [
    {
     "name": "stdout",
     "output_type": "stream",
     "text": [
      "{'language': 'Python', 'course': 'Data Science Masters', 'topics': ['Python', 'Machine Learning', 'Deep Learning']}\n"
     ]
    }
   ],
   "source": [
    "dict1 = {'language': 'Python', 'course': 'Data Science Masters'}\n",
    "dict1.setdefault('topics', ['Python', 'Machine Learning', 'Deep Learning'])\n",
    "\n",
    "print(dict1)\n",
    "\n",
    "#In this code, the setdefault() method is used on dict1 to set the value of the \"topics\" key. \n",
    "#If the key already exists in the dictionary, the method will not modify the existing value. \n",
    "#If the key doesn't exist, it will add the key-value pair to the dictionary with the specified default value \n",
    "#['Python', 'Machine Learning', 'Deep Learning']."
   ]
  },
  {
   "cell_type": "markdown",
   "id": "8b34000e",
   "metadata": {},
   "source": [
    "# Q8. What are the three view objects in dictionaries? Use the three in-built methods in python to display these three view objects for the given dictionary.\n",
    "\n"
   ]
  },
  {
   "cell_type": "code",
   "execution_count": 32,
   "id": "fcca6e99",
   "metadata": {},
   "outputs": [
    {
     "name": "stdout",
     "output_type": "stream",
     "text": [
      "dict_keys(['Sport', 'Teams'])\n",
      "dict_values(['Cricket', ['India', 'Australia', 'England', 'South Africa', 'Sri Lanka', 'New Zealand']])\n",
      "dict_items([('Sport', 'Cricket'), ('Teams', ['India', 'Australia', 'England', 'South Africa', 'Sri Lanka', 'New Zealand'])])\n"
     ]
    }
   ],
   "source": [
    "#(In Python, dictionaries have three view objects that provide dynamic views of the dictionary's \n",
    "# keys, values, and key-value pairs.\n",
    "'''\n",
    "The three view objects are:\n",
    "dict_keys: This view object represents the keys of the dictionary.\n",
    "dict_values: This view object represents the values of the dictionary.\n",
    "dict_items: This view object represents the key-value pairs of the dictionary.'''\n",
    "\n",
    "dict1 = {'Sport': 'Cricket', 'Teams': ['India', 'Australia', 'England', 'South Africa', 'Sri Lanka', 'New Zealand']}\n",
    "\n",
    "# Get the dict_keys view object\n",
    "keys_view = dict1.keys()\n",
    "print(keys_view) \n",
    "\n",
    "# Get the dict_values view object\n",
    "values_view = dict1.values()\n",
    "print(values_view) \n",
    "\n",
    "# Get the dict_items view object\n",
    "items_view = dict1.items()\n",
    "print(items_view) "
   ]
  },
  {
   "cell_type": "code",
   "execution_count": null,
   "id": "ce415e3e",
   "metadata": {},
   "outputs": [],
   "source": []
  }
 ],
 "metadata": {
  "kernelspec": {
   "display_name": "Python 3 (ipykernel)",
   "language": "python",
   "name": "python3"
  },
  "language_info": {
   "codemirror_mode": {
    "name": "ipython",
    "version": 3
   },
   "file_extension": ".py",
   "mimetype": "text/x-python",
   "name": "python",
   "nbconvert_exporter": "python",
   "pygments_lexer": "ipython3",
   "version": "3.9.13"
  }
 },
 "nbformat": 4,
 "nbformat_minor": 5
}
