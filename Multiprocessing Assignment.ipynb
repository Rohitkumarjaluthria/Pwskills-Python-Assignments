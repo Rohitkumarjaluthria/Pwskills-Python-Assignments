{
 "cells": [
  {
   "cell_type": "markdown",
   "id": "42a7abe7",
   "metadata": {},
   "source": [
    "Q1. What is multiprocessing in python? Why is it useful?\n",
    "\n",
    "Multiprocessing in Python refers to the ability to run multiple processes simultaneously, leveraging the full power of multiple CPU cores or processors. It allows for true parallel processing, where each process runs in a separate memory space and can execute tasks concurrently.\n",
    "\n",
    "Multiprocessing is useful for tasks that can be divided into independent subtasks that can run in parallel. By utilizing multiple processes, it can significantly improve the execution speed and overall performance of CPU-intensive or computationally heavy tasks. It is particularly beneficial on systems with multiple CPU cores, as it can take advantage of the available processing power and execute tasks concurrently.\n",
    "\n",
    "Q2. What are the differences between multiprocessing and multithreading?\n",
    "\n",
    "The main differences between multiprocessing and multithreading are as follows:\n",
    "\n",
    "Execution Model: In multiprocessing, multiple processes are created, each with its own memory space and resources, and they run independently. In multithreading, multiple threads run within the same process, sharing the same memory space and resources.\n",
    "\n",
    "Concurrency: Multiprocessing achieves true parallelism by running processes simultaneously on different CPU cores. Multithreading achieves concurrency, where multiple threads appear to run simultaneously by rapidly switching between threads on a single CPU core.\n",
    "\n",
    "Isolation: Processes in multiprocessing are isolated from each other and do not directly share memory. Any communication or data sharing between processes requires explicit interprocess communication mechanisms. Threads in multithreading share the same memory space, allowing for direct sharing of data and communication through shared variables.\n",
    "\n",
    "Resource Utilization: Multiprocessing can make use of multiple CPU cores, efficiently utilizing available processing power. Multithreading is more suitable for I/O-bound tasks or situations where a single CPU core can handle the workload.\n",
    "\n",
    "Complexity: Multiprocessing introduces additional complexity due to the need for interprocess communication and synchronization mechanisms. Multithreading is typically simpler to implement since threads share the same memory space and can communicate more easily."
   ]
  },
  {
   "cell_type": "markdown",
   "id": "d0d431f3",
   "metadata": {},
   "source": [
    "Q3. Write a Python code to create a process using the multiprocessing module."
   ]
  },
  {
   "cell_type": "code",
   "execution_count": 1,
   "id": "690b9939",
   "metadata": {},
   "outputs": [],
   "source": [
    "import multiprocessing\n",
    "\n",
    "def worker():\n",
    "    print(\"Worker process\")\n",
    "\n",
    "if __name__ == '__main__':\n",
    "    process = multiprocessing.Process(target=worker)\n",
    "    process.start()\n"
   ]
  },
  {
   "cell_type": "markdown",
   "id": "c27e3987",
   "metadata": {},
   "source": [
    "Q4. What is a multiprocessing pool in Python? Why is it used?\n",
    "\n",
    "A multiprocessing pool in Python is a convenient abstraction that allows the execution of multiple worker processes to perform tasks concurrently. It provides a way to distribute work among a fixed number of worker processes, commonly referred to as a pool of worker processes.\n",
    "\n",
    "A multiprocessing pool is useful when there is a need to parallelize a set of tasks or perform computations on multiple inputs simultaneously. It abstracts away the complexities of managing individual processes and provides a high-level interface for managing a group of worker processes. The pool distributes tasks among the available worker processes, making it easy to parallelize the workload and take advantage of the available processing power.\n",
    "\n",
    "Q5. How can we create a pool of worker processes in Python using the multiprocessing module?"
   ]
  },
  {
   "cell_type": "code",
   "execution_count": null,
   "id": "9ffbba85",
   "metadata": {},
   "outputs": [],
   "source": [
    "import multiprocessing\n",
    "\n",
    "def worker(number):\n",
    "    print(\"Worker process:\", number)\n",
    "\n",
    "if __name__ == '__main__':\n",
    "    with multiprocessing.Pool(processes=3) as pool:\n",
    "        numbers = [1, 2, 3, 4, 5]\n",
    "        pool.map(worker, numbers)\n"
   ]
  },
  {
   "cell_type": "markdown",
   "id": "8799b0b9",
   "metadata": {},
   "source": [
    "Q6. Write a Python program to create 4 processes, each process should print a different number using the multiprocessing module in Python."
   ]
  },
  {
   "cell_type": "code",
   "execution_count": 1,
   "id": "3726399f",
   "metadata": {},
   "outputs": [],
   "source": [
    "import multiprocessing\n",
    "\n",
    "def worker(number):\n",
    "    print(\"Process\", multiprocessing.current_process().name, \"prints:\", number)\n",
    "\n",
    "if __name__ == '__main__':\n",
    "    processes = []\n",
    "    numbers = [1, 2, 3, 4]\n",
    "\n",
    "    for number in numbers:\n",
    "        process = multiprocessing.Process(target=worker, args=(number,))\n",
    "        process.start()\n",
    "        processes.append(process)\n",
    "\n",
    "    for process in processes:\n",
    "        process.join()\n"
   ]
  },
  {
   "cell_type": "code",
   "execution_count": null,
   "id": "5c1574a9",
   "metadata": {},
   "outputs": [],
   "source": []
  }
 ],
 "metadata": {
  "kernelspec": {
   "display_name": "Python 3 (ipykernel)",
   "language": "python",
   "name": "python3"
  },
  "language_info": {
   "codemirror_mode": {
    "name": "ipython",
    "version": 3
   },
   "file_extension": ".py",
   "mimetype": "text/x-python",
   "name": "python",
   "nbconvert_exporter": "python",
   "pygments_lexer": "ipython3",
   "version": "3.9.13"
  }
 },
 "nbformat": 4,
 "nbformat_minor": 5
}
