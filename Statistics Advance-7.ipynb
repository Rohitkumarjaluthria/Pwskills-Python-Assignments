{
 "cells": [
  {
   "cell_type": "markdown",
   "id": "b3fedc88",
   "metadata": {},
   "source": [
    "Q1. Write a Python function that takes in two arrays of data and calculates the F-value for a variance ratio\n",
    "test. The function should return the F-value and the corresponding p-value for the test."
   ]
  },
  {
   "cell_type": "code",
   "execution_count": 3,
   "id": "7a777566",
   "metadata": {},
   "outputs": [
    {
     "name": "stdout",
     "output_type": "stream",
     "text": [
      "F-value: 0.6944444444444445\n",
      "p-value: 0.6337799199051903\n"
     ]
    }
   ],
   "source": [
    "import scipy.stats as stats\n",
    "\n",
    "def variance_ratio_test(data1, data2):\n",
    "    # Calculate the sample variances\n",
    "    var1 = stats.variation(data1) ** 2\n",
    "    var2 = stats.variation(data2) ** 2\n",
    "\n",
    "    # Calculate the degrees of freedom\n",
    "    df1 = len(data1) - 1\n",
    "    df2 = len(data2) - 1\n",
    "\n",
    "    # Calculate the F-value\n",
    "    f_value = var1 / var2\n",
    "\n",
    "    # Calculate the p-value\n",
    "    p_value = 1 - stats.f.cdf(f_value, df1, df2)\n",
    "\n",
    "    return f_value, p_value\n",
    "\n",
    "data1 = [2, 4, 6, 8, 10]\n",
    "data2 = [1, 3, 5, 7, 9]\n",
    "\n",
    "f_value, p_value = variance_ratio_test(data1, data2)\n",
    "print(\"F-value:\", f_value)\n",
    "print(\"p-value:\", p_value)"
   ]
  },
  {
   "cell_type": "markdown",
   "id": "285786d8",
   "metadata": {},
   "source": [
    "Q2. Given a significance level of 0.05 and the degrees of freedom for the numerator and denominator of an\n",
    "F-distribution, write a Python function that returns the critical F-value for a two-tailed test."
   ]
  },
  {
   "cell_type": "code",
   "execution_count": 4,
   "id": "c015916b",
   "metadata": {},
   "outputs": [
    {
     "name": "stdout",
     "output_type": "stream",
     "text": [
      "Critical F-value: 4.651695537300463\n"
     ]
    }
   ],
   "source": [
    "import scipy.stats as stats\n",
    "\n",
    "def critical_f_value(alpha, df1, df2):\n",
    "    f_critical = stats.f.ppf(1 - alpha / 2, df1, df2)\n",
    "\n",
    "    return f_critical\n",
    " \n",
    "alpha = 0.05\n",
    "df1 = 6\n",
    "df2 = 8\n",
    "\n",
    "f_critical = critical_f_value(alpha, df1, df2)\n",
    "print(\"Critical F-value:\", f_critical)"
   ]
  },
  {
   "cell_type": "markdown",
   "id": "da8f2301",
   "metadata": {},
   "source": [
    "Q3. Write a Python program that generates random samples from two normal distributions with known\n",
    "variances and uses an F-test to determine if the variances are equal. The program should output the F-\n",
    "value, degrees of freedom, and p-value for the test."
   ]
  },
  {
   "cell_type": "code",
   "execution_count": 5,
   "id": "bce8c860",
   "metadata": {},
   "outputs": [
    {
     "name": "stdout",
     "output_type": "stream",
     "text": [
      "F-value: 0.7127215864960785\n",
      "Degrees of Freedom: (49, 49)\n",
      "p-value: 0.8803040890319981\n"
     ]
    }
   ],
   "source": [
    "import numpy as np\n",
    "import scipy.stats as stats\n",
    "\n",
    "def f_test_equal_variances(data1, data2):\n",
    "    var1 = np.var(data1, ddof=1)\n",
    "    var2 = np.var(data2, ddof=1)\n",
    "\n",
    "    df1 = len(data1) - 1\n",
    "    df2 = len(data2) - 1\n",
    "\n",
    "    f_value = var1 / var2\n",
    "\n",
    "    p_value = 1 - stats.f.cdf(f_value, df1, df2)\n",
    "\n",
    "    return f_value, (df1, df2), p_value\n",
    "\n",
    "variance1 = 5\n",
    "variance2 = 8\n",
    "sample_size = 50\n",
    "\n",
    "np.random.seed(42) \n",
    "\n",
    "data1 = np.random.normal(loc=0, scale=np.sqrt(variance1), size=sample_size)\n",
    "data2 = np.random.normal(loc=0, scale=np.sqrt(variance2), size=sample_size)\n",
    "\n",
    "f_value, degrees_of_freedom, p_value = f_test_equal_variances(data1, data2)\n",
    "\n",
    "print(\"F-value:\", f_value)\n",
    "print(\"Degrees of Freedom:\", degrees_of_freedom)\n",
    "print(\"p-value:\", p_value)\n"
   ]
  },
  {
   "cell_type": "markdown",
   "id": "96b47557",
   "metadata": {},
   "source": [
    "Q4.The variances of two populations are known to be 10 and 15. A sample of 12 observations is taken from\n",
    "each population. Conduct an F-test at the 5% significance level to determine if the variances are\n",
    "significantly different."
   ]
  },
  {
   "cell_type": "code",
   "execution_count": 6,
   "id": "d890da39",
   "metadata": {},
   "outputs": [
    {
     "name": "stdout",
     "output_type": "stream",
     "text": [
      "Fail to reject the null hypothesis. Variances are not significantly different.\n"
     ]
    }
   ],
   "source": [
    "import scipy.stats as stats\n",
    "\n",
    "variance1 = 10\n",
    "variance2 = 15\n",
    "sample_size = 12\n",
    "\n",
    "df1 = sample_size - 1\n",
    "df2 = sample_size - 1\n",
    "\n",
    "f_statistic = variance2 / variance1\n",
    "\n",
    "critical_f_value = stats.f.ppf(1 - 0.05 / 2, df1, df2)\n",
    "\n",
    "if f_statistic > critical_f_value:\n",
    "    print(\"Reject the null hypothesis. Variances are significantly different.\")\n",
    "else:\n",
    "    print(\"Fail to reject the null hypothesis. Variances are not significantly different.\")\n"
   ]
  },
  {
   "cell_type": "markdown",
   "id": "34212bd3",
   "metadata": {},
   "source": [
    "Q5. A manufacturer claims that the variance of the diameter of a certain product is 0.005. A sample of 25\n",
    "products is taken, and the sample variance is found to be 0.006. Conduct an F-test at the 1% significance\n",
    "level to determine if the claim is justified."
   ]
  },
  {
   "cell_type": "code",
   "execution_count": 7,
   "id": "c4bceff5",
   "metadata": {},
   "outputs": [
    {
     "name": "stdout",
     "output_type": "stream",
     "text": [
      "Fail to reject the null hypothesis. The claim is justified.\n"
     ]
    }
   ],
   "source": [
    "import scipy.stats as stats\n",
    "\n",
    "claimed_variance = 0.005\n",
    "sample_variance = 0.006\n",
    "sample_size = 25\n",
    "\n",
    "df1 = sample_size - 1\n",
    "df2 = sample_size - 1\n",
    "\n",
    "f_statistic = sample_variance / claimed_variance\n",
    "\n",
    "critical_f_value_upper = stats.f.ppf(1 - 0.01 / 2, df1, df2)\n",
    "critical_f_value_lower = 1 / stats.f.ppf(1 - 0.01 / 2, df2, df1)\n",
    "\n",
    "if f_statistic > critical_f_value_upper or f_statistic < critical_f_value_lower:\n",
    "    print(\"Reject the null hypothesis. The claim is not justified.\")\n",
    "else:\n",
    "    print(\"Fail to reject the null hypothesis. The claim is justified.\")\n"
   ]
  },
  {
   "cell_type": "markdown",
   "id": "a6723d96",
   "metadata": {},
   "source": [
    "Q6. Write a Python function that takes in the degrees of freedom for the numerator and denominator of an\n",
    "F-distribution and calculates the mean and variance of the distribution. The function should return the\n",
    "mean and variance as a tuple.\n"
   ]
  },
  {
   "cell_type": "code",
   "execution_count": 9,
   "id": "b645efb1",
   "metadata": {},
   "outputs": [
    {
     "name": "stdout",
     "output_type": "stream",
     "text": [
      "Mean: 1.3333333333333333\n",
      "Variance: 1.7777777777777777\n"
     ]
    }
   ],
   "source": [
    "def f_distribution_mean_variance(df1, df2):\n",
    "    # Calculate the mean of the F-distribution\n",
    "    mean = df2 / (df2 - 2)\n",
    "\n",
    "    # Calculate the variance of the F-distribution\n",
    "    variance = (2 * df2**2 * (df1 + df2 - 2)) / (df1 * (df2 - 2)**2 * (df2 - 4))\n",
    "\n",
    "    return mean, variance\n",
    "\n",
    "\n",
    "df1 = 6\n",
    "df2 = 8\n",
    "\n",
    "mean, variance = f_distribution_mean_variance(df1, df2)\n",
    "print(\"Mean:\", mean)\n",
    "print(\"Variance:\", variance)"
   ]
  },
  {
   "cell_type": "markdown",
   "id": "e176fd5c",
   "metadata": {},
   "source": [
    "Q7. A random sample of 10 measurements is taken from a normal population with unknown variance. The\n",
    "sample variance is found to be 25. Another random sample of 15 measurements is taken from another\n",
    "normal population with unknown variance, and the sample variance is found to be 20. Conduct an F-test\n",
    "at the 10% significance level to determine if the variances are significantly different.\n",
    "\n"
   ]
  },
  {
   "cell_type": "code",
   "execution_count": 10,
   "id": "cc4456a6",
   "metadata": {},
   "outputs": [
    {
     "name": "stdout",
     "output_type": "stream",
     "text": [
      "Fail to reject the null hypothesis. Variances are not significantly different.\n"
     ]
    }
   ],
   "source": [
    "import scipy.stats as stats\n",
    "\n",
    "sample_variance1 = 25\n",
    "sample_variance2 = 20\n",
    "sample_size1 = 10\n",
    "sample_size2 = 15\n",
    "\n",
    "# Calculate the degrees of freedom\n",
    "df1 = sample_size1 - 1\n",
    "df2 = sample_size2 - 1\n",
    "\n",
    "# Calculate the F-statistic\n",
    "f_statistic = sample_variance2 / sample_variance1\n",
    "\n",
    "# Determine the critical F-value\n",
    "critical_f_value = stats.f.ppf(1 - 0.1 / 2, df1, df2)\n",
    "\n",
    "# Compare the F-statistic with the critical F-value\n",
    "if f_statistic > critical_f_value:\n",
    "    print(\"Reject the null hypothesis. Variances are significantly different.\")\n",
    "else:\n",
    "    print(\"Fail to reject the null hypothesis. Variances are not significantly different.\")\n"
   ]
  },
  {
   "cell_type": "markdown",
   "id": "7563b563",
   "metadata": {},
   "source": [
    "Q8. The following data represent the waiting times in minutes at two different restaurants on a Saturday\n",
    "night: Restaurant A: 24, 25, 28, 23, 22, 20, 27; Restaurant B: 31, 33, 35, 30, 32, 36. Conduct an F-test at the 5%\n",
    "significance level to determine if the variances are significantly different."
   ]
  },
  {
   "cell_type": "code",
   "execution_count": 11,
   "id": "6b74596a",
   "metadata": {},
   "outputs": [
    {
     "name": "stdout",
     "output_type": "stream",
     "text": [
      "Fail to reject the null hypothesis. Variances are not significantly different.\n"
     ]
    }
   ],
   "source": [
    "import scipy.stats as stats\n",
    "\n",
    "data1 = [24, 25, 28, 23, 22, 20, 27]\n",
    "data2 = [31, 33, 35, 30, 32, 36]\n",
    "\n",
    "# Calculate the sample variances\n",
    "sample_variance1 = stats.variation(data1) ** 2\n",
    "sample_variance2 = stats.variation(data2) ** 2\n",
    "\n",
    "# Calculate the degrees of freedom\n",
    "df1 = len(data1) - 1\n",
    "df2 = len(data2) - 1\n",
    "\n",
    "# Calculate the F-statistic\n",
    "f_statistic = sample_variance2 / sample_variance1\n",
    "\n",
    "# Determine the critical F-value\n",
    "critical_f_value = stats.f.ppf(1 - 0.05 / 2, df1, df2)\n",
    "\n",
    "# Compare the F-statistic with the critical F-value\n",
    "if f_statistic > critical_f_value:\n",
    "    print(\"Reject the null hypothesis. Variances are significantly different.\")\n",
    "else:\n",
    "    print(\"Fail to reject the null hypothesis. Variances are not significantly different.\")\n"
   ]
  },
  {
   "cell_type": "markdown",
   "id": "b6d4aa61",
   "metadata": {},
   "source": [
    "Q9. The following data represent the test scores of two groups of students: Group A: 80, 85, 90, 92, 87, 83;\n",
    "Group B: 75, 78, 82, 79, 81, 84. Conduct an F-test at the 1% significance level to determine if the variances\n",
    "are significantly different."
   ]
  },
  {
   "cell_type": "code",
   "execution_count": 12,
   "id": "7c85a355",
   "metadata": {},
   "outputs": [
    {
     "name": "stdout",
     "output_type": "stream",
     "text": [
      "Fail to reject the null hypothesis. Variances are not significantly different.\n"
     ]
    }
   ],
   "source": [
    "import scipy.stats as stats\n",
    "\n",
    "data1 = [80, 85, 90, 92, 87, 83]\n",
    "data2 = [75, 78, 82, 79, 81, 84]\n",
    "\n",
    "# Calculate the sample variances\n",
    "sample_variance1 = stats.variation(data1) ** 2\n",
    "sample_variance2 = stats.variation(data2) ** 2\n",
    "\n",
    "# Calculate the degrees of freedom\n",
    "df1 = len(data1) - 1\n",
    "df2 = len(data2) - 1\n",
    "\n",
    "# Calculate the F-statistic\n",
    "f_statistic = sample_variance2 / sample_variance1\n",
    "\n",
    "# Determine the critical F-value\n",
    "critical_f_value = stats.f.ppf(1 - 0.01 / 2, df1, df2)\n",
    "\n",
    "# Compare the F-statistic with the critical F-value\n",
    "if f_statistic > critical_f_value:\n",
    "    print(\"Reject the null hypothesis. Variances are significantly different.\")\n",
    "else:\n",
    "    print(\"Fail to reject the null hypothesis. Variances are not significantly different.\")\n"
   ]
  },
  {
   "cell_type": "code",
   "execution_count": null,
   "id": "93a2680c",
   "metadata": {},
   "outputs": [],
   "source": []
  }
 ],
 "metadata": {
  "kernelspec": {
   "display_name": "Python 3 (ipykernel)",
   "language": "python",
   "name": "python3"
  },
  "language_info": {
   "codemirror_mode": {
    "name": "ipython",
    "version": 3
   },
   "file_extension": ".py",
   "mimetype": "text/x-python",
   "name": "python",
   "nbconvert_exporter": "python",
   "pygments_lexer": "ipython3",
   "version": "3.9.13"
  }
 },
 "nbformat": 4,
 "nbformat_minor": 5
}
