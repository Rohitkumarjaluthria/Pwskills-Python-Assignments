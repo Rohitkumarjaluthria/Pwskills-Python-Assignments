{
 "cells": [
  {
   "cell_type": "markdown",
   "id": "1d016af2",
   "metadata": {},
   "source": [
    "Q1. Explain GET and POST methods.\n",
    "\n",
    "The GET and POST methods are HTTP methods used in web communication:\n",
    "\n",
    "GET: The GET method is used to request data from a specified resource. It is the most common method used in web browsers when you access a web page or submit a form. When you use the GET method, the data is appended to the URL as query parameters. It is considered a safe and idempotent method, meaning it should not have any side effects on the server and can be repeated without changing the server's state.\n",
    "\n",
    "POST: The POST method is used to send data to a specified resource to create or update it. It is commonly used when submitting forms, sending data to an API, or uploading files. With the POST method, the data is sent in the body of the HTTP request rather than being appended to the URL. Unlike the GET method, the POST method can have side effects on the server, such as creating a new resource or updating an existing one.\n",
    "\n",
    "Q2. Why is request used in Flask?\n",
    "\n",
    "The request object in Flask is used to access incoming request data in a Flask application. It provides access to request headers, form data, query parameters, files, and other information associated with the current request. The request object allows you to retrieve and manipulate the data sent by the client to the server. It is commonly used to retrieve form data submitted by users, access request headers for authentication or validation purposes, and handle file uploads.\n",
    "\n",
    "Q3. Why is redirect() used in Flask?\n",
    "\n",
    "The redirect() function in Flask is used to redirect the user to a different route or URL within the application. It is commonly used after processing a form submission or completing an action to redirect the user to a different page. By using redirect(), you can provide a new URL or route to which the user's browser should be redirected. This helps in building a smooth user experience by guiding the user to the appropriate page after completing a task.\n",
    "\n",
    "\n",
    "Q4. What are templates in Flask? Why is the render_template() function used?\n",
    "\n",
    "Templates in Flask are files that contain the structure and layout of the web pages to be displayed to users. They are typically written in HTML or a templating language like Jinja2. Templates allow you to separate the presentation logic from the business logic in your Flask application, making it easier to manage and maintain the codebase. The render_template() function in Flask is used to render and display the specified template. It takes the name of the template file as an argument and can also accept additional variables to pass data from the application to the template for dynamic rendering.\n",
    "\n",
    "Q5. Create a simple API. Use Postman to test it. Attach the screenshot of the output in the Jupyter Notebook."
   ]
  },
  {
   "cell_type": "code",
   "execution_count": null,
   "id": "eb138869",
   "metadata": {},
   "outputs": [],
   "source": [
    "from flask import Flask, jsonify\n",
    "\n",
    "app = Flask(__name__)\n",
    "\n",
    "@app.route('/api')\n",
    "def hello():\n",
    "    data = {\n",
    "        'message': 'Hello, API!'\n",
    "    }\n",
    "    return jsonify(data)\n",
    "\n",
    "if __name__ == '__main__':\n",
    "    app.run()\n"
   ]
  },
  {
   "cell_type": "code",
   "execution_count": null,
   "id": "be4e9f79",
   "metadata": {},
   "outputs": [],
   "source": []
  }
 ],
 "metadata": {
  "kernelspec": {
   "display_name": "Python 3 (ipykernel)",
   "language": "python",
   "name": "python3"
  },
  "language_info": {
   "codemirror_mode": {
    "name": "ipython",
    "version": 3
   },
   "file_extension": ".py",
   "mimetype": "text/x-python",
   "name": "python",
   "nbconvert_exporter": "python",
   "pygments_lexer": "ipython3",
   "version": "3.9.13"
  }
 },
 "nbformat": 4,
 "nbformat_minor": 5
}
