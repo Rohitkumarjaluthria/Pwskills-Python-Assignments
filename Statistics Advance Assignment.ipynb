{
 "cells": [
  {
   "cell_type": "markdown",
   "id": "5c2fbdd4",
   "metadata": {},
   "source": [
    "Q1. What is the Probability density function?\n",
    "\n",
    "The Probability Density Function (PDF) is a mathematical function that describes the likelihood of a continuous random variable taking on a specific value. It provides the probability density or relative likelihood of the variable being within a particular range of values.\n",
    "\n",
    "Q2. What are the types of Probability distribution?\n",
    "\n",
    "There are various types of Probability distributions, including:\n",
    "\n",
    "Normal Distribution\n",
    "\n",
    "Uniform Distribution\n",
    "\n",
    "Binomial Distribution\n",
    "\n",
    "Poisson Distribution\n",
    "\n",
    "Exponential Distribution\n",
    "\n",
    "Gamma Distribution\n",
    "\n",
    "Chi-square Distribution\n",
    "\n",
    "Student's t-Distribution\n",
    "\n",
    "Q3. Write a Python function to calculate the probability density function of a normal distribution with\n",
    "given mean and standard deviation at a given point."
   ]
  },
  {
   "cell_type": "code",
   "execution_count": 1,
   "id": "8c954eeb",
   "metadata": {},
   "outputs": [],
   "source": [
    "import math\n",
    "\n",
    "def normal_pdf(x, mean, std_dev):\n",
    "    coefficient = 1 / (std_dev * math.sqrt(2 * math.pi))\n",
    "    exponent = -((x - mean) ** 2) / (2 * std_dev ** 2)\n",
    "    pdf = coefficient * math.exp(exponent)\n",
    "    return pdf\n"
   ]
  },
  {
   "cell_type": "markdown",
   "id": "6e6ae592",
   "metadata": {},
   "source": [
    "Q4. What are the properties of Binomial distribution? Give two examples of events where binomial\n",
    "distribution can be applied.\n",
    "\n",
    "The properties of the Binomial distribution are:\n",
    "\n",
    "The number of trials is fixed and denoted by 'n'.\n",
    "\n",
    "Each trial is independent of one another.\n",
    "\n",
    "There are only two possible outcomes in each trial: success or failure.\n",
    "\n",
    "The probability of success in each trial is constant and denoted by 'p'.\n",
    "\n",
    "The random variable represents the count of successes in 'n' trials.\n",
    "\n",
    "Two examples of events where the Binomial distribution can be applied are:\n",
    "\n",
    "Flipping a coin 'n' times and counting the number of heads.\n",
    "Conducting a survey and recording the number of people who answer \"yes\" to a specific question.\n",
    "\n"
   ]
  },
  {
   "cell_type": "code",
   "execution_count": 4,
   "id": "8b055d04",
   "metadata": {},
   "outputs": [
    {
     "data": {
      "image/png": "[encoded data removed]",
      "text/plain": [
       "<Figure size 640x480 with 1 Axes>"
      ]
     },
     "metadata": {},
     "output_type": "display_data"
    }
   ],
   "source": [
    "\"\"\"Q5. Generate a random sample of size 1000 from a binomial distribution with probability of success 0.4\n",
    "and plot a histogram of the results using matplotlib.\"\"\"\n",
    "\n",
    "import numpy as np\n",
    "import matplotlib.pyplot as plt\n",
    "\n",
    "sample_size = 1000\n",
    "p = 0.4\n",
    "\n",
    "# Generate random sample from binomial distribution\n",
    "sample = np.random.binomial(n=1, p=p, size=sample_size)\n",
    "\n",
    "# Plot histogram of the sample\n",
    "plt.hist(sample, bins=2, edgecolor='black')\n",
    "plt.xlabel('Success (1) or Failure (0)')\n",
    "plt.ylabel('Frequency')\n",
    "plt.title('Binomial Distribution Sample')\n",
    "plt.show()\n"
   ]
  },
  {
   "cell_type": "code",
   "execution_count": 6,
   "id": "34130730",
   "metadata": {},
   "outputs": [],
   "source": [
    "\"\"\"Q6. Write a Python function to calculate the cumulative distribution function of a Poisson distribution\n",
    "with given mean at a given point.\"\"\"\n",
    "\n",
    "import math\n",
    "\n",
    "def poisson_cdf(x, mean):\n",
    "    cdf = 0\n",
    "    for k in range(0, x + 1):\n",
    "        cdf += (math.exp(-mean) * mean ** k) / math.factorial(k)\n",
    "    return cdf\n",
    "\n"
   ]
  },
  {
   "cell_type": "markdown",
   "id": "90583ce6",
   "metadata": {},
   "source": [
    "Q7. How Binomial distribution different from Poisson distribution?\n",
    "\n",
    "Binomial distribution deals with a fixed number of independent trials, each with two possible outcomes (success or failure), while the Poisson distribution models the number of events occurring in a fixed interval of time or space.\n",
    "\n",
    "Binomial distribution has discrete outcomes, whereas Poisson distribution has discrete non-negative integer outcomes.\n",
    "\n",
    "Binomial distribution requires knowing the probability of success ('p') for each trial, while Poisson distribution requires knowing the average rate of occurrence ('λ') of events.\n",
    "\n",
    "Binomial distribution is used when the number of trials is fixed and the probability of success remains constant, while Poisson distribution is used when the number of events in a fixed interval follows a certain pattern"
   ]
  },
  {
   "cell_type": "code",
   "execution_count": 9,
   "id": "ac869c27",
   "metadata": {},
   "outputs": [
    {
     "name": "stdout",
     "output_type": "stream",
     "text": [
      "Sample Mean: 5.06\n",
      "Sample Variance: 5.5524000000000004\n"
     ]
    }
   ],
   "source": [
    "\"\"\"Q8. Generate a random sample of size 1000 from a Poisson distribution with mean 5 and calculate the\n",
    "sample mean and variance.\"\"\"\n",
    "import numpy as np\n",
    "\n",
    "sample_size = 1000\n",
    "mean = 5\n",
    "\n",
    "# Generate random sample from Poisson distribution\n",
    "sample = np.random.poisson(mean, size=sample_size)\n",
    "\n",
    "# Calculate sample mean and variance\n",
    "sample_mean = np.mean(sample)\n",
    "sample_variance = np.var(sample)\n",
    "\n",
    "print(\"Sample Mean:\", sample_mean)\n",
    "print(\"Sample Variance:\", sample_variance)\n"
   ]
  },
  {
   "cell_type": "markdown",
   "id": "653ec01c",
   "metadata": {},
   "source": [
    "Q9. How mean and variance are related in Binomial distribution and Poisson distribution?\n",
    "\n",
    ". In both the Binomial distribution and the Poisson distribution:\n",
    "\n",
    "The mean is equal to the product of the number of trials (in the case of the Binomial distribution) or the average rate of occurrence (in the case of the Poisson distribution) and the probability of success (in the case of the Binomial distribution) or the event rate (in the case of the Poisson distribution).\n",
    "\n",
    "The variance is equal to the product of the number of trials (in the case of the Binomial distribution) or the average rate of occurrence (in the case of the Poisson distribution) and the probability of failure (in the case of the Binomial distribution) or the event rate (in the case of the Poisson distribution)."
   ]
  },
  {
   "cell_type": "markdown",
   "id": "fb8bf715",
   "metadata": {},
   "source": [
    "Q10. In normal distribution with respect to mean position, where does the least frequent data appear?\n",
    "\n",
    "In a normal distribution, the least frequent data appears in the tails of the distribution. Specifically, the data that is the farthest away from the mean, both on the left (negative) and right (positive) sides, represents the least frequent data. This is because the normal distribution is symmetric around the mean, and the probability density gradually decreases as the data moves away from the mean towards the tails. Therefore, the data points in the tails of the normal distribution occur with the lowest frequency."
   ]
  },
  {
   "cell_type": "code",
   "execution_count": null,
   "id": "fd9feabb",
   "metadata": {},
   "outputs": [],
   "source": []
  }
 ],
 "metadata": {
  "kernelspec": {
   "display_name": "Python 3 (ipykernel)",
   "language": "python",
   "name": "python3"
  },
  "language_info": {
   "codemirror_mode": {
    "name": "ipython",
    "version": 3
   },
   "file_extension": ".py",
   "mimetype": "text/x-python",
   "name": "python",
   "nbconvert_exporter": "python",
   "pygments_lexer": "ipython3",
   "version": "3.9.13"
  }
 },
 "nbformat": 4,
 "nbformat_minor": 5
}
