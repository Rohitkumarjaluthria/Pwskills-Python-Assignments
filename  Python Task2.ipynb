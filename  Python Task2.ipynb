{
 "cells": [
  {
   "cell_type": "markdown",
   "id": "0886b02b",
   "metadata": {},
   "source": [
    "## Q1. You are writing code for a company. The requirement of the company is that you create a python function that will check whether the password entered by the user is correct or not. The function should take the password as input and return the string “Valid Password” if the entered password follows the below-given password guidelines else it should return “Invalid Password”.\n",
    "Note: 1. The Password should contain at least two uppercase letters and at least two lowercase letters.\n",
    "\n",
    "2. The Password should contain at least a number and three special characters.\n",
    "\n",
    "\n",
    "3. The length of the password should be 10 characters long."
   ]
  },
  {
   "cell_type": "code",
   "execution_count": 20,
   "id": "07c53932",
   "metadata": {},
   "outputs": [
    {
     "name": "stdout",
     "output_type": "stream",
     "text": [
      "Enter the password: RohitK@#$1\n",
      "Valid Password\n"
     ]
    }
   ],
   "source": [
    "import re\n",
    "\n",
    "def check_password(password):\n",
    "    if len(password) != 10:\n",
    "        return \"Invalid Password\"\n",
    "\n",
    "    uppercase_count = sum(1 for char in password if char.isupper())\n",
    "    lowercase_count = sum(1 for char in password if char.islower())\n",
    "    digit_count = sum(1 for char in password if char.isdigit())\n",
    "    special_char_count = len(re.findall(r'[!@#$%^&*(),.?\":{}|<>]', password))\n",
    "\n",
    "    if uppercase_count >= 2 and lowercase_count >= 2 and digit_count >= 1 and special_char_count >= 3:\n",
    "        return \"Valid Password\"\n",
    "    else:\n",
    "        return \"Invalid Password\"\n",
    "\n",
    "# Example usage:\n",
    "password = input(\"Enter the password: \")\n",
    "result = check_password(password)\n",
    "print(result)\n"
   ]
  },
  {
   "cell_type": "markdown",
   "id": "340cbf87",
   "metadata": {},
   "source": [
    "## Q2. Solve the below-given questions using at least one of the following:\n",
    "1. Lambda function\n",
    "2. Filter function\n",
    "3. Map function\n",
    "4. List Comprehension\n",
    "\n",
    "\n",
    "Check if the string starts with a particular letter\n",
    "\n",
    "Check if the string is numeric\n",
    "\n",
    "Sort a list of tuples having fruit names and their quantity. [(\"mango\",99),(\"orange\",80), (\"grapes\", 1000)]\n",
    "\n",
    "Find the squares of numbers from 1 to 10\n",
    "\n",
    "Find the cube root of numbers from 1 to 10\n",
    "\n",
    "Check if a given number is even\n",
    "\n",
    "Filter odd numbers from the given list.\n",
    "\n",
    "[1,2,3,4,5,6,7,8,9,10]\n",
    "\n",
    "Sort a list of integers into positive and negative integers lists.\n",
    "\n",
    "[1,2,3,4,5,6,-1,-2,-3,-4,-5,0]"
   ]
  },
  {
   "cell_type": "code",
   "execution_count": 24,
   "id": "aecbed00",
   "metadata": {},
   "outputs": [
    {
     "name": "stdout",
     "output_type": "stream",
     "text": [
      "True\n",
      "False\n"
     ]
    }
   ],
   "source": [
    "starts_with = lambda string, letter: string.startswith(letter)\n",
    "print(starts_with(\"Hello\", \"H\"))  \n",
    "print(starts_with(\"World\", \"H\"))  \n"
   ]
  },
  {
   "cell_type": "code",
   "execution_count": 22,
   "id": "b2aeffa4",
   "metadata": {},
   "outputs": [
    {
     "name": "stdout",
     "output_type": "stream",
     "text": [
      "Enter a string: I want to become a data scientist.\n",
      "Is the string numeric? False\n"
     ]
    }
   ],
   "source": [
    "is_numeric = lambda s: s.isnumeric()\n",
    "\n",
    "string = input(\"Enter a string: \")\n",
    "result = is_numeric(string)\n",
    "print(\"Is the string numeric?\", result)\n"
   ]
  },
  {
   "cell_type": "code",
   "execution_count": 25,
   "id": "b5784973",
   "metadata": {},
   "outputs": [
    {
     "name": "stdout",
     "output_type": "stream",
     "text": [
      "Sorted fruits: [('orange', 80), ('mango', 99), ('grapes', 1000)]\n"
     ]
    }
   ],
   "source": [
    "fruits = [(\"mango\", 99), (\"orange\", 80), (\"grapes\", 1000)]\n",
    "sorted_fruits = sorted(fruits, key=lambda x: x[1])\n",
    "print(\"Sorted fruits:\", sorted_fruits)\n"
   ]
  },
  {
   "cell_type": "code",
   "execution_count": 26,
   "id": "afc23bd4",
   "metadata": {},
   "outputs": [
    {
     "name": "stdout",
     "output_type": "stream",
     "text": [
      "Squares of numbers: [1, 4, 9, 16, 25, 36, 49, 64, 81, 100]\n"
     ]
    }
   ],
   "source": [
    "squares = list(map(lambda x: x**2, range(1, 11)))\n",
    "print(\"Squares of numbers:\", squares)\n"
   ]
  },
  {
   "cell_type": "code",
   "execution_count": 27,
   "id": "6cc4fd0e",
   "metadata": {},
   "outputs": [
    {
     "name": "stdout",
     "output_type": "stream",
     "text": [
      "Cube roots of numbers: [1.0, 1.2599210498948732, 1.4422495703074083, 1.5874010519681994, 1.7099759466766968, 1.8171205928321397, 1.912931182772389, 2.0, 2.080083823051904, 2.154434690031884]\n"
     ]
    }
   ],
   "source": [
    "import math\n",
    "\n",
    "cube_roots = list(map(lambda x: math.pow(x, 1/3), range(1, 11)))\n",
    "print(\"Cube roots of numbers:\", cube_roots)\n"
   ]
  },
  {
   "cell_type": "code",
   "execution_count": 28,
   "id": "be37bca7",
   "metadata": {},
   "outputs": [
    {
     "name": "stdout",
     "output_type": "stream",
     "text": [
      "Enter a number: 524\n",
      "Is the number even? True\n"
     ]
    }
   ],
   "source": [
    "is_even = lambda num: num % 2 == 0\n",
    "\n",
    "number = int(input(\"Enter a number: \"))\n",
    "result = is_even(number)\n",
    "print(\"Is the number even?\", result)\n"
   ]
  },
  {
   "cell_type": "code",
   "execution_count": 29,
   "id": "d92d4c7f",
   "metadata": {},
   "outputs": [
    {
     "name": "stdout",
     "output_type": "stream",
     "text": [
      "Odd numbers: [1, 3, 5, 7, 9]\n"
     ]
    }
   ],
   "source": [
    "numbers = [1, 2, 3, 4, 5, 6, 7, 8, 9, 10]\n",
    "odd_numbers = list(filter(lambda x: x % 2 != 0, numbers))\n",
    "print(\"Odd numbers:\", odd_numbers)\n"
   ]
  },
  {
   "cell_type": "code",
   "execution_count": 30,
   "id": "095f655a",
   "metadata": {},
   "outputs": [
    {
     "name": "stdout",
     "output_type": "stream",
     "text": [
      "Positive numbers: [1, 2, 3, 4, 5, 6]\n",
      "Negative numbers: [-1, -2, -3, -4, -5]\n"
     ]
    }
   ],
   "source": [
    "numbers = [1, 2, 3, 4, 5, 6, -1, -2, -3, -4, -5, 0]\n",
    "positive_numbers = list(filter(lambda x: x > 0, numbers))\n",
    "negative_numbers = list(filter(lambda x: x < 0, numbers))\n",
    "print(\"Positive numbers:\", positive_numbers)\n",
    "print(\"Negative numbers:\", negative_numbers)\n"
   ]
  },
  {
   "cell_type": "code",
   "execution_count": null,
   "id": "2d34c0e7",
   "metadata": {},
   "outputs": [],
   "source": []
  }
 ],
 "metadata": {
  "kernelspec": {
   "display_name": "Python 3 (ipykernel)",
   "language": "python",
   "name": "python3"
  },
  "language_info": {
   "codemirror_mode": {
    "name": "ipython",
    "version": 3
   },
   "file_extension": ".py",
   "mimetype": "text/x-python",
   "name": "python",
   "nbconvert_exporter": "python",
   "pygments_lexer": "ipython3",
   "version": "3.9.13"
  }
 },
 "nbformat": 4,
 "nbformat_minor": 5
}
