{
 "cells": [
  {
   "cell_type": "markdown",
   "id": "3cc944ac",
   "metadata": {},
   "source": [
    "# Q1. Explain Class and Object with respect to Object-Oriented Programming. Give a suitable example."
   ]
  },
  {
   "cell_type": "markdown",
   "id": "5601dbb4",
   "metadata": {},
   "source": [
    "A class is a blueprint or a template that defines the structure and behavior of objects. It provides a way to define a new data type with its own properties (attributes) and functions (methods). A class serves as a blueprint for creating objects, which are instances of the class.\n",
    "\n",
    "An object is an instance of a class. It represents a specific entity or item that belongs to that class. Objects are created based on the structure and behavior defined in the class. Each object has its own unique set of attributes and can perform operations defined by the methods of the class."
   ]
  },
  {
   "cell_type": "code",
   "execution_count": 1,
   "id": "bf02b180",
   "metadata": {},
   "outputs": [
    {
     "name": "stdout",
     "output_type": "stream",
     "text": [
      "Brand: Toyota\n",
      "Model: Camry\n",
      "Color: Silver\n",
      "The car's engine is started.\n",
      "The car's engine is stopped.\n"
     ]
    }
   ],
   "source": [
    "# Class definition\n",
    "class Car:\n",
    "    def __init__(self, brand, model, color):\n",
    "        self.brand = brand\n",
    "        self.model = model\n",
    "        self.color = color\n",
    "\n",
    "    def start_engine(self):\n",
    "        print(\"The car's engine is started.\")\n",
    "\n",
    "    def stop_engine(self):\n",
    "        print(\"The car's engine is stopped.\")\n",
    "\n",
    "# Object creation\n",
    "my_car = Car(\"Toyota\", \"Camry\", \"Silver\")\n",
    "\n",
    "# Accessing object attributes\n",
    "print(\"Brand:\", my_car.brand)\n",
    "print(\"Model:\", my_car.model)\n",
    "print(\"Color:\", my_car.color)\n",
    "\n",
    "# Calling object methods\n",
    "my_car.start_engine()\n",
    "my_car.stop_engine()\n"
   ]
  },
  {
   "cell_type": "markdown",
   "id": "b9b15c92",
   "metadata": {},
   "source": [
    "# Q2. Name the four pillars of OOPs."
   ]
  },
  {
   "cell_type": "markdown",
   "id": "17456554",
   "metadata": {},
   "source": [
    "The four pillars of **OOP**:\n",
    "\n",
    "**Encapsulation**: Bundling data and methods together within a class, hiding internal details, and providing well-defined interfaces.\n",
    "\n",
    "**Inheritance**: Allowing a class to inherit properties and methods from another class, promoting code reusability and hierarchical relationships.\n",
    "\n",
    "**Polymorphism**: Treating objects of different classes as objects of a common parent class, enabling flexibility and the use of a single interface for different types.\n",
    "\n",
    "**Abstraction**: Simplifying complex systems by focusing on essential features and hiding unnecessary details."
   ]
  },
  {
   "cell_type": "markdown",
   "id": "945f9b7f",
   "metadata": {},
   "source": [
    "# Q3. Explain why the __init__() function is used. Give a suitable example."
   ]
  },
  {
   "cell_type": "markdown",
   "id": "f16ed3d6",
   "metadata": {},
   "source": [
    "The __init__() function is a special method in Python classes that is used for initializing the attributes of an object. It is automatically called when an object is created from a class. The primary purpose of the __init__() function is to set up the initial state of an object by assigning values to its attributes."
   ]
  },
  {
   "cell_type": "code",
   "execution_count": 4,
   "id": "3e7eb5c5",
   "metadata": {},
   "outputs": [
    {
     "name": "stdout",
     "output_type": "stream",
     "text": [
      "John\n",
      "30\n",
      "Hello, my name is John and I am 25 years old.\n",
      "Hello, my name is Emma and I am 30 years old.\n"
     ]
    }
   ],
   "source": [
    "class Person:\n",
    "    def __init__(self, name, age):\n",
    "        self.name = name\n",
    "        self.age = age\n",
    "\n",
    "    def introduce(self):\n",
    "        print(\"Hello, my name is\", self.name, \"and I am\", self.age, \"years old.\")\n",
    "\n",
    "# Creating objects\n",
    "person1 = Person(\"John\", 25)\n",
    "person2 = Person(\"Emma\", 30)\n",
    "\n",
    "# Accessing object attributes\n",
    "print(person1.name) \n",
    "print(person2.age)  \n",
    "\n",
    "# Calling object method\n",
    "person1.introduce() \n",
    "person2.introduce()"
   ]
  },
  {
   "cell_type": "markdown",
   "id": "b22bf0df",
   "metadata": {},
   "source": [
    "# Q4. Why self is used in OOPs?"
   ]
  },
  {
   "cell_type": "markdown",
   "id": "8d54f792",
   "metadata": {},
   "source": [
    "Self is used in OOP to refer to the instance of a class. It allows methods to access and operate on the attributes and methods specific to that instance. It serves as a reference to the object itself."
   ]
  },
  {
   "cell_type": "markdown",
   "id": "a4f74dfe",
   "metadata": {},
   "source": [
    "# Q5. What is inheritance? Give an example for each type of inheritance."
   ]
  },
  {
   "cell_type": "markdown",
   "id": "46768c01",
   "metadata": {},
   "source": [
    "Inheritance is a fundamental concept in object-oriented programming (OOP) that allows a class to inherit properties and methods\n",
    "from another class. It enables code reuse, promotes modularity, and establishes hierarchical relationships between classes."
   ]
  },
  {
   "cell_type": "markdown",
   "id": "1a33aa94",
   "metadata": {},
   "source": [
    "**Single Inheritance:** In single inheritance, a class inherits properties and methods from a single parent class. It represents an \"is-a\" relationship where the derived class is a specialized version of the base class.\n"
   ]
  },
  {
   "cell_type": "code",
   "execution_count": 5,
   "id": "f2d6997b",
   "metadata": {
    "scrolled": true
   },
   "outputs": [
    {
     "name": "stdout",
     "output_type": "stream",
     "text": [
      "Dog barks.\n"
     ]
    }
   ],
   "source": [
    "class Animal:\n",
    "    def sound(self):\n",
    "        print(\"Animal makes a sound.\")\n",
    "\n",
    "class Dog(Animal):\n",
    "    def sound(self):\n",
    "        print(\"Dog barks.\")\n",
    "\n",
    "dog = Dog()\n",
    "dog.sound()"
   ]
  },
  {
   "cell_type": "markdown",
   "id": "e56962d7",
   "metadata": {},
   "source": [
    "**Multiple Inheritance:** Multiple inheritance allows a class to inherit from multiple parent classes. The derived class inherits properties and methods from all the parent classes. It supports combining the features of multiple classes into a single class.\n"
   ]
  },
  {
   "cell_type": "code",
   "execution_count": 6,
   "id": "9ba86c7a",
   "metadata": {
    "scrolled": true
   },
   "outputs": [
    {
     "name": "stdout",
     "output_type": "stream",
     "text": [
      "Animal makes a sound.\n",
      "Mammal feeds milk.\n"
     ]
    }
   ],
   "source": [
    "class Animal:\n",
    "    def sound(self):\n",
    "        print(\"Animal makes a sound.\")\n",
    "\n",
    "class Mammal:\n",
    "    def feed(self):\n",
    "        print(\"Mammal feeds milk.\")\n",
    "\n",
    "class Dog(Animal, Mammal):\n",
    "    pass\n",
    "\n",
    "dog = Dog()\n",
    "dog.sound() \n",
    "dog.feed()"
   ]
  },
  {
   "cell_type": "markdown",
   "id": "afbc1884",
   "metadata": {},
   "source": [
    "**Multilevel Inheritance:** Multilevel inheritance involves a chain of inheritance where a derived class becomes the base class for another class. It establishes a hierarchical relationship with multiple levels of inheritance.\n"
   ]
  },
  {
   "cell_type": "code",
   "execution_count": 7,
   "id": "01ddadc0",
   "metadata": {},
   "outputs": [
    {
     "name": "stdout",
     "output_type": "stream",
     "text": [
      "Dog barks.\n"
     ]
    }
   ],
   "source": [
    "class Animal:\n",
    "    def sound(self):\n",
    "        print(\"Animal makes a sound.\")\n",
    "\n",
    "class Dog(Animal):\n",
    "    def sound(self):\n",
    "        print(\"Dog barks.\")\n",
    "\n",
    "class Bulldog(Dog):\n",
    "    pass\n",
    "\n",
    "bulldog = Bulldog()\n",
    "bulldog.sound()"
   ]
  },
  {
   "cell_type": "markdown",
   "id": "c832ba77",
   "metadata": {},
   "source": [
    "**Hierarchical Inheritance:** Hierarchical inheritance involves multiple derived classes inheriting from a single base class. It represents a hierarchical structure where different derived classes inherit common properties and methods from the same base class.\n"
   ]
  },
  {
   "cell_type": "code",
   "execution_count": 8,
   "id": "990f4886",
   "metadata": {
    "scrolled": true
   },
   "outputs": [
    {
     "name": "stdout",
     "output_type": "stream",
     "text": [
      "Dog barks.\n",
      "Cat meows.\n"
     ]
    }
   ],
   "source": [
    "class Animal:\n",
    "    def sound(self):\n",
    "        print(\"Animal makes a sound.\")\n",
    "\n",
    "class Dog(Animal):\n",
    "    def sound(self):\n",
    "        print(\"Dog barks.\")\n",
    "\n",
    "class Cat(Animal):\n",
    "    def sound(self):\n",
    "        print(\"Cat meows.\")\n",
    "\n",
    "dog = Dog()\n",
    "dog.sound()\n",
    "\n",
    "cat = Cat()\n",
    "cat.sound() "
   ]
  }
 ],
 "metadata": {
  "kernelspec": {
   "display_name": "Python 3 (ipykernel)",
   "language": "python",
   "name": "python3"
  },
  "language_info": {
   "codemirror_mode": {
    "name": "ipython",
    "version": 3
   },
   "file_extension": ".py",
   "mimetype": "text/x-python",
   "name": "python",
   "nbconvert_exporter": "python",
   "pygments_lexer": "ipython3",
   "version": "3.9.13"
  }
 },
 "nbformat": 4,
 "nbformat_minor": 5
}
