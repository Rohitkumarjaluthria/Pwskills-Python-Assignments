{
 "cells": [
  {
   "cell_type": "code",
   "execution_count": 1,
   "id": "3c898c81",
   "metadata": {},
   "outputs": [
    {
     "name": "stdout",
     "output_type": "stream",
     "text": [
      "0     4\n",
      "1     8\n",
      "2    15\n",
      "3    16\n",
      "4    23\n",
      "5    42\n",
      "dtype: int64\n"
     ]
    }
   ],
   "source": [
    "#Q1. Create a Pandas Series that contains the following data: 4, 8, 15, 16, 23, and 42. Then, print the series.\n",
    "\n",
    "import pandas as pd\n",
    "\n",
    "data = [4, 8, 15, 16, 23, 42]\n",
    "series = pd.Series(data)\n",
    "print(series)"
   ]
  },
  {
   "cell_type": "code",
   "execution_count": 2,
   "id": "aa4487b2",
   "metadata": {},
   "outputs": [
    {
     "name": "stdout",
     "output_type": "stream",
     "text": [
      "0     1\n",
      "1     2\n",
      "2     3\n",
      "3     4\n",
      "4     5\n",
      "5     6\n",
      "6     7\n",
      "7     8\n",
      "8     9\n",
      "9    10\n",
      "dtype: int64\n"
     ]
    }
   ],
   "source": [
    "#Q2. Create a variable of list type containing 10 elements in it, and apply pandas.Series function on the variable print it.\n",
    "\n",
    "import pandas as pd\n",
    "\n",
    "my_list = [1, 2, 3, 4, 5, 6, 7, 8, 9, 10]\n",
    "series = pd.Series(my_list)\n",
    "print(series)\n"
   ]
  },
  {
   "cell_type": "code",
   "execution_count": 3,
   "id": "915e29f6",
   "metadata": {},
   "outputs": [
    {
     "name": "stdout",
     "output_type": "stream",
     "text": [
      "     Name  Age  Gender\n",
      "0   Alice   25  Female\n",
      "1     Bob   30    Male\n",
      "2  Claire   27  Female\n"
     ]
    }
   ],
   "source": [
    "# Q3.\n",
    "\n",
    "import pandas as pd\n",
    "\n",
    "data = {\n",
    "    'Name': ['Alice', 'Bob', 'Claire'],\n",
    "    'Age': [25, 30, 27],\n",
    "    'Gender': ['Female', 'Male', 'Female']\n",
    "}\n",
    "\n",
    "df = pd.DataFrame(data)\n",
    "print(df)\n"
   ]
  },
  {
   "cell_type": "code",
   "execution_count": 4,
   "id": "9d4a240f",
   "metadata": {},
   "outputs": [
    {
     "name": "stdout",
     "output_type": "stream",
     "text": [
      "    Name  Age      City\n",
      "0   John   25  New York\n",
      "1   Emma   28    London\n",
      "2  Peter   32     Paris\n",
      "0    25\n",
      "1    28\n",
      "2    32\n",
      "Name: Age, dtype: int64\n"
     ]
    }
   ],
   "source": [
    "#Q4. What is ‘DataFrame’ in pandas and how is it different from pandas.series? Explain with an example.\n",
    "\n",
    "\"\"\"In Pandas, a DataFrame is a two-dimensional labeled data structure that can store data of different types (numeric, string, \n",
    "boolean, etc.) in columns. It is similar to a table or a spreadsheet, where each column represents a different variable or \n",
    "feature, and each row represents an observation or data point.\n",
    "\n",
    "A Series is a one-dimensional labeled array in Pandas that can store data of a single data type. It can be thought of as \n",
    "a single column of a DataFrame. The Series object is labeled, meaning it can have an index that provides a unique label or \n",
    "identifier for each data point in the Series.\"\"\"\n",
    "\n",
    "import pandas as pd\n",
    "\n",
    "# Creating a DataFrame\n",
    "data = {\n",
    "    'Name': ['John', 'Emma', 'Peter'],\n",
    "    'Age': [25, 28, 32],\n",
    "    'City': ['New York', 'London', 'Paris']\n",
    "}\n",
    "df = pd.DataFrame(data)\n",
    "print(df)\n",
    "\n",
    "# Creating a Series\n",
    "ages = pd.Series([25, 28, 32], name='Age')\n",
    "print(ages)"
   ]
  },
  {
   "cell_type": "markdown",
   "id": "679a2da0",
   "metadata": {},
   "source": [
    "Q5. What are some common functions you can use to manipulate data in a Pandas DataFrame? Can you give an example of when you \n",
    "might use one of these functions?\n",
    "\n",
    "head() - Returns the first n rows of the DataFrame. Useful for quickly inspecting the data.\n",
    "Example: df.head(5) returns the first 5 rows of the DataFrame.\n",
    "\n",
    "tail() - Returns the last n rows of the DataFrame. Useful for quickly inspecting the end of the data.\n",
    "Example: df.tail(3) returns the last 3 rows of the DataFrame.\n",
    "\n",
    "info() - Provides information about the DataFrame, such as column names, data types, and memory usage.\n",
    "Example: df.info() prints the summary information about the DataFrame.\n",
    "\n",
    "describe() - Generates descriptive statistics of the numerical columns in the DataFrame, such as count, mean, min, max, etc.\n",
    "Example: df.describe() generates summary statistics for numerical columns.\n",
    "\n",
    "shape - Returns the dimensions (number of rows and columns) of the DataFrame.\n",
    "Example: df.shape returns the tuple (number of rows, number of columns) of the DataFrame.\n",
    "\n",
    "drop() - Drops specified rows or columns from the DataFrame.\n",
    "Example: df.drop(['column_name'], axis=1) drops a specific column from the DataFrame.\n",
    "\n",
    "fillna() - Fills missing values in the DataFrame with a specified value or method.\n",
    "Example: df.fillna(0) replaces all missing values with 0 in the DataFrame.\n",
    "\n",
    "groupby() - Groups the DataFrame by one or more columns and allows for aggregation operations on the grouped data.\n",
    "\n",
    "Example: df.groupby('column_name').mean() calculates the mean of numerical columns grouped by a specific column.\n",
    "\n",
    "\n"
   ]
  },
  {
   "cell_type": "markdown",
   "id": "d2f51438",
   "metadata": {},
   "source": [
    "Q6. Which of the following is mutable in nature Series, DataFrame, Panel?\n",
    "\n",
    "Series: Immutable (values cannot be changed after creation)\n",
    "\n",
    "DataFrame: Mutable (values can be modified after creation)\n",
    "\n",
    "Panel: Mutable (values can be modified after creation)\n",
    "\n",
    "Q7. Create a DataFrame using multiple Series. Explain with an example.\n",
    "\n"
   ]
  },
  {
   "cell_type": "code",
   "execution_count": 5,
   "id": "e2bb014a",
   "metadata": {},
   "outputs": [
    {
     "name": "stdout",
     "output_type": "stream",
     "text": [
      "    Name  Age      City\n",
      "0   John   25  New York\n",
      "1   Emma   28    London\n",
      "2  Peter   32     Paris\n"
     ]
    }
   ],
   "source": [
    "import pandas as pd\n",
    "\n",
    "name_series = pd.Series(['John', 'Emma', 'Peter'])\n",
    "age_series = pd.Series([25, 28, 32])\n",
    "city_series = pd.Series(['New York', 'London', 'Paris'])\n",
    "\n",
    "data = {\n",
    "    'Name': name_series,\n",
    "    'Age': age_series,\n",
    "    'City': city_series\n",
    "}\n",
    "df = pd.DataFrame(data)\n",
    "\n",
    "print(df)\n"
   ]
  },
  {
   "cell_type": "code",
   "execution_count": null,
   "id": "b190799d",
   "metadata": {},
   "outputs": [],
   "source": []
  }
 ],
 "metadata": {
  "kernelspec": {
   "display_name": "Python 3 (ipykernel)",
   "language": "python",
   "name": "python3"
  },
  "language_info": {
   "codemirror_mode": {
    "name": "ipython",
    "version": 3
   },
   "file_extension": ".py",
   "mimetype": "text/x-python",
   "name": "python",
   "nbconvert_exporter": "python",
   "pygments_lexer": "ipython3",
   "version": "3.9.13"
  }
 },
 "nbformat": 4,
 "nbformat_minor": 5
}
