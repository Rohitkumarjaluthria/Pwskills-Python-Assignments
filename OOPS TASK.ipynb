{
 "cells": [
  {
   "cell_type": "markdown",
   "id": "9eaa5d01",
   "metadata": {},
   "source": [
    "# Q1 Create a vehicle class with an init method having instance variables as name_of_vehicle, max_speed and average_of_vehicle."
   ]
  },
  {
   "cell_type": "code",
   "execution_count": 1,
   "id": "18c5ca7f",
   "metadata": {},
   "outputs": [],
   "source": [
    "class Vehicle:\n",
    "    def __init__(self, name_of_vehicle, max_speed, average_of_vehicle):\n",
    "        self.name_of_vehicle = name_of_vehicle\n",
    "        self.max_speed = max_speed\n",
    "        self.average_of_vehicle = average_of_vehicle\n",
    "\n",
    "car = Vehicle(\"Car\", 200, 30)\n",
    "bike = Vehicle(\"Bike\", 150, 20)"
   ]
  },
  {
   "cell_type": "markdown",
   "id": "c2418206",
   "metadata": {},
   "source": [
    "# Q2. Create a child class car from the vehicle class created in Que 1, which will inherit the vehicle class. Create a method named seating_capacity which takes capacity as an argument and returns the name of the vehicle and its seating capacity."
   ]
  },
  {
   "cell_type": "code",
   "execution_count": 2,
   "id": "9d20aee2",
   "metadata": {},
   "outputs": [
    {
     "name": "stdout",
     "output_type": "stream",
     "text": [
      "The Car has a seating capacity of 5 people.\n"
     ]
    }
   ],
   "source": [
    "class Car(Vehicle):\n",
    "    def __init__(self, name_of_vehicle, max_speed, average_of_vehicle):\n",
    "        super().__init__(name_of_vehicle, max_speed, average_of_vehicle)\n",
    "   \n",
    "    def seating_capacity(self, capacity):\n",
    "        return f\"The {self.name_of_vehicle} has a seating capacity of {capacity} people.\"\n",
    "\n",
    "\n",
    "car = Car(\"Car\", 200, 30)\n",
    "print(car.seating_capacity(5))\n"
   ]
  },
  {
   "cell_type": "markdown",
   "id": "8011dfa1",
   "metadata": {},
   "source": [
    "# Q3. What is multiple inheritance? Write a python code to demonstrate multiple inheritance."
   ]
  },
  {
   "cell_type": "code",
   "execution_count": 4,
   "id": "b4333a4c",
   "metadata": {},
   "outputs": [
    {
     "name": "stdout",
     "output_type": "stream",
     "text": [
      "This is method 1 from Base1\n",
      "This is method 2 from Base2\n",
      "This is method 3 from Derived\n"
     ]
    }
   ],
   "source": [
    "'''Multiple inheritance is a feature in object-oriented programming where a class can inherit attributes \n",
    "and methods from multiple parent classes. This allows a class to inherit and combine functionalities from multiple sources.'''\n",
    "\n",
    "class Base1:\n",
    "    def method1(self):\n",
    "        print(\"This is method 1 from Base1\")\n",
    "\n",
    "\n",
    "class Base2:\n",
    "    def method2(self):\n",
    "        print(\"This is method 2 from Base2\")\n",
    "\n",
    "\n",
    "class Derived(Base1, Base2):\n",
    "    def method3(self):\n",
    "        print(\"This is method 3 from Derived\")\n",
    "\n",
    "# Creating an object of the Derived class\n",
    "obj = Derived()\n",
    "\n",
    "# Calling methods from Base1\n",
    "obj.method1()\n",
    "\n",
    "# Calling methods from Base2\n",
    "obj.method2()\n",
    "\n",
    "# Calling method from Derived\n",
    "obj.method3()"
   ]
  },
  {
   "cell_type": "markdown",
   "id": "302098a7",
   "metadata": {},
   "source": [
    "# Q4. What are getter and setter in python? Create a class and create a getter and a setter method in this class."
   ]
  },
  {
   "cell_type": "markdown",
   "id": "f0dbc2ae",
   "metadata": {},
   "source": [
    "Getters and setters are methods used to access and modify the attributes (variables) of a class. They provide an interface to retrieve and update the values of private attributes, encapsulating the internal details of the class.\n",
    "\n",
    "A getter method, also known as an accessor method, is used to retrieve the value of an attribute. It provides read-only access to the attribute's value.\n",
    "\n",
    "A setter method, also known as a mutator method, is used to modify the value of an attribute. It provides a way to update the attribute's value."
   ]
  },
  {
   "cell_type": "code",
   "execution_count": 5,
   "id": "e3b33636",
   "metadata": {},
   "outputs": [
    {
     "name": "stdout",
     "output_type": "stream",
     "text": [
      "John\n",
      "Alice\n"
     ]
    }
   ],
   "source": [
    "class Person:\n",
    "    def __init__(self, name):\n",
    "        self._name = name  # Private attribute\n",
    "\n",
    "    # Getter method\n",
    "    def get_name(self):\n",
    "        return self._name\n",
    "\n",
    "    # Setter method\n",
    "    def set_name(self, new_name):\n",
    "        self._name = new_name\n",
    "\n",
    "# Create an object of the Person class\n",
    "person = Person(\"John\")\n",
    "\n",
    "# Get the name using the getter method\n",
    "print(person.get_name()) \n",
    "\n",
    "# Set a new name using the setter method\n",
    "person.set_name(\"Alice\")\n",
    "\n",
    "# Get the updated name using the getter method\n",
    "print(person.get_name()) \n"
   ]
  },
  {
   "cell_type": "markdown",
   "id": "cc69d7ed",
   "metadata": {},
   "source": [
    "# Q5.What is method overriding in python? Write a python code to demonstrate method overriding."
   ]
  },
  {
   "cell_type": "markdown",
   "id": "a82d6382",
   "metadata": {},
   "source": [
    "Method overriding in Python is a feature of object-oriented programming where a derived class defines a method with the same name as a method in its base class, thereby overriding the implementation of the base class method. This allows the derived class to provide its own implementation of the method, which is specific to the derived class."
   ]
  },
  {
   "cell_type": "code",
   "execution_count": 8,
   "id": "41068bf8",
   "metadata": {},
   "outputs": [
    {
     "name": "stdout",
     "output_type": "stream",
     "text": [
      "Area of rectangle: 50\n",
      "Area of circle: 153.86\n"
     ]
    }
   ],
   "source": [
    "class Shape:\n",
    "    def area(self):\n",
    "        print(\"Calculating area of shape\")\n",
    "\n",
    "class Rectangle(Shape):\n",
    "    def area(self):\n",
    "        length = 10\n",
    "        breadth = 5\n",
    "        area = length * breadth\n",
    "        print(\"Area of rectangle:\", area)\n",
    "\n",
    "class Circle(Shape):\n",
    "    def area(self):\n",
    "        radius = 7\n",
    "        area = 3.14 * radius * radius\n",
    "        print(\"Area of circle:\", area)\n",
    "\n",
    "# Create objects of the derived classes\n",
    "rectangle = Rectangle()\n",
    "circle = Circle()\n",
    "\n",
    "# Call the area() method of the derived classes\n",
    "rectangle.area() \n",
    "circle.area()   \n"
   ]
  },
  {
   "cell_type": "code",
   "execution_count": null,
   "id": "0ccfff4b",
   "metadata": {},
   "outputs": [],
   "source": []
  }
 ],
 "metadata": {
  "kernelspec": {
   "display_name": "Python 3 (ipykernel)",
   "language": "python",
   "name": "python3"
  },
  "language_info": {
   "codemirror_mode": {
    "name": "ipython",
    "version": 3
   },
   "file_extension": ".py",
   "mimetype": "text/x-python",
   "name": "python",
   "nbconvert_exporter": "python",
   "pygments_lexer": "ipython3",
   "version": "3.9.13"
  }
 },
 "nbformat": 4,
 "nbformat_minor": 5
}
