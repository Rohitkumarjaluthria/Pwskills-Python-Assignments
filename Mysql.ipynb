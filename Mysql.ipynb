{
 "cells": [
  {
   "cell_type": "markdown",
   "id": "767bd84d",
   "metadata": {},
   "source": [
    "\n",
    "Q1. What is a database? Differentiate between SQL and NoSQL databases.\n",
    "\n",
    "A database is a structured collection of data that is organized, stored, and managed to serve various applications efficiently. It provides a way to store and retrieve data reliably and securely.\n",
    "\n",
    "SQL (Structured Query Language) databases are relational databases that use a tabular structure to organize and store data. They follow a predefined schema and use SQL for querying and manipulating data. SQL databases are known for their strong consistency, ACID (Atomicity, Consistency, Isolation, Durability) properties, and support for complex transactions. Examples of SQL databases include MySQL, PostgreSQL, Oracle.\n",
    "\n",
    "NoSQL (Not Only SQL) databases, on the other hand, are non-relational databases that do not rely on a fixed schema. They provide flexibility in handling unstructured or semi-structured data and are designed to scale horizontally. NoSQL databases use various data models such as key-value, document, columnar, or graph. They offer high scalability, performance, and flexibility but may sacrifice some level of consistency. Examples of NoSQL databases include MongoDB, Cassandra, Redis."
   ]
  },
  {
   "cell_type": "markdown",
   "id": "9c98e5e9",
   "metadata": {},
   "source": [
    "Q2. What is DDL? Explain why CREATE, DROP, ALTER, and TRUNCATE are used with an example.\n",
    "\n",
    "DDL (Data Definition Language) is a set of SQL commands used to define and manage the structure of a database. DDL statements are used to create, modify, and delete database objects such as tables, indexes, views, and schemas.\n",
    "\n",
    "CREATE: The CREATE statement is used to create new database objects. For example, to create a table named \"users\" with columns for \"id\" and \"name\", the following SQL statement can be used:\n",
    "\n"
   ]
  },
  {
   "cell_type": "markdown",
   "id": "cbbe4745",
   "metadata": {},
   "source": [
    "CREATE TABLE users (\n",
    "  id INT PRIMARY KEY,\n",
    "  name VARCHAR(50)\n",
    ");\n",
    "\n",
    "DROP: The DROP statement is used to delete existing database objects. For example, to drop the \"users\" table, the following SQL statement can be used:\n",
    "\n",
    "DROP TABLE users;\n",
    "\n",
    "ALTER: The ALTER statement is used to modify the structure of an existing database object. For example, to add a new column \"email\" to the \"users\" table, the following SQL statement can be used:\n",
    "\n",
    "ALTER TABLE users ADD COLUMN email VARCHAR(100);\n",
    "\n",
    "TRUNCATE: The TRUNCATE statement is used to delete all the data from a table while keeping the table structure intact. For example, to remove all data from the \"users\" table, the following SQL statement can be used:\n",
    "\n",
    "TRUNCATE TABLE users;"
   ]
  },
  {
   "cell_type": "markdown",
   "id": "3a0e10d1",
   "metadata": {},
   "source": [
    "Q3. What is DML? Explain INSERT, UPDATE, and DELETE with an example.\n",
    "\n",
    "DML (Data Manipulation Language) is a set of SQL commands used to manipulate the data stored in the database. DML statements are used to insert, update, and delete data from database tables.\n",
    "\n",
    "INSERT: The INSERT statement is used to add new rows of data into a table. For example, to insert a new user with the values \"John\" for the \"name\" column and 25 for the \"age\" column into the \"users\" table, the following SQL statement can be used:\n",
    "\n",
    "INSERT INTO users (name, age) VALUES ('John', 25);\n",
    "\n",
    "UPDATE: The UPDATE statement is used to modify existing data in a table. For example, to update the \"age\" of a user with the name \"John\" to 30, the following SQL statement can be used:\n",
    "\n",
    "UPDATE users SET age = 30 WHERE name = 'John';\n",
    "\n",
    "DELETE: The DELETE statement is used to remove rows from a table. For example, to delete all users with an age greater than 40 from the \"users\" table, the following SQL statement can be used:\n",
    "\n",
    "DELETE FROM users WHERE age > 40;"
   ]
  },
  {
   "cell_type": "markdown",
   "id": "6e036316",
   "metadata": {},
   "source": [
    "Q4. What is DQL? Explain SELECT with an example.\n",
    "\n",
    "DQL (Data Query Language) is a set of SQL commands used to retrieve data from a database. DQL statements are primarily focused on querying the database and fetching specific data based on specified criteria.\n",
    "\n",
    "SELECT: The SELECT statement is used to retrieve data from one or more tables in the database. It allows you to specify the columns to retrieve, the table(s) to query, and any filtering or sorting criteria. For example, to select all columns from the \"users\" table, the following SQL statement can be used:\n",
    "\n",
    "SELECT * FROM users;"
   ]
  },
  {
   "cell_type": "markdown",
   "id": "dea9cede",
   "metadata": {},
   "source": [
    "Q5. Explain Primary Key and Foreign Key.\n",
    "\n",
    "Primary Key: A primary key is a column or a set of columns that uniquely identifies each row in a table. It ensures the uniqueness and integrity of the data within a table. A primary key constraint enforces the primary key property. For example, in a \"users\" table, an \"id\" column can be defined as the primary key to uniquely identify each user.\n",
    "\n",
    "Foreign Key: A foreign key is a column or a set of columns in a table that refers to the primary key of another table. It establishes a relationship between two tables by enforcing referential integrity. It ensures that the values in the foreign key column(s) match with the values in the primary key column(s) of the referenced table. For example, in a \"orders\" table, a \"user_id\" column can be defined as a foreign key that references the \"id\" column in the \"users\" table. This establishes a relationship between orders and users, ensuring that only valid user IDs can be inserted in the \"user_id\" column.\n",
    "\n",
    "Q6. Write a Python code to connect MySQL to Python. Explain the cursor() and execute() method.\n",
    "\n",
    "To connect Python to MySQL, you can use the mysql-connector-python package. Here's an example code:\n"
   ]
  },
  {
   "cell_type": "markdown",
   "id": "8423e670",
   "metadata": {},
   "source": [
    "import mysql.connector\n",
    "\n",
    "conn = mysql.connector.connect(\n",
    "    host=\"localhost\",\n",
    "    user=\"your_username\",\n",
    "    password=\"your_password\",\n",
    "    database=\"your_database\"\n",
    ")\n",
    "\n",
    "cursor = conn.cursor()\n",
    "\n",
    "cursor.execute(\"SELECT * FROM users\")\n",
    "\n",
    "rows = cursor.fetchall()\n",
    "for row in rows:\n",
    "    print(row)\n",
    "\n",
    "cursor.close()\n",
    "conn.close()"
   ]
  },
  {
   "cell_type": "code",
   "execution_count": null,
   "id": "ce84e853",
   "metadata": {},
   "outputs": [],
   "source": []
  }
 ],
 "metadata": {
  "kernelspec": {
   "display_name": "Python 3 (ipykernel)",
   "language": "python",
   "name": "python3"
  },
  "language_info": {
   "codemirror_mode": {
    "name": "ipython",
    "version": 3
   },
   "file_extension": ".py",
   "mimetype": "text/x-python",
   "name": "python",
   "nbconvert_exporter": "python",
   "pygments_lexer": "ipython3",
   "version": "3.9.13"
  }
 },
 "nbformat": 4,
 "nbformat_minor": 5
}
