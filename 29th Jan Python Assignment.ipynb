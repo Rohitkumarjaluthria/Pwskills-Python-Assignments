{
 "cells": [
  {
   "cell_type": "markdown",
   "id": "95d41017",
   "metadata": {},
   "source": [
    "# Q1. Who developed Python Programming Language?"
   ]
  },
  {
   "cell_type": "markdown",
   "id": "b7e00f7a",
   "metadata": {},
   "source": [
    "Python programming language was developed by Guido van Rossum in the late 1980s and early 1990s. Guido van Rossum is a Dutch programmer, and he is often referred to as the \"Benevolent Dictator For Life\" (BDFL) of the Python community. He designed and implemented Python with the goal of creating a language that emphasizes simplicity, readability, and code maintainability. Guido van Rossum released the first version of Python (Python 0.9.0) in 1991, and he continued to lead the development of Python until he stepped down as the BDFL in 2018."
   ]
  },
  {
   "cell_type": "markdown",
   "id": "5a8f0d2f",
   "metadata": {},
   "source": [
    "# Q2. Which type of Programming does Python support? "
   ]
  },
  {
   "cell_type": "markdown",
   "id": "58c6ae6c",
   "metadata": {},
   "source": [
    "Python supports multiple programming paradigms including procedural programming, object-oriented programming (OOP), and functional programming."
   ]
  },
  {
   "cell_type": "markdown",
   "id": "5de68c55",
   "metadata": {},
   "source": [
    "# Q3. Is Python case sensitive when dealing with identifiers? \n"
   ]
  },
  {
   "cell_type": "markdown",
   "id": "60171ff3",
   "metadata": {},
   "source": [
    "\n",
    "Yes, Python is case-sensitive when dealing with identifiers. This means that variables, function names, class names, and other identifiers in Python are distinguished by their case. For example, the variables \"myVariable\" and \"myvariable\" are considered as two different variables in Python. It is important to use consistent and correct capitalization when referencing identifiers in Python code."
   ]
  },
  {
   "cell_type": "markdown",
   "id": "3a7a354d",
   "metadata": {},
   "source": [
    "# Q4. What is the correct extension of the Python file? \n"
   ]
  },
  {
   "cell_type": "markdown",
   "id": "6a59cf31",
   "metadata": {},
   "source": [
    "The correct extension for a Python file is \".py\". When saving a Python file, it is recommended to use the \".py\" extension at the end of the file name. "
   ]
  },
  {
   "cell_type": "markdown",
   "id": "956d89b9",
   "metadata": {},
   "source": [
    "# Q5. Is Python code compiled or interpreted? \n"
   ]
  },
  {
   "cell_type": "markdown",
   "id": "aa96732a",
   "metadata": {},
   "source": [
    "Python code is both compiled and interpreted. It is compiled into bytecode, which is then executed by the Python interpreter."
   ]
  },
  {
   "cell_type": "markdown",
   "id": "5134fc6b",
   "metadata": {},
   "source": [
    "# Q6. Name a few blocks of code used to define in Python language? \n"
   ]
  },
  {
   "cell_type": "markdown",
   "id": "eca08bcd",
   "metadata": {},
   "source": [
    "In Python, the main blocks of code are:\n",
    "\n",
    "Function Definitions: Used to define functions in Python. They start with the \"def\" keyword followed by the function name and a colon. The code block is indented below the function definition.\n",
    "\n",
    "Conditional Statements: Used to perform actions based on certain conditions. They include \"if,\" \"elif,\" and \"else\" statements. The code block is indented below each condition.\n",
    "\n",
    "Loops: Used to iterate over a sequence of elements or repeat a block of code until a certain condition is met. Python has \"for\" and \"while\" loops. The code block is indented below the loop statement.\n",
    "\n",
    "Class Definitions: Used to define classes and their attributes and methods. They start with the \"class\" keyword followed by the class name and a colon. The code block is indented below the class definition."
   ]
  },
  {
   "cell_type": "markdown",
   "id": "57221789",
   "metadata": {},
   "source": [
    "# Q7. State a character used to give single-line comments in Python? \n"
   ]
  },
  {
   "cell_type": "markdown",
   "id": "1499382b",
   "metadata": {},
   "source": [
    "The character \"#\" is used to give single-line comments in Python. Any text following the \"#\" character on the same line is considered a comment and is ignored by the Python interpreter."
   ]
  },
  {
   "cell_type": "markdown",
   "id": "a9e5afa5",
   "metadata": {},
   "source": [
    "# Q8. Mention functions which can help us to find the version of python that we are currently working on? "
   ]
  },
  {
   "cell_type": "markdown",
   "id": "6f7bdfb9",
   "metadata": {},
   "source": [
    "The functions that can help you find the version of Python you are currently working on are:\n",
    "\n",
    "**sys.version:** Returns a string representing the version number of the current Python interpreter.\n",
    "    \n",
    "**platform.python_version():** Returns a string representing the version number of the current Python interpreter.\n",
    "\n",
    "**sys.version_info:** Returns a tuple containing the individual components of the Python version."
   ]
  },
  {
   "cell_type": "markdown",
   "id": "9aa5b062",
   "metadata": {},
   "source": [
    "# 9. Python supports the creation of anonymous functions at runtime, using a construct called ?\n"
   ]
  },
  {
   "cell_type": "markdown",
   "id": "283f0287",
   "metadata": {},
   "source": [
    "Python supports the creation of anonymous functions at runtime using the \"lambda\" keyword. Lambda functions are used when you need a small, one-time function without the need for a formal function definition. They are defined using the lambda keyword, followed by a list of parameters, a colon, and the expression to be evaluated. Lambda functions are often used with higher-order functions or when a function is required as an argument."
   ]
  },
  {
   "cell_type": "markdown",
   "id": "7fb239bc",
   "metadata": {},
   "source": [
    "# 10. What does pip stand for python? \n"
   ]
  },
  {
   "cell_type": "markdown",
   "id": "7770a888",
   "metadata": {},
   "source": [
    "PIP stands for \"Pip Installs Packages\". It is a package manager for Python that allows you to install, manage, and uninstall Python packages or modules from the Python Package Index (PyPI)."
   ]
  },
  {
   "cell_type": "markdown",
   "id": "00d4a1c9",
   "metadata": {},
   "source": [
    "# 11. Mention a few built-in functions in python? \n"
   ]
  },
  {
   "cell_type": "markdown",
   "id": "b679df65",
   "metadata": {},
   "source": [
    "Python provides a rich set of built-in functions that are readily available for use without requiring any additional import. Here are a few commonly used built-in functions in Python:\n",
    "\n",
    "**print():** Used to print the specified values or variables to the standard output.\n",
    "\n",
    "**len():** Returns the length or number of elements in an object such as a string, list, or tuple.\n",
    "\n",
    "**input():** Reads a line of text or user input from the standard input and returns it as a string.\n",
    "\n",
    "**int():** Converts a specified value to an integer.\n",
    "\n",
    "**float():** Converts a specified value to a floating-point number.\n",
    "\n",
    "**str():** Converts a specified value to a string.\n",
    "\n",
    "**type():** Returns the type of an object.\n",
    "\n",
    "**range():** Generates a sequence of numbers within a specified range.\n",
    "\n",
    "**max():** Returns the maximum value from a sequence or a set of arguments.\n",
    "\n",
    "**min():** Returns the minimum value from a sequence or a set of arguments."
   ]
  },
  {
   "cell_type": "markdown",
   "id": "0c0448f8",
   "metadata": {},
   "source": [
    "# 12. What is the maximum possible length of an identifier in Python? \n"
   ]
  },
  {
   "cell_type": "markdown",
   "id": "7aed815c",
   "metadata": {},
   "source": [
    "There is no fixed maximum length for identifiers in Python. The length of an identifier can be of any size, but it is recommended to keep them reasonably short and meaningful for better code readability."
   ]
  },
  {
   "cell_type": "markdown",
   "id": "9730d594",
   "metadata": {},
   "source": [
    "# 13. What are the benefits of using Python? \n"
   ]
  },
  {
   "cell_type": "markdown",
   "id": "8ca27a27",
   "metadata": {},
   "source": [
    "The benefits of using Python include its simplicity and readability, a vast library ecosystem, platform independence, strong community support, integration capabilities, versatility, and improved productivity and efficiency."
   ]
  },
  {
   "cell_type": "markdown",
   "id": "f8819873",
   "metadata": {},
   "source": [
    "# 14. How is memory managed in Python? \n"
   ]
  },
  {
   "cell_type": "markdown",
   "id": "5da6812f",
   "metadata": {},
   "source": [
    "Memory management in Python is handled automatically through a combination of reference counting and garbage collection. Python keeps track of the number of references to objects and automatically frees memory when objects are no longer needed. The garbage collector handles situations where reference counting alone is not sufficient, ensuring that memory occupied by unreachable objects is reclaimed. This automatic memory management system relieves programmers from manually allocating and deallocating memory."
   ]
  },
  {
   "cell_type": "markdown",
   "id": "665aae24",
   "metadata": {},
   "source": [
    "# 15. How to install Python on Windows and set path variables? 16. Is indentation required in python? \n"
   ]
  },
  {
   "cell_type": "markdown",
   "id": "1c80cc85",
   "metadata": {},
   "source": [
    "**To install Python on Windows and set path variables, you can follow these steps:**\n",
    "\n",
    "Visit the official Python website at https://www.python.org/downloads/ and download the latest version of Python for Windows.\n",
    "\n",
    "Run the downloaded installer and follow the installation wizard.\n",
    "\n",
    "On the installation wizard, make sure to check the box that says \"Add Python to PATH\" or \"Add Python to environment variables.\" This will automatically set the necessary path variables for Python.\n",
    "\n",
    "Customize the installation if desired, and proceed with the installation process.\n",
    "\n",
    "Once the installation is complete, you can open the command prompt and type \"python\" to verify that Python is installed and the path variables are set correctly. You should see the Python interactive shell open.\n",
    "\n",
    "**Setting the path variables manually:**\n",
    "\n",
    "If you didn't select the option to automatically set the path variables during installation, you can set them manually by following these steps:\n",
    "\n",
    "Open the Start menu and search for \"Environment Variables.\"\n",
    "\n",
    "Select the \"Edit the system environment variables\" option.\n",
    "\n",
    "In the System Properties window, click on the \"Environment Variables\" button.\n",
    "\n",
    "In the \"User variables\" section, click on \"New\" to add a new variable.\n",
    "\n",
    "Set the variable name as \"PYTHON_HOME\" (or any other name you prefer) and the variable value as the path where Python is installed (e.g., C:\\Python39).\n",
    "\n",
    "In the \"System variables\" section, locate the \"Path\" variable and click on \"Edit.\"\n",
    "\n",
    "Add the following entry at the end of the \"Variable value\" field: \"%PYTHON_HOME%;%PYTHON_HOME%\\Scripts\"\n",
    "\n",
    "Click \"OK\" to save the changes.\n",
    "\n",
    "Close all the windows and restart your computer to apply the changes.\n",
    "\n",
    "After following these steps, Python will be installed on your Windows system and the path variables will be set, allowing you to run Python from any directory in the command prompt."
   ]
  },
  {
   "cell_type": "markdown",
   "id": "4e504e5e",
   "metadata": {},
   "source": [
    "# 16. Is indentation required in python?"
   ]
  },
  {
   "cell_type": "markdown",
   "id": "6aa5cb0c",
   "metadata": {},
   "source": [
    "Yes, indentation is required in Python. Python uses indentation to define the structure and grouping of code blocks. It is used to determine which statements belong to a particular code block, such as loops, conditionals, functions, and classes. The standard convention in Python is to use four spaces for indentation."
   ]
  },
  {
   "cell_type": "code",
   "execution_count": null,
   "id": "e6e61192",
   "metadata": {},
   "outputs": [],
   "source": []
  }
 ],
 "metadata": {
  "kernelspec": {
   "display_name": "Python 3 (ipykernel)",
   "language": "python",
   "name": "python3"
  },
  "language_info": {
   "codemirror_mode": {
    "name": "ipython",
    "version": 3
   },
   "file_extension": ".py",
   "mimetype": "text/x-python",
   "name": "python",
   "nbconvert_exporter": "python",
   "pygments_lexer": "ipython3",
   "version": "3.9.13"
  }
 },
 "nbformat": 4,
 "nbformat_minor": 5
}
